{
 "cells": [
  {
   "cell_type": "markdown",
   "id": "a54747a0",
   "metadata": {},
   "source": [
    "Идентификация пользователей по посещенным веб-страницам"
   ]
  },
  {
   "cell_type": "markdown",
   "id": "60537128",
   "metadata": {},
   "source": [
    "В этом проекте мы будем решать задачу идентификации пользователя по его поведению в сети Интернет.\n",
    "\n",
    "Мы будем решать следующую задачу: по последовательности из нескольких веб-сайтов, посещенных подряд один и тем же человеком, мы будем идентифицировать этого человека. Идея такая: пользователи Интернета по-разному переходят по ссылкам, и это может помогать их идентифицировать (кто-то сначала в почту, потом про футбол почитать, затем новости, контакт, потом наконец – работать, кто-то – сразу работать).\n",
    "\n",
    "Имеются данные с прокси-серверов Университета Блеза Паскаля, они имеют очень простой вид. Для каждого пользователя заведен csv-файл с названием user****.csv (где вместо звездочек – 4 цифры, соответствующие ID пользователя), а в нем посещения сайтов записаны в следующем формате:\n",
    "\n",
    "*timestamp, посещенный веб-сайт*\n",
    "\n",
    "Данные устроены следующем образом:\n",
    "\n",
    "В каталоге 10users лежат 10 csv-файлов с названием вида \"user[USER_ID].csv\", где [USER_ID] – ID пользователя;\n",
    "Аналогично для каталога 150users – там 150 файлов;\n",
    "В каталоге 3users – игрушечный пример из 3 файлов для отладки кода предобработки"
   ]
  },
  {
   "cell_type": "markdown",
   "id": "4b5520c4",
   "metadata": {},
   "source": [
    "Для воспроизводимости работы отобразим текущую версию используемых в работе инструментов"
   ]
  },
  {
   "cell_type": "code",
   "execution_count": 301,
   "id": "cf8299af",
   "metadata": {},
   "outputs": [],
   "source": [
    "%load_ext watermark"
   ]
  },
  {
   "cell_type": "code",
   "execution_count": 302,
   "id": "700d5168",
   "metadata": {},
   "outputs": [
    {
     "name": "stdout",
     "output_type": "stream",
     "text": [
      "Python implementation: CPython\n",
      "Python version       : 3.9.7\n",
      "IPython version      : 7.29.0\n",
      "\n",
      "numpy      : 1.20.3\n",
      "scipy      : 1.7.1\n",
      "pandas     : 1.3.4\n",
      "matplotlib : 3.4.3\n",
      "statsmodels: 0.12.2\n",
      "sklearn    : 0.24.2\n",
      "\n",
      "Compiler    : MSC v.1916 64 bit (AMD64)\n",
      "OS          : Windows\n",
      "Release     : 8.1\n",
      "Machine     : AMD64\n",
      "Processor   : Intel64 Family 6 Model 69 Stepping 1, GenuineIntel\n",
      "CPU cores   : 4\n",
      "Architecture: 64bit\n",
      "\n"
     ]
    }
   ],
   "source": [
    "%watermark -v -m -p numpy,scipy,pandas,matplotlib,statsmodels,sklearn "
   ]
  },
  {
   "cell_type": "markdown",
   "id": "9df378eb",
   "metadata": {},
   "source": [
    "Импортируем необходимые библиотеки"
   ]
  },
  {
   "cell_type": "code",
   "execution_count": 3,
   "id": "a5f2c792",
   "metadata": {},
   "outputs": [],
   "source": [
    "import re\n",
    "import warnings\n",
    "warnings.filterwarnings('ignore')\n",
    "from glob import glob\n",
    "import os\n",
    "import pickle\n",
    "#pip install tqdm\n",
    "from tqdm import tqdm_notebook\n",
    "import numpy as np\n",
    "import pandas as pd\n",
    "from scipy.sparse import csr_matrix\n",
    "import seaborn as sns\n",
    "import matplotlib.pyplot as plt\n",
    "from sklearn.model_selection import train_test_split, cross_val_score, StratifiedKFold, GridSearchCV\n",
    "from sklearn.neighbors import KNeighborsClassifier\n",
    "from sklearn.ensemble import RandomForestClassifier\n",
    "from sklearn.linear_model import LogisticRegression, LogisticRegressionCV\n",
    "import matplotlib.pyplot as plt\n",
    "from sklearn.metrics import accuracy_score\n",
    "from sklearn.svm import LinearSVC\n",
    "import itertools\n",
    "from sklearn.model_selection import learning_curve\n",
    "from sklearn.metrics import confusion_matrix\n",
    "from sklearn.metrics import precision_recall_curve\n",
    "from sklearn.metrics import auc\n",
    "from sklearn.metrics import roc_auc_score\n",
    "from sklearn.calibration import CalibratedClassifierCV\n",
    "from sklearn.svm import SVC\n",
    "from sklearn.metrics import auc, plot_precision_recall_curve\n",
    "from sklearn.metrics import make_scorer\n",
    "from sklearn.calibration import CalibratedClassifierCV\n",
    "from sklearn.svm import LinearSVC\n",
    "from sklearn.preprocessing import OneHotEncoder\n",
    "from scipy.sparse import hstack\n",
    "from sklearn.preprocessing import MinMaxScaler"
   ]
  },
  {
   "cell_type": "markdown",
   "id": "5ef66fd8",
   "metadata": {},
   "source": [
    "Посмотрим на один из файлов "
   ]
  },
  {
   "cell_type": "code",
   "execution_count": 7,
   "id": "705fdb9f",
   "metadata": {},
   "outputs": [],
   "source": [
    "PATH_TO_DATA = r\"E:\\Work\\Project_capstone\""
   ]
  },
  {
   "cell_type": "code",
   "execution_count": 305,
   "id": "763402e3",
   "metadata": {},
   "outputs": [],
   "source": [
    "user0031_data = pd.read_csv(os.path.join(PATH_TO_DATA, \n",
    "                                       r'10users\\user0031.csv'))"
   ]
  },
  {
   "cell_type": "code",
   "execution_count": 306,
   "id": "1f93e027",
   "metadata": {},
   "outputs": [
    {
     "data": {
      "text/html": [
       "<div>\n",
       "<style scoped>\n",
       "    .dataframe tbody tr th:only-of-type {\n",
       "        vertical-align: middle;\n",
       "    }\n",
       "\n",
       "    .dataframe tbody tr th {\n",
       "        vertical-align: top;\n",
       "    }\n",
       "\n",
       "    .dataframe thead th {\n",
       "        text-align: right;\n",
       "    }\n",
       "</style>\n",
       "<table border=\"1\" class=\"dataframe\">\n",
       "  <thead>\n",
       "    <tr style=\"text-align: right;\">\n",
       "      <th></th>\n",
       "      <th>timestamp</th>\n",
       "      <th>site</th>\n",
       "    </tr>\n",
       "  </thead>\n",
       "  <tbody>\n",
       "    <tr>\n",
       "      <th>0</th>\n",
       "      <td>2013-11-15 08:12:07</td>\n",
       "      <td>fpdownload2.macromedia.com</td>\n",
       "    </tr>\n",
       "    <tr>\n",
       "      <th>1</th>\n",
       "      <td>2013-11-15 08:12:17</td>\n",
       "      <td>laposte.net</td>\n",
       "    </tr>\n",
       "    <tr>\n",
       "      <th>2</th>\n",
       "      <td>2013-11-15 08:12:17</td>\n",
       "      <td>www.laposte.net</td>\n",
       "    </tr>\n",
       "    <tr>\n",
       "      <th>3</th>\n",
       "      <td>2013-11-15 08:12:17</td>\n",
       "      <td>www.google.com</td>\n",
       "    </tr>\n",
       "    <tr>\n",
       "      <th>4</th>\n",
       "      <td>2013-11-15 08:12:18</td>\n",
       "      <td>www.laposte.net</td>\n",
       "    </tr>\n",
       "    <tr>\n",
       "      <th>5</th>\n",
       "      <td>2013-11-15 08:12:38</td>\n",
       "      <td>www.laposte.net</td>\n",
       "    </tr>\n",
       "    <tr>\n",
       "      <th>6</th>\n",
       "      <td>2013-11-15 08:12:39</td>\n",
       "      <td>www.google.com</td>\n",
       "    </tr>\n",
       "    <tr>\n",
       "      <th>7</th>\n",
       "      <td>2013-11-15 08:12:39</td>\n",
       "      <td>www.laposte.net</td>\n",
       "    </tr>\n",
       "    <tr>\n",
       "      <th>8</th>\n",
       "      <td>2013-11-15 08:12:40</td>\n",
       "      <td>match.rtbidder.net</td>\n",
       "    </tr>\n",
       "    <tr>\n",
       "      <th>9</th>\n",
       "      <td>2013-11-15 08:12:40</td>\n",
       "      <td>www.laposte.net</td>\n",
       "    </tr>\n",
       "  </tbody>\n",
       "</table>\n",
       "</div>"
      ],
      "text/plain": [
       "             timestamp                        site\n",
       "0  2013-11-15 08:12:07  fpdownload2.macromedia.com\n",
       "1  2013-11-15 08:12:17                 laposte.net\n",
       "2  2013-11-15 08:12:17             www.laposte.net\n",
       "3  2013-11-15 08:12:17              www.google.com\n",
       "4  2013-11-15 08:12:18             www.laposte.net\n",
       "5  2013-11-15 08:12:38             www.laposte.net\n",
       "6  2013-11-15 08:12:39              www.google.com\n",
       "7  2013-11-15 08:12:39             www.laposte.net\n",
       "8  2013-11-15 08:12:40          match.rtbidder.net\n",
       "9  2013-11-15 08:12:40             www.laposte.net"
      ]
     },
     "execution_count": 306,
     "metadata": {},
     "output_type": "execute_result"
    }
   ],
   "source": [
    "user0031_data.head(10)"
   ]
  },
  {
   "cell_type": "code",
   "execution_count": 307,
   "id": "a6932ec5",
   "metadata": {},
   "outputs": [
    {
     "data": {
      "text/html": [
       "<div>\n",
       "<style scoped>\n",
       "    .dataframe tbody tr th:only-of-type {\n",
       "        vertical-align: middle;\n",
       "    }\n",
       "\n",
       "    .dataframe tbody tr th {\n",
       "        vertical-align: top;\n",
       "    }\n",
       "\n",
       "    .dataframe thead th {\n",
       "        text-align: right;\n",
       "    }\n",
       "</style>\n",
       "<table border=\"1\" class=\"dataframe\">\n",
       "  <thead>\n",
       "    <tr style=\"text-align: right;\">\n",
       "      <th></th>\n",
       "      <th>timestamp</th>\n",
       "      <th>site</th>\n",
       "    </tr>\n",
       "  </thead>\n",
       "  <tbody>\n",
       "    <tr>\n",
       "      <th>count</th>\n",
       "      <td>7600</td>\n",
       "      <td>7600</td>\n",
       "    </tr>\n",
       "    <tr>\n",
       "      <th>unique</th>\n",
       "      <td>4321</td>\n",
       "      <td>962</td>\n",
       "    </tr>\n",
       "    <tr>\n",
       "      <th>top</th>\n",
       "      <td>2014-03-20 11:02:20</td>\n",
       "      <td>webmail.laposte.net</td>\n",
       "    </tr>\n",
       "    <tr>\n",
       "      <th>freq</th>\n",
       "      <td>20</td>\n",
       "      <td>399</td>\n",
       "    </tr>\n",
       "  </tbody>\n",
       "</table>\n",
       "</div>"
      ],
      "text/plain": [
       "                  timestamp                 site\n",
       "count                  7600                 7600\n",
       "unique                 4321                  962\n",
       "top     2014-03-20 11:02:20  webmail.laposte.net\n",
       "freq                     20                  399"
      ]
     },
     "execution_count": 307,
     "metadata": {},
     "output_type": "execute_result"
    }
   ],
   "source": [
    "user0031_data.describe()"
   ]
  },
  {
   "cell_type": "markdown",
   "id": "f532b252",
   "metadata": {},
   "source": [
    "Напишу функцию которая принимает на вход путь к каталогу с csv файлами, путь к частотному словарю с сайтами, и длину сессии, а возвращает датафрейм,\n",
    "в котором строки соответствуют сессиям из сайтов, содержащихся в session_length столбцов – индексам\n",
    "этих session_length сайтов и последний столбец – ID пользователя\n",
    "частотный словарь сайтов"
   ]
  },
  {
   "cell_type": "markdown",
   "id": "0c0c76f1",
   "metadata": {},
   "source": [
    "Функция для создания частотного словаря, содержащего в качестве ключей названия уникальных сайтов, а в качестве значений - уникальный присвоенный нами id и частота встречаемости сайта во всей  подвыборке:"
   ]
  },
  {
   "cell_type": "code",
   "execution_count": 592,
   "id": "1fb0397f",
   "metadata": {},
   "outputs": [],
   "source": [
    "from collections import Counter\n",
    "def create_frequency_dict(path_to_csv_files):\n",
    "    #создаем циклом словарь уникальных значений сайтов\n",
    "    global frequency\n",
    "    prepaired_df = pd.DataFrame()   \n",
    "    frequency = Counter()\n",
    "    for filename in glob(f'{path_to_csv_files}/*'):\n",
    "        iter_df = pd.read_csv(filename)\n",
    "        value_counts_dict = iter_df['site'].value_counts().to_dict()\n",
    "        #обновляем словарь частот для каждого файла\n",
    "        frequency.update(value_counts_dict)\n",
    "      #Присваиваем ключи словарю\n",
    "    frequency = dict(frequency)   \n",
    "    return frequency"
   ]
  },
  {
   "cell_type": "markdown",
   "id": "e0eb8920",
   "metadata": {},
   "source": [
    "Загрузим частотные словари с сайтами на жёсткий диск в виде pickle файлов для дальнейшего использования в функциях"
   ]
  },
  {
   "cell_type": "code",
   "execution_count": 595,
   "id": "ae42fd63",
   "metadata": {},
   "outputs": [],
   "source": [
    "site_freq_10users = create_frequency_dict(os.path.join(PATH_TO_DATA, \n",
    "                                       '10users'))\n",
    "pickle.dump(site_freq_10users, open( \"site_freq_10users.pkl\", \"wb\"))\n",
    "\n",
    "site_freq_3users = create_frequency_dict(os.path.join(PATH_TO_DATA, \n",
    "                                       '3users'))\n",
    "pickle.dump(site_freq_3users, open( \"site_freq_3users.pkl\", \"wb\"))\n",
    "\n",
    "site_freq_150users = create_frequency_dict(os.path.join(PATH_TO_DATA, \n",
    "                                       '150users'))\n",
    "pickle.dump(site_freq_10users, open( \"site_freq_150users.pkl\", \"wb\"))"
   ]
  },
  {
   "cell_type": "markdown",
   "id": "00477c16",
   "metadata": {},
   "source": [
    "Функция для преобразования набора данных так, чтобы он был разделён на сессии"
   ]
  },
  {
   "cell_type": "code",
   "execution_count": 597,
   "id": "8341664b",
   "metadata": {},
   "outputs": [],
   "source": [
    "def prepare_train_set(path_to_csv_files, path_to_frequency_dict, session_length):\n",
    "    #инициализируем датафрейм \n",
    "    global prepaired_df\n",
    "    prepaired_df = pd.DataFrame()\n",
    "    frequency = pd.read_pickle(path_to_frequency_dict)\n",
    "    i = 0\n",
    "    for key, value in frequency.items():\n",
    "        i += 1\n",
    "        frequency[key] =[i, value]\n",
    "    #Создаём prepared train set\n",
    "    for filename in glob(f'{path_to_csv_files}/*'):\n",
    "        #создаем датафрейм для каждого файла\n",
    "        iter_df = pd.read_csv(filename)\n",
    "        if len(iter_df) % session_length == 0:\n",
    "            iter_df_len = len(iter_df) // session_length\n",
    "        elif len(iter_df) % session_length != 0:\n",
    "            iter_df_len = len(iter_df) // session_length + 1      \n",
    "        #ищем номер пользователя и инициализируем соответствующую серию\n",
    "        iter_new_df = pd.DataFrame(0, index=np.arange(iter_df_len), columns=[\"user_id\"])\n",
    "        session_id = re.findall(\"(\\d{4}).{4}\", filename)\n",
    "        iter_new_df[\"user_id\"] = str(session_id)\n",
    "        #Инициализируем столбцы с сайтами сессии                               \n",
    "        for i in range(1, session_length + 1):\n",
    "            iter_new_df[\"site_\"+ str(i)] = 0\n",
    "            iter_site_column = iter_new_df[\"site_\"+ str(i)] \n",
    "            #для каждого столбца создадим список айди сайтов\n",
    "            n = 0\n",
    "            for column_id in range(i-1, len(iter_df[\"site\"]), session_length):\n",
    "            #key - названия сайтов в исходной таблице\n",
    "                key = iter_df[\"site\"][column_id]\n",
    "                iter_site_column[n] = frequency[key][0]\n",
    "                n += 1\n",
    "        prepaired_df = pd.concat([prepaired_df, iter_new_df])\n",
    "    prepaired_df.index = range(1, len(prepaired_df.index) + 1)\n",
    "    prepaired_df.index.rename(\"session_id\", inplace = True)\n",
    "        #Соединяем датафреймы по иерациям glob\n",
    "    return prepaired_df\n",
    "\n"
   ]
  },
  {
   "cell_type": "code",
   "execution_count": null,
   "id": "ef7b67eb",
   "metadata": {},
   "outputs": [],
   "source": [
    "prepare_sparse_train_set_window_new(os.path.join(PATH_TO_DATA, \n",
    "                                       '10users'),os.path.join(PATH_TO_DATA, \n",
    "                                       'site_freq_10users.pkl'), 10)"
   ]
  },
  {
   "cell_type": "code",
   "execution_count": 598,
   "id": "d408c755",
   "metadata": {},
   "outputs": [
    {
     "data": {
      "text/html": [
       "<div>\n",
       "<style scoped>\n",
       "    .dataframe tbody tr th:only-of-type {\n",
       "        vertical-align: middle;\n",
       "    }\n",
       "\n",
       "    .dataframe tbody tr th {\n",
       "        vertical-align: top;\n",
       "    }\n",
       "\n",
       "    .dataframe thead th {\n",
       "        text-align: right;\n",
       "    }\n",
       "</style>\n",
       "<table border=\"1\" class=\"dataframe\">\n",
       "  <thead>\n",
       "    <tr style=\"text-align: right;\">\n",
       "      <th></th>\n",
       "      <th>user_id</th>\n",
       "      <th>site_1</th>\n",
       "      <th>site_2</th>\n",
       "      <th>site_3</th>\n",
       "      <th>site_4</th>\n",
       "      <th>site_5</th>\n",
       "      <th>site_6</th>\n",
       "      <th>site_7</th>\n",
       "      <th>site_8</th>\n",
       "      <th>site_9</th>\n",
       "      <th>site_10</th>\n",
       "    </tr>\n",
       "    <tr>\n",
       "      <th>session_id</th>\n",
       "      <th></th>\n",
       "      <th></th>\n",
       "      <th></th>\n",
       "      <th></th>\n",
       "      <th></th>\n",
       "      <th></th>\n",
       "      <th></th>\n",
       "      <th></th>\n",
       "      <th></th>\n",
       "      <th></th>\n",
       "      <th></th>\n",
       "    </tr>\n",
       "  </thead>\n",
       "  <tbody>\n",
       "    <tr>\n",
       "      <th>1</th>\n",
       "      <td>['0006']</td>\n",
       "      <td>6</td>\n",
       "      <td>6</td>\n",
       "      <td>7</td>\n",
       "      <td>8</td>\n",
       "      <td>6</td>\n",
       "      <td>7</td>\n",
       "      <td>6</td>\n",
       "      <td>8</td>\n",
       "      <td>186</td>\n",
       "      <td>119</td>\n",
       "    </tr>\n",
       "    <tr>\n",
       "      <th>2</th>\n",
       "      <td>['0006']</td>\n",
       "      <td>8</td>\n",
       "      <td>31</td>\n",
       "      <td>187</td>\n",
       "      <td>186</td>\n",
       "      <td>119</td>\n",
       "      <td>119</td>\n",
       "      <td>76</td>\n",
       "      <td>50</td>\n",
       "      <td>54</td>\n",
       "      <td>54</td>\n",
       "    </tr>\n",
       "    <tr>\n",
       "      <th>3</th>\n",
       "      <td>['0006']</td>\n",
       "      <td>119</td>\n",
       "      <td>147</td>\n",
       "      <td>6</td>\n",
       "      <td>6</td>\n",
       "      <td>6</td>\n",
       "      <td>6</td>\n",
       "      <td>50</td>\n",
       "      <td>119</td>\n",
       "      <td>8</td>\n",
       "      <td>6</td>\n",
       "    </tr>\n",
       "    <tr>\n",
       "      <th>4</th>\n",
       "      <td>['0006']</td>\n",
       "      <td>6</td>\n",
       "      <td>6</td>\n",
       "      <td>230</td>\n",
       "      <td>230</td>\n",
       "      <td>455</td>\n",
       "      <td>230</td>\n",
       "      <td>230</td>\n",
       "      <td>6</td>\n",
       "      <td>423</td>\n",
       "      <td>6</td>\n",
       "    </tr>\n",
       "    <tr>\n",
       "      <th>5</th>\n",
       "      <td>['0006']</td>\n",
       "      <td>6</td>\n",
       "      <td>6</td>\n",
       "      <td>18</td>\n",
       "      <td>6</td>\n",
       "      <td>12</td>\n",
       "      <td>10</td>\n",
       "      <td>12</td>\n",
       "      <td>10</td>\n",
       "      <td>44</td>\n",
       "      <td>18</td>\n",
       "    </tr>\n",
       "    <tr>\n",
       "      <th>...</th>\n",
       "      <td>...</td>\n",
       "      <td>...</td>\n",
       "      <td>...</td>\n",
       "      <td>...</td>\n",
       "      <td>...</td>\n",
       "      <td>...</td>\n",
       "      <td>...</td>\n",
       "      <td>...</td>\n",
       "      <td>...</td>\n",
       "      <td>...</td>\n",
       "      <td>...</td>\n",
       "    </tr>\n",
       "    <tr>\n",
       "      <th>137015</th>\n",
       "      <td>['2902']</td>\n",
       "      <td>635</td>\n",
       "      <td>1474</td>\n",
       "      <td>1319</td>\n",
       "      <td>1568</td>\n",
       "      <td>635</td>\n",
       "      <td>1590</td>\n",
       "      <td>1474</td>\n",
       "      <td>1590</td>\n",
       "      <td>635</td>\n",
       "      <td>183</td>\n",
       "    </tr>\n",
       "    <tr>\n",
       "      <th>137016</th>\n",
       "      <td>['2902']</td>\n",
       "      <td>31</td>\n",
       "      <td>1474</td>\n",
       "      <td>183</td>\n",
       "      <td>328</td>\n",
       "      <td>1716</td>\n",
       "      <td>1568</td>\n",
       "      <td>112</td>\n",
       "      <td>8</td>\n",
       "      <td>6</td>\n",
       "      <td>1590</td>\n",
       "    </tr>\n",
       "    <tr>\n",
       "      <th>137017</th>\n",
       "      <td>['2902']</td>\n",
       "      <td>1590</td>\n",
       "      <td>1588</td>\n",
       "      <td>1590</td>\n",
       "      <td>1758</td>\n",
       "      <td>635</td>\n",
       "      <td>1032</td>\n",
       "      <td>251</td>\n",
       "      <td>951</td>\n",
       "      <td>1655</td>\n",
       "      <td>17</td>\n",
       "    </tr>\n",
       "    <tr>\n",
       "      <th>137018</th>\n",
       "      <td>['2902']</td>\n",
       "      <td>2</td>\n",
       "      <td>635</td>\n",
       "      <td>1544</td>\n",
       "      <td>1319</td>\n",
       "      <td>635</td>\n",
       "      <td>1607</td>\n",
       "      <td>1874</td>\n",
       "      <td>112</td>\n",
       "      <td>1590</td>\n",
       "      <td>1474</td>\n",
       "    </tr>\n",
       "    <tr>\n",
       "      <th>137019</th>\n",
       "      <td>['2902']</td>\n",
       "      <td>635</td>\n",
       "      <td>27797</td>\n",
       "      <td>0</td>\n",
       "      <td>0</td>\n",
       "      <td>0</td>\n",
       "      <td>0</td>\n",
       "      <td>0</td>\n",
       "      <td>0</td>\n",
       "      <td>0</td>\n",
       "      <td>0</td>\n",
       "    </tr>\n",
       "  </tbody>\n",
       "</table>\n",
       "<p>137019 rows × 11 columns</p>\n",
       "</div>"
      ],
      "text/plain": [
       "             user_id  site_1  site_2  site_3  site_4  site_5  site_6  site_7  \\\n",
       "session_id                                                                     \n",
       "1           ['0006']       6       6       7       8       6       7       6   \n",
       "2           ['0006']       8      31     187     186     119     119      76   \n",
       "3           ['0006']     119     147       6       6       6       6      50   \n",
       "4           ['0006']       6       6     230     230     455     230     230   \n",
       "5           ['0006']       6       6      18       6      12      10      12   \n",
       "...              ...     ...     ...     ...     ...     ...     ...     ...   \n",
       "137015      ['2902']     635    1474    1319    1568     635    1590    1474   \n",
       "137016      ['2902']      31    1474     183     328    1716    1568     112   \n",
       "137017      ['2902']    1590    1588    1590    1758     635    1032     251   \n",
       "137018      ['2902']       2     635    1544    1319     635    1607    1874   \n",
       "137019      ['2902']     635   27797       0       0       0       0       0   \n",
       "\n",
       "            site_8  site_9  site_10  \n",
       "session_id                           \n",
       "1                8     186      119  \n",
       "2               50      54       54  \n",
       "3              119       8        6  \n",
       "4                6     423        6  \n",
       "5               10      44       18  \n",
       "...            ...     ...      ...  \n",
       "137015        1590     635      183  \n",
       "137016           8       6     1590  \n",
       "137017         951    1655       17  \n",
       "137018         112    1590     1474  \n",
       "137019           0       0        0  \n",
       "\n",
       "[137019 rows x 11 columns]"
      ]
     },
     "execution_count": 598,
     "metadata": {},
     "output_type": "execute_result"
    }
   ],
   "source": [
    "train_data_150users = prepare_train_set(os.path.join(PATH_TO_DATA, \n",
    "                                       '150users'),os.path.join(PATH_TO_DATA, \n",
    "                                       'site_freq_150users.pkl'), 10)\n",
    "train_data_150users"
   ]
  },
  {
   "cell_type": "markdown",
   "id": "b70623d3",
   "metadata": {},
   "source": [
    "Число уникальнвх сессий из 10 сайтов среди 150 людей."
   ]
  },
  {
   "cell_type": "code",
   "execution_count": 67,
   "id": "e5b1d444",
   "metadata": {},
   "outputs": [
    {
     "data": {
      "text/plain": [
       "131009"
      ]
     },
     "execution_count": 67,
     "metadata": {},
     "output_type": "execute_result"
    }
   ],
   "source": [
    "len(train_data_150users.loc[:,\"site_1\":].drop_duplicates())"
   ]
  },
  {
   "cell_type": "markdown",
   "id": "f7d15e8e",
   "metadata": {},
   "source": [
    "Всего уникальных сайтов среди 150 пользователей:"
   ]
  },
  {
   "cell_type": "code",
   "execution_count": 68,
   "id": "b31b8724",
   "metadata": {},
   "outputs": [
    {
     "data": {
      "text/plain": [
       "27797"
      ]
     },
     "execution_count": 68,
     "metadata": {},
     "output_type": "execute_result"
    }
   ],
   "source": [
    "len(site_freq_150users)"
   ]
  },
  {
   "cell_type": "markdown",
   "id": "1f7725d1",
   "metadata": {},
   "source": [
    "Самые популярные сайты:"
   ]
  },
  {
   "cell_type": "code",
   "execution_count": 586,
   "id": "f89351d4",
   "metadata": {},
   "outputs": [],
   "source": [
    "site_freq_150users = pd.read_pickle(os.path.join(PATH_TO_DATA, 'site_freq_150users.pkl'))"
   ]
  },
  {
   "cell_type": "code",
   "execution_count": 588,
   "id": "9af85036",
   "metadata": {},
   "outputs": [
    {
     "data": {
      "text/plain": [
       "{'www.google.fr': 64785,\n",
       " 'www.google.com': 51320,\n",
       " 'www.facebook.com': 39002,\n",
       " 'apis.google.com': 29983,\n",
       " 's.youtube.com': 29102,\n",
       " 'clients1.google.com': 25087,\n",
       " 'mail.google.com': 19072,\n",
       " 'plus.google.com': 18467,\n",
       " 'safebrowsing-cache.google.com': 17960,\n",
       " 'www.youtube.com': 16319,\n",
       " 'twitter.com': 16219,\n",
       " 'platform.twitter.com': 15317,\n",
       " 's-static.ak.facebook.com': 15048,\n",
       " 'accounts.google.com': 13855,\n",
       " 'www.bing.com': 13797}"
      ]
     },
     "execution_count": 588,
     "metadata": {},
     "output_type": "execute_result"
    }
   ],
   "source": [
    "import operator\n",
    "frequency_freq_only = {}\n",
    "for key, value in site_freq_150users.items():\n",
    "    frequency_freq_only.update({key: value[1]})\n",
    "dict(sorted(frequency_freq_only.items(), key=operator.itemgetter(1), reverse=True)[:15])\n"
   ]
  },
  {
   "cell_type": "markdown",
   "id": "e80ce7ac",
   "metadata": {},
   "source": [
    "Создадим разреженную матрицу для признаков "
   ]
  },
  {
   "cell_type": "markdown",
   "id": "91c38cb1",
   "metadata": {},
   "source": [
    "Сделаем число сайтов в сессии и их распределение параметрами чтобы в дальнейшем сравнить модели классификации, обученные на различных session_length и window_size. Попробуем сделать сессии пересекающимися и подкорректируем  функцию prepare_train_set для создания разреженного датафрейма и применим для 16 различных сочетаний session_length + window_size."
   ]
  },
  {
   "cell_type": "code",
   "execution_count": 9,
   "id": "e8916fa4",
   "metadata": {},
   "outputs": [],
   "source": [
    "def prepare_sparse_train_set_window(path_to_csv_files, site_freq_path, \n",
    "                                    session_length, window_size):\n",
    "    # Инициализируем заготовку для будущего разреженного фрейма и словарь с сайтами\n",
    "    global X_sparse\n",
    "    global y\n",
    "    prepaired_df = pd.DataFrame()   \n",
    "    site_freq_dict = pd.read_pickle(site_freq_path)\n",
    "    #Перебираем сайты из каталога по одному\n",
    "    for filename in glob(f'{path_to_csv_files}/*'):\n",
    "        #создаем датафрейм для каждого файла\n",
    "        iter_df = pd.read_csv(filename)     \n",
    "        #ищем номер пользователя и инициализируем y нулями\n",
    "        new_df_len = (len(iter_df) // window_size) + 1\n",
    "        new_df = pd.DataFrame(0, index=np.arange(new_df_len), columns=[\"user_id\"])\n",
    "        session_id = re.findall(\"(\\d{4}).{4}\", filename)\n",
    "        new_df[\"user_id\"] = str(session_id)\n",
    "        #Инициализируем столбцы с сайтами сессии                               \n",
    "        for i in range(1, session_length + 1):\n",
    "            new_df[\"site_\"+ str(i)] = 0\n",
    "            iter_site_column = new_df[\"site_\"+ str(i)] \n",
    "            #для каждого столбца создадим список айди сайтов\n",
    "            n = 0\n",
    "            for session_start_id in range(i-1, len(iter_df), window_size):\n",
    "            #key - названия сайтов в iter_df\n",
    "                key = iter_df[\"site\"][session_start_id]\n",
    "                iter_site_column[n] = site_freq_dict[key][0]\n",
    "                n += 1\n",
    "        if (new_df.iloc[-1, 1:] == 0).all():\n",
    "            new_df.drop(new_df.tail(1).index,inplace=True)\n",
    "        prepaired_df = pd.concat([prepaired_df, new_df])\n",
    "        X, y = prepaired_df.iloc[:, 1:].values, \\\n",
    "                   prepaired_df.iloc[:, 0].values\n",
    "        indptr = list(range(0, len(X)* session_length + 1,   session_length))\n",
    "        indices = list(np.concatenate(X, axis=0 ))\n",
    "        data = list(np.ones( len(X)* session_length))\n",
    "        X_sparse = csr_matrix((data, indices, indptr), dtype=int)\n",
    "        X_sparse = X_sparse[:,1:]\n",
    "    \n",
    "    return  prepaired_df, X_sparse, y"
   ]
  },
  {
   "cell_type": "code",
   "execution_count": null,
   "id": "714b0f04",
   "metadata": {},
   "outputs": [],
   "source": [
    "X_train, X_valid, y_train, y_valid = train_test"
   ]
  },
  {
   "cell_type": "code",
   "execution_count": 10,
   "id": "301ef75f",
   "metadata": {},
   "outputs": [],
   "source": [
    "prepaired_df, X_sparse, y = prepare_sparse_train_set_window(r\"E:\\Work\\Project_capstone\\10users\",\n",
    "                                              r\"E:\\Work\\Project_capstone\\site_freq_10users.pkl\", 16, 6)"
   ]
  },
  {
   "cell_type": "code",
   "execution_count": 12,
   "id": "b97ded4c",
   "metadata": {},
   "outputs": [
    {
     "data": {
      "text/html": [
       "<div>\n",
       "<style scoped>\n",
       "    .dataframe tbody tr th:only-of-type {\n",
       "        vertical-align: middle;\n",
       "    }\n",
       "\n",
       "    .dataframe tbody tr th {\n",
       "        vertical-align: top;\n",
       "    }\n",
       "\n",
       "    .dataframe thead th {\n",
       "        text-align: right;\n",
       "    }\n",
       "</style>\n",
       "<table border=\"1\" class=\"dataframe\">\n",
       "  <thead>\n",
       "    <tr style=\"text-align: right;\">\n",
       "      <th></th>\n",
       "      <th>user_id</th>\n",
       "      <th>site_1</th>\n",
       "      <th>site_2</th>\n",
       "      <th>site_3</th>\n",
       "      <th>site_4</th>\n",
       "      <th>site_5</th>\n",
       "      <th>site_6</th>\n",
       "      <th>site_7</th>\n",
       "      <th>site_8</th>\n",
       "      <th>site_9</th>\n",
       "      <th>site_10</th>\n",
       "      <th>site_11</th>\n",
       "      <th>site_12</th>\n",
       "      <th>site_13</th>\n",
       "      <th>site_14</th>\n",
       "      <th>site_15</th>\n",
       "      <th>site_16</th>\n",
       "    </tr>\n",
       "  </thead>\n",
       "  <tbody>\n",
       "    <tr>\n",
       "      <th>0</th>\n",
       "      <td>['0031']</td>\n",
       "      <td>101</td>\n",
       "      <td>65</td>\n",
       "      <td>10</td>\n",
       "      <td>4</td>\n",
       "      <td>10</td>\n",
       "      <td>10</td>\n",
       "      <td>4</td>\n",
       "      <td>10</td>\n",
       "      <td>74</td>\n",
       "      <td>10</td>\n",
       "      <td>68</td>\n",
       "      <td>62</td>\n",
       "      <td>130</td>\n",
       "      <td>271</td>\n",
       "      <td>10</td>\n",
       "      <td>24</td>\n",
       "    </tr>\n",
       "    <tr>\n",
       "      <th>1</th>\n",
       "      <td>['0031']</td>\n",
       "      <td>4</td>\n",
       "      <td>10</td>\n",
       "      <td>74</td>\n",
       "      <td>10</td>\n",
       "      <td>68</td>\n",
       "      <td>62</td>\n",
       "      <td>130</td>\n",
       "      <td>271</td>\n",
       "      <td>10</td>\n",
       "      <td>24</td>\n",
       "      <td>40</td>\n",
       "      <td>766</td>\n",
       "      <td>32</td>\n",
       "      <td>1</td>\n",
       "      <td>1</td>\n",
       "      <td>4</td>\n",
       "    </tr>\n",
       "    <tr>\n",
       "      <th>2</th>\n",
       "      <td>['0031']</td>\n",
       "      <td>130</td>\n",
       "      <td>271</td>\n",
       "      <td>10</td>\n",
       "      <td>24</td>\n",
       "      <td>40</td>\n",
       "      <td>766</td>\n",
       "      <td>32</td>\n",
       "      <td>1</td>\n",
       "      <td>1</td>\n",
       "      <td>4</td>\n",
       "      <td>1</td>\n",
       "      <td>1</td>\n",
       "      <td>8</td>\n",
       "      <td>87</td>\n",
       "      <td>68</td>\n",
       "      <td>97</td>\n",
       "    </tr>\n",
       "    <tr>\n",
       "      <th>3</th>\n",
       "      <td>['0031']</td>\n",
       "      <td>32</td>\n",
       "      <td>1</td>\n",
       "      <td>1</td>\n",
       "      <td>4</td>\n",
       "      <td>1</td>\n",
       "      <td>1</td>\n",
       "      <td>8</td>\n",
       "      <td>87</td>\n",
       "      <td>68</td>\n",
       "      <td>97</td>\n",
       "      <td>232</td>\n",
       "      <td>1</td>\n",
       "      <td>109</td>\n",
       "      <td>767</td>\n",
       "      <td>109</td>\n",
       "      <td>1</td>\n",
       "    </tr>\n",
       "    <tr>\n",
       "      <th>4</th>\n",
       "      <td>['0031']</td>\n",
       "      <td>8</td>\n",
       "      <td>87</td>\n",
       "      <td>68</td>\n",
       "      <td>97</td>\n",
       "      <td>232</td>\n",
       "      <td>1</td>\n",
       "      <td>109</td>\n",
       "      <td>767</td>\n",
       "      <td>109</td>\n",
       "      <td>1</td>\n",
       "      <td>1</td>\n",
       "      <td>1</td>\n",
       "      <td>1</td>\n",
       "      <td>405</td>\n",
       "      <td>18</td>\n",
       "      <td>9</td>\n",
       "    </tr>\n",
       "    <tr>\n",
       "      <th>...</th>\n",
       "      <td>...</td>\n",
       "      <td>...</td>\n",
       "      <td>...</td>\n",
       "      <td>...</td>\n",
       "      <td>...</td>\n",
       "      <td>...</td>\n",
       "      <td>...</td>\n",
       "      <td>...</td>\n",
       "      <td>...</td>\n",
       "      <td>...</td>\n",
       "      <td>...</td>\n",
       "      <td>...</td>\n",
       "      <td>...</td>\n",
       "      <td>...</td>\n",
       "      <td>...</td>\n",
       "      <td>...</td>\n",
       "      <td>...</td>\n",
       "    </tr>\n",
       "    <tr>\n",
       "      <th>884</th>\n",
       "      <td>['0241']</td>\n",
       "      <td>44</td>\n",
       "      <td>4</td>\n",
       "      <td>7</td>\n",
       "      <td>2</td>\n",
       "      <td>7</td>\n",
       "      <td>44</td>\n",
       "      <td>45</td>\n",
       "      <td>7</td>\n",
       "      <td>2</td>\n",
       "      <td>6</td>\n",
       "      <td>17</td>\n",
       "      <td>75</td>\n",
       "      <td>2</td>\n",
       "      <td>45</td>\n",
       "      <td>7</td>\n",
       "      <td>7</td>\n",
       "    </tr>\n",
       "    <tr>\n",
       "      <th>885</th>\n",
       "      <td>['0241']</td>\n",
       "      <td>45</td>\n",
       "      <td>7</td>\n",
       "      <td>2</td>\n",
       "      <td>6</td>\n",
       "      <td>17</td>\n",
       "      <td>75</td>\n",
       "      <td>2</td>\n",
       "      <td>45</td>\n",
       "      <td>7</td>\n",
       "      <td>7</td>\n",
       "      <td>7</td>\n",
       "      <td>7</td>\n",
       "      <td>7</td>\n",
       "      <td>72</td>\n",
       "      <td>75</td>\n",
       "      <td>7</td>\n",
       "    </tr>\n",
       "    <tr>\n",
       "      <th>886</th>\n",
       "      <td>['0241']</td>\n",
       "      <td>2</td>\n",
       "      <td>45</td>\n",
       "      <td>7</td>\n",
       "      <td>7</td>\n",
       "      <td>7</td>\n",
       "      <td>7</td>\n",
       "      <td>7</td>\n",
       "      <td>72</td>\n",
       "      <td>75</td>\n",
       "      <td>7</td>\n",
       "      <td>4</td>\n",
       "      <td>4</td>\n",
       "      <td>2</td>\n",
       "      <td>7</td>\n",
       "      <td>17</td>\n",
       "      <td>69</td>\n",
       "    </tr>\n",
       "    <tr>\n",
       "      <th>887</th>\n",
       "      <td>['0241']</td>\n",
       "      <td>7</td>\n",
       "      <td>72</td>\n",
       "      <td>75</td>\n",
       "      <td>7</td>\n",
       "      <td>4</td>\n",
       "      <td>4</td>\n",
       "      <td>2</td>\n",
       "      <td>7</td>\n",
       "      <td>17</td>\n",
       "      <td>69</td>\n",
       "      <td>0</td>\n",
       "      <td>0</td>\n",
       "      <td>0</td>\n",
       "      <td>0</td>\n",
       "      <td>0</td>\n",
       "      <td>0</td>\n",
       "    </tr>\n",
       "    <tr>\n",
       "      <th>888</th>\n",
       "      <td>['0241']</td>\n",
       "      <td>2</td>\n",
       "      <td>7</td>\n",
       "      <td>17</td>\n",
       "      <td>69</td>\n",
       "      <td>0</td>\n",
       "      <td>0</td>\n",
       "      <td>0</td>\n",
       "      <td>0</td>\n",
       "      <td>0</td>\n",
       "      <td>0</td>\n",
       "      <td>0</td>\n",
       "      <td>0</td>\n",
       "      <td>0</td>\n",
       "      <td>0</td>\n",
       "      <td>0</td>\n",
       "      <td>0</td>\n",
       "    </tr>\n",
       "  </tbody>\n",
       "</table>\n",
       "<p>23433 rows × 17 columns</p>\n",
       "</div>"
      ],
      "text/plain": [
       "      user_id  site_1  site_2  site_3  site_4  site_5  site_6  site_7  site_8  \\\n",
       "0    ['0031']     101      65      10       4      10      10       4      10   \n",
       "1    ['0031']       4      10      74      10      68      62     130     271   \n",
       "2    ['0031']     130     271      10      24      40     766      32       1   \n",
       "3    ['0031']      32       1       1       4       1       1       8      87   \n",
       "4    ['0031']       8      87      68      97     232       1     109     767   \n",
       "..        ...     ...     ...     ...     ...     ...     ...     ...     ...   \n",
       "884  ['0241']      44       4       7       2       7      44      45       7   \n",
       "885  ['0241']      45       7       2       6      17      75       2      45   \n",
       "886  ['0241']       2      45       7       7       7       7       7      72   \n",
       "887  ['0241']       7      72      75       7       4       4       2       7   \n",
       "888  ['0241']       2       7      17      69       0       0       0       0   \n",
       "\n",
       "     site_9  site_10  site_11  site_12  site_13  site_14  site_15  site_16  \n",
       "0        74       10       68       62      130      271       10       24  \n",
       "1        10       24       40      766       32        1        1        4  \n",
       "2         1        4        1        1        8       87       68       97  \n",
       "3        68       97      232        1      109      767      109        1  \n",
       "4       109        1        1        1        1      405       18        9  \n",
       "..      ...      ...      ...      ...      ...      ...      ...      ...  \n",
       "884       2        6       17       75        2       45        7        7  \n",
       "885       7        7        7        7        7       72       75        7  \n",
       "886      75        7        4        4        2        7       17       69  \n",
       "887      17       69        0        0        0        0        0        0  \n",
       "888       0        0        0        0        0        0        0        0  \n",
       "\n",
       "[23433 rows x 17 columns]"
      ]
     },
     "execution_count": 12,
     "metadata": {},
     "output_type": "execute_result"
    }
   ],
   "source": [
    "prepaired_df"
   ]
  },
  {
   "cell_type": "markdown",
   "id": "f1dc0998",
   "metadata": {},
   "source": [
    "Проверим работу на игрушечных данных"
   ]
  },
  {
   "cell_type": "code",
   "execution_count": 667,
   "id": "691dcc33",
   "metadata": {},
   "outputs": [
    {
     "data": {
      "text/plain": [
       "(<12x11 sparse matrix of type '<class 'numpy.intc'>'\n",
       " \twith 49 stored elements in Compressed Sparse Row format>,\n",
       " array([\"['0001']\", \"['0001']\", \"['0001']\", \"['0001']\", \"['0001']\",\n",
       "        \"['0002']\", \"['0002']\", \"['0003']\", \"['0003']\", \"['0003']\",\n",
       "        \"['0003']\", \"['0003']\"], dtype=object))"
      ]
     },
     "execution_count": 667,
     "metadata": {},
     "output_type": "execute_result"
    }
   ],
   "source": [
    "prepare_sparse_train_set_window(os.path.join(PATH_TO_DATA, \n",
    "                                       \"3users\"), os.path.join(PATH_TO_DATA, \"site_freq_3users.pkl\"), \n",
    "                                    5 ,3)"
   ]
  },
  {
   "cell_type": "code",
   "execution_count": 651,
   "id": "220464a5",
   "metadata": {},
   "outputs": [
    {
     "data": {
      "text/html": [
       "<div>\n",
       "<style scoped>\n",
       "    .dataframe tbody tr th:only-of-type {\n",
       "        vertical-align: middle;\n",
       "    }\n",
       "\n",
       "    .dataframe tbody tr th {\n",
       "        vertical-align: top;\n",
       "    }\n",
       "\n",
       "    .dataframe thead th {\n",
       "        text-align: right;\n",
       "    }\n",
       "</style>\n",
       "<table border=\"1\" class=\"dataframe\">\n",
       "  <thead>\n",
       "    <tr style=\"text-align: right;\">\n",
       "      <th></th>\n",
       "      <th>user_id</th>\n",
       "      <th>avg_time_on_site</th>\n",
       "      <th>session_timestamp</th>\n",
       "      <th>unique_sites</th>\n",
       "      <th>start_hour</th>\n",
       "      <th>day_of_week</th>\n",
       "    </tr>\n",
       "  </thead>\n",
       "  <tbody>\n",
       "    <tr>\n",
       "      <th>0</th>\n",
       "      <td>['0006']</td>\n",
       "      <td>5</td>\n",
       "      <td>57.0</td>\n",
       "      <td>5</td>\n",
       "      <td>8</td>\n",
       "      <td>4</td>\n",
       "    </tr>\n",
       "    <tr>\n",
       "      <th>1</th>\n",
       "      <td>['0006']</td>\n",
       "      <td>8</td>\n",
       "      <td>87.0</td>\n",
       "      <td>7</td>\n",
       "      <td>8</td>\n",
       "      <td>4</td>\n",
       "    </tr>\n",
       "    <tr>\n",
       "      <th>2</th>\n",
       "      <td>['0006']</td>\n",
       "      <td>162</td>\n",
       "      <td>1620.0</td>\n",
       "      <td>8</td>\n",
       "      <td>8</td>\n",
       "      <td>4</td>\n",
       "    </tr>\n",
       "    <tr>\n",
       "      <th>3</th>\n",
       "      <td>['0006']</td>\n",
       "      <td>161</td>\n",
       "      <td>1616.0</td>\n",
       "      <td>6</td>\n",
       "      <td>8</td>\n",
       "      <td>4</td>\n",
       "    </tr>\n",
       "    <tr>\n",
       "      <th>4</th>\n",
       "      <td>['0006']</td>\n",
       "      <td>202</td>\n",
       "      <td>2027.0</td>\n",
       "      <td>5</td>\n",
       "      <td>8</td>\n",
       "      <td>4</td>\n",
       "    </tr>\n",
       "    <tr>\n",
       "      <th>...</th>\n",
       "      <td>...</td>\n",
       "      <td>...</td>\n",
       "      <td>...</td>\n",
       "      <td>...</td>\n",
       "      <td>...</td>\n",
       "      <td>...</td>\n",
       "    </tr>\n",
       "    <tr>\n",
       "      <th>1350</th>\n",
       "      <td>['2902']</td>\n",
       "      <td>0</td>\n",
       "      <td>6.0</td>\n",
       "      <td>9</td>\n",
       "      <td>17</td>\n",
       "      <td>0</td>\n",
       "    </tr>\n",
       "    <tr>\n",
       "      <th>1351</th>\n",
       "      <td>['2902']</td>\n",
       "      <td>0</td>\n",
       "      <td>2.0</td>\n",
       "      <td>9</td>\n",
       "      <td>17</td>\n",
       "      <td>0</td>\n",
       "    </tr>\n",
       "    <tr>\n",
       "      <th>1352</th>\n",
       "      <td>['2902']</td>\n",
       "      <td>0</td>\n",
       "      <td>6.0</td>\n",
       "      <td>9</td>\n",
       "      <td>17</td>\n",
       "      <td>0</td>\n",
       "    </tr>\n",
       "    <tr>\n",
       "      <th>1353</th>\n",
       "      <td>['2902']</td>\n",
       "      <td>603687</td>\n",
       "      <td>3018437.0</td>\n",
       "      <td>7</td>\n",
       "      <td>17</td>\n",
       "      <td>0</td>\n",
       "    </tr>\n",
       "    <tr>\n",
       "      <th>1354</th>\n",
       "      <td>['2902']</td>\n",
       "      <td>3018432</td>\n",
       "      <td>3018432.0</td>\n",
       "      <td>2</td>\n",
       "      <td>17</td>\n",
       "      <td>0</td>\n",
       "    </tr>\n",
       "  </tbody>\n",
       "</table>\n",
       "<p>273930 rows × 6 columns</p>\n",
       "</div>"
      ],
      "text/plain": [
       "       user_id avg_time_on_site  session_timestamp unique_sites start_hour  \\\n",
       "0     ['0006']                5               57.0            5          8   \n",
       "1     ['0006']                8               87.0            7          8   \n",
       "2     ['0006']              162             1620.0            8          8   \n",
       "3     ['0006']              161             1616.0            6          8   \n",
       "4     ['0006']              202             2027.0            5          8   \n",
       "...        ...              ...                ...          ...        ...   \n",
       "1350  ['2902']                0                6.0            9         17   \n",
       "1351  ['2902']                0                2.0            9         17   \n",
       "1352  ['2902']                0                6.0            9         17   \n",
       "1353  ['2902']           603687          3018437.0            7         17   \n",
       "1354  ['2902']          3018432          3018432.0            2         17   \n",
       "\n",
       "     day_of_week  \n",
       "0              4  \n",
       "1              4  \n",
       "2              4  \n",
       "3              4  \n",
       "4              4  \n",
       "...          ...  \n",
       "1350           0  \n",
       "1351           0  \n",
       "1352           0  \n",
       "1353           0  \n",
       "1354           0  \n",
       "\n",
       "[273930 rows x 6 columns]"
      ]
     },
     "execution_count": 651,
     "metadata": {},
     "output_type": "execute_result"
    }
   ],
   "source": [
    "feature_engineering(os.path.join(PATH_TO_DATA, \n",
    "                                       \"150users\"), 5, 10)"
   ]
  },
  {
   "cell_type": "markdown",
   "id": "9b29add4",
   "metadata": {},
   "source": [
    "Улучшим функцию, увеличив скорость её работы"
   ]
  },
  {
   "cell_type": "code",
   "execution_count": 9,
   "id": "82e5d1de",
   "metadata": {},
   "outputs": [
    {
     "name": "stdout",
     "output_type": "stream",
     "text": [
      "Wall time: 0 ns\n"
     ]
    }
   ],
   "source": [
    "%%time\n",
    "def prepare_sparse_train_set_window_new(path_to_csv_files, site_freq_path, \n",
    "                                    session_length=10, window_size=10):\n",
    "    files = glob(path_to_csv_files + \"/*.csv\")\n",
    "    \n",
    "    with open(site_freq_path, 'rb') as f:\n",
    "        dict_freq = pickle.load(f)\n",
    "    sessions = []\n",
    "    users = []\n",
    "    \n",
    "    for i, file in enumerate(files):\n",
    "        user = re.findall(\"(\\d{4}).{4}\", file)\n",
    "        user_session = pd.read_csv(file, index_col=None, header=0).iloc[:, 1]\n",
    "        cur_session = []\n",
    "        index = 0\n",
    "        \n",
    "        while index < len(user_session):\n",
    "            for j in range(index, min(index + session_length, len(user_session))):\n",
    "                cur_session.append(dict_freq[user_session[j]][0])\n",
    "                \n",
    "            while len(cur_session) < session_length: cur_session.append(0)\n",
    "            \n",
    "            sessions.append(cur_session)\n",
    "            users.append(user)\n",
    "            \n",
    "            index += window_size\n",
    "            cur_session = []\n",
    "            \n",
    "    train_set = pd.DataFrame(sessions)\n",
    "    X_users = train_set.iloc[:, :-1].values\n",
    "    \n",
    "    indptr = [0]\n",
    "    indices = []\n",
    "    data = []\n",
    "    vocabulary = {}\n",
    "    \n",
    "    for x in X_users:\n",
    "        for term in x:\n",
    "            index = vocabulary.setdefault(term, len(vocabulary))\n",
    "            indices.append(index)\n",
    "            data.append(1)\n",
    "        indptr.append(len(indices))\n",
    "        \n",
    "    X_sparse = csr_matrix((data, indices, indptr))[:, 1:]\n",
    "    \n",
    "    return X_sparse, np.array(users)"
   ]
  },
  {
   "cell_type": "markdown",
   "id": "a76daad0",
   "metadata": {},
   "source": [
    "Запустим функцию 16 раз с различными значениями session_length и window_size"
   ]
  },
  {
   "cell_type": "code",
   "execution_count": 682,
   "id": "82b34e45",
   "metadata": {},
   "outputs": [],
   "source": [
    "import itertools\n",
    "\n",
    "for num_users in [10, 150]:\n",
    "    for session_length, window_size in itertools.product([15, 10, 7, 5], [10, 7, 5]):\n",
    "        if window_size <= session_length:\n",
    "            X_sparse, y = prepare_sparse_train_set_window_new(os.path.join(PATH_TO_DATA, \n",
    "                                       str(num_users) + \"users\"), os.path.join(PATH_TO_DATA, \"site_freq_\" + str(num_users) + \"users.pkl\"), \n",
    "                                    session_length , window_size )\n",
    "            pickle.dump(X_sparse, open(os.path.join(PATH_TO_DATA,\"X_sparse_\"+ str(num_users) + \"users_s\" + str(session_length) +\"_w\" + str(window_size) +\".pkl\"), 'wb'))\n",
    "            pickle.dump(y, open(os.path.join(PATH_TO_DATA, \"y\" + \"_\" + str(num_users) + \"users_s\" + str(session_length) +\"_w\" + str(window_size) +\".pkl\"), 'wb'))\n"
   ]
  },
  {
   "cell_type": "code",
   "execution_count": 750,
   "id": "2f33138d",
   "metadata": {},
   "outputs": [],
   "source": [
    "X_train, X_valid, y_train, y_valid = train_test_split(pd.read_pickle(os.path.join(PATH_TO_DATA, \"X_sparse_10users_s10_w10.pkl\")), \n",
    "                                                      pd.read_pickle(os.path.join(PATH_TO_DATA, \"y_10users_s10_w10.pkl\")), \n",
    "                                                      test_size=0.3, \n",
    "                                                     random_state=17, stratify=y_10users_10_10_)"
   ]
  },
  {
   "cell_type": "code",
   "execution_count": 753,
   "id": "b951a124",
   "metadata": {},
   "outputs": [],
   "source": [
    "X = pd.read_pickle(os.path.join(PATH_TO_DATA, \"X_sparse_10users_s10_w10.pkl\"))\n"
   ]
  },
  {
   "cell_type": "code",
   "execution_count": 754,
   "id": "6365ae63",
   "metadata": {},
   "outputs": [],
   "source": [
    "y = pd.read_pickle(os.path.join(PATH_TO_DATA, \"y_10users_s10_w10.pkl\"))"
   ]
  },
  {
   "cell_type": "markdown",
   "id": "ed6f9a3b",
   "metadata": {},
   "source": [
    "Исследудуем имеющиеся данные по 10 пользователям"
   ]
  },
  {
   "cell_type": "code",
   "execution_count": 278,
   "id": "b9f69635",
   "metadata": {},
   "outputs": [],
   "source": [
    "train_df = pd.read_csv(os.path.join(PATH_TO_DATA, 'train_data_10users.csv'), \n",
    "                       index_col='session_id')"
   ]
  },
  {
   "cell_type": "code",
   "execution_count": 279,
   "id": "00e63c21",
   "metadata": {},
   "outputs": [
    {
     "data": {
      "text/html": [
       "<div>\n",
       "<style scoped>\n",
       "    .dataframe tbody tr th:only-of-type {\n",
       "        vertical-align: middle;\n",
       "    }\n",
       "\n",
       "    .dataframe tbody tr th {\n",
       "        vertical-align: top;\n",
       "    }\n",
       "\n",
       "    .dataframe thead th {\n",
       "        text-align: right;\n",
       "    }\n",
       "</style>\n",
       "<table border=\"1\" class=\"dataframe\">\n",
       "  <thead>\n",
       "    <tr style=\"text-align: right;\">\n",
       "      <th></th>\n",
       "      <th>user_id</th>\n",
       "      <th>site_1</th>\n",
       "      <th>site_2</th>\n",
       "      <th>site_3</th>\n",
       "      <th>site_4</th>\n",
       "      <th>site_5</th>\n",
       "      <th>site_6</th>\n",
       "      <th>site_7</th>\n",
       "      <th>site_8</th>\n",
       "      <th>site_9</th>\n",
       "      <th>site_10</th>\n",
       "    </tr>\n",
       "    <tr>\n",
       "      <th>session_id</th>\n",
       "      <th></th>\n",
       "      <th></th>\n",
       "      <th></th>\n",
       "      <th></th>\n",
       "      <th></th>\n",
       "      <th></th>\n",
       "      <th></th>\n",
       "      <th></th>\n",
       "      <th></th>\n",
       "      <th></th>\n",
       "      <th></th>\n",
       "    </tr>\n",
       "  </thead>\n",
       "  <tbody>\n",
       "    <tr>\n",
       "      <th>1</th>\n",
       "      <td>['0031']</td>\n",
       "      <td>101</td>\n",
       "      <td>65</td>\n",
       "      <td>10</td>\n",
       "      <td>4</td>\n",
       "      <td>10</td>\n",
       "      <td>10</td>\n",
       "      <td>4</td>\n",
       "      <td>10</td>\n",
       "      <td>74</td>\n",
       "      <td>10</td>\n",
       "    </tr>\n",
       "    <tr>\n",
       "      <th>2</th>\n",
       "      <td>['0031']</td>\n",
       "      <td>68</td>\n",
       "      <td>62</td>\n",
       "      <td>130</td>\n",
       "      <td>271</td>\n",
       "      <td>10</td>\n",
       "      <td>24</td>\n",
       "      <td>40</td>\n",
       "      <td>766</td>\n",
       "      <td>32</td>\n",
       "      <td>1</td>\n",
       "    </tr>\n",
       "    <tr>\n",
       "      <th>3</th>\n",
       "      <td>['0031']</td>\n",
       "      <td>1</td>\n",
       "      <td>4</td>\n",
       "      <td>1</td>\n",
       "      <td>1</td>\n",
       "      <td>8</td>\n",
       "      <td>87</td>\n",
       "      <td>68</td>\n",
       "      <td>97</td>\n",
       "      <td>232</td>\n",
       "      <td>1</td>\n",
       "    </tr>\n",
       "    <tr>\n",
       "      <th>4</th>\n",
       "      <td>['0031']</td>\n",
       "      <td>109</td>\n",
       "      <td>767</td>\n",
       "      <td>109</td>\n",
       "      <td>1</td>\n",
       "      <td>1</td>\n",
       "      <td>1</td>\n",
       "      <td>1</td>\n",
       "      <td>405</td>\n",
       "      <td>18</td>\n",
       "      <td>9</td>\n",
       "    </tr>\n",
       "    <tr>\n",
       "      <th>5</th>\n",
       "      <td>['0031']</td>\n",
       "      <td>103</td>\n",
       "      <td>1</td>\n",
       "      <td>8</td>\n",
       "      <td>768</td>\n",
       "      <td>33</td>\n",
       "      <td>30</td>\n",
       "      <td>769</td>\n",
       "      <td>314</td>\n",
       "      <td>110</td>\n",
       "      <td>314</td>\n",
       "    </tr>\n",
       "  </tbody>\n",
       "</table>\n",
       "</div>"
      ],
      "text/plain": [
       "             user_id  site_1  site_2  site_3  site_4  site_5  site_6  site_7  \\\n",
       "session_id                                                                     \n",
       "1           ['0031']     101      65      10       4      10      10       4   \n",
       "2           ['0031']      68      62     130     271      10      24      40   \n",
       "3           ['0031']       1       4       1       1       8      87      68   \n",
       "4           ['0031']     109     767     109       1       1       1       1   \n",
       "5           ['0031']     103       1       8     768      33      30     769   \n",
       "\n",
       "            site_8  site_9  site_10  \n",
       "session_id                           \n",
       "1               10      74       10  \n",
       "2              766      32        1  \n",
       "3               97     232        1  \n",
       "4              405      18        9  \n",
       "5              314     110      314  "
      ]
     },
     "execution_count": 279,
     "metadata": {},
     "output_type": "execute_result"
    }
   ],
   "source": [
    "train_df.head()"
   ]
  },
  {
   "cell_type": "code",
   "execution_count": 25,
   "id": "e6de1fe6",
   "metadata": {},
   "outputs": [
    {
     "name": "stdout",
     "output_type": "stream",
     "text": [
      "<class 'pandas.core.frame.DataFrame'>\n",
      "Int64Index: 14061 entries, 1 to 14061\n",
      "Data columns (total 11 columns):\n",
      " #   Column   Non-Null Count  Dtype \n",
      "---  ------   --------------  ----- \n",
      " 0   user_id  14061 non-null  object\n",
      " 1   site_1   14061 non-null  int64 \n",
      " 2   site_2   14061 non-null  int64 \n",
      " 3   site_3   14061 non-null  int64 \n",
      " 4   site_4   14061 non-null  int64 \n",
      " 5   site_5   14061 non-null  int64 \n",
      " 6   site_6   14061 non-null  int64 \n",
      " 7   site_7   14061 non-null  int64 \n",
      " 8   site_8   14061 non-null  int64 \n",
      " 9   site_9   14061 non-null  int64 \n",
      " 10  site_10  14061 non-null  int64 \n",
      "dtypes: int64(10), object(1)\n",
      "memory usage: 1.3+ MB\n"
     ]
    }
   ],
   "source": [
    "train_df.info()"
   ]
  },
  {
   "cell_type": "markdown",
   "id": "093b7243",
   "metadata": {},
   "source": [
    "Распределение целевого класса:"
   ]
  },
  {
   "cell_type": "code",
   "execution_count": 281,
   "id": "e4efb40f",
   "metadata": {},
   "outputs": [
    {
     "data": {
      "text/plain": [
       "(array([ 760., 1022., 2204.,  802.,  720., 1712., 2796., 1868., 1643.,\n",
       "         534.]),\n",
       " array([0. , 0.9, 1.8, 2.7, 3.6, 4.5, 5.4, 6.3, 7.2, 8.1, 9. ]),\n",
       " <BarContainer object of 10 artists>)"
      ]
     },
     "execution_count": 281,
     "metadata": {},
     "output_type": "execute_result"
    },
    {
     "data": {
      "image/png": "[encoded data removed]",
      "text/plain": [
       "<Figure size 432x288 with 1 Axes>"
      ]
     },
     "metadata": {},
     "output_type": "display_data"
    }
   ],
   "source": [
    "plt.hist(train_df['user_id'])"
   ]
  },
  {
   "cell_type": "markdown",
   "id": "3f257813",
   "metadata": {},
   "source": [
    "Посчитаем распределение числа уникальных сайтов в каждой сессии из 10 посещенных подряд сайтов."
   ]
  },
  {
   "cell_type": "code",
   "execution_count": 283,
   "id": "0171e569",
   "metadata": {},
   "outputs": [],
   "source": [
    "num_unique_sites = [np.unique(train_df.values[i, 1:]).shape[0] \n",
    "                    for i in range(train_df.shape[0])]"
   ]
  },
  {
   "cell_type": "code",
   "execution_count": 284,
   "id": "d14b15a9",
   "metadata": {},
   "outputs": [
    {
     "data": {
      "text/plain": [
       "7     2308\n",
       "6     2197\n",
       "8     2046\n",
       "5     1735\n",
       "9     1394\n",
       "2     1246\n",
       "4     1163\n",
       "3      894\n",
       "10     651\n",
       "1      427\n",
       "dtype: int64"
      ]
     },
     "execution_count": 284,
     "metadata": {},
     "output_type": "execute_result"
    }
   ],
   "source": [
    "pd.Series(num_unique_sites).value_counts()"
   ]
  },
  {
   "cell_type": "code",
   "execution_count": 285,
   "id": "2365fa62",
   "metadata": {},
   "outputs": [
    {
     "data": {
      "image/png": "[encoded data removed]",
      "text/plain": [
       "<Figure size 432x288 with 1 Axes>"
      ]
     },
     "metadata": {},
     "output_type": "display_data"
    }
   ],
   "source": [
    "pd.Series(num_unique_sites).hist();"
   ]
  },
  {
   "cell_type": "markdown",
   "id": "10882da2",
   "metadata": {},
   "source": [
    "Проверим с помощью критерия Шапиро-Уилка, что эта величина распределена нормально"
   ]
  },
  {
   "cell_type": "code",
   "execution_count": 290,
   "id": "fcc80f01",
   "metadata": {},
   "outputs": [],
   "source": [
    "import scipy"
   ]
  },
  {
   "cell_type": "code",
   "execution_count": 291,
   "id": "f316d0ed",
   "metadata": {},
   "outputs": [
    {
     "data": {
      "text/plain": [
       "ShapiroResult(statistic=0.9546933174133301, pvalue=0.0)"
      ]
     },
     "execution_count": 291,
     "metadata": {},
     "output_type": "execute_result"
    }
   ],
   "source": [
    "scipy.stats.shapiro(pd.Series(num_unique_sites))"
   ]
  },
  {
   "cell_type": "markdown",
   "id": "a8b2ad02",
   "metadata": {},
   "source": [
    "Проверим гипотезу о том, что пользователь хотя бы раз зайдет на сайт, который он уже ранее посетил в сессии из 10 сайтов. Проверим с помощью биномиального критерия для доли, что доля случаев, когда пользователь повторно посетил какой-то сайт больше 95% "
   ]
  },
  {
   "cell_type": "code",
   "execution_count": 293,
   "id": "c593b15f",
   "metadata": {},
   "outputs": [],
   "source": [
    "has_two_similar = (np.array(num_unique_sites) < 10).astype(\"int\")"
   ]
  },
  {
   "cell_type": "code",
   "execution_count": 294,
   "id": "0b1c904d",
   "metadata": {},
   "outputs": [
    {
     "data": {
      "text/plain": [
       "numpy.ndarray"
      ]
     },
     "execution_count": 294,
     "metadata": {},
     "output_type": "execute_result"
    }
   ],
   "source": [
    "type(has_two_similar)"
   ]
  },
  {
   "cell_type": "code",
   "execution_count": 295,
   "id": "6baaba2a",
   "metadata": {},
   "outputs": [
    {
     "data": {
      "text/plain": [
       "13410"
      ]
     },
     "execution_count": 295,
     "metadata": {},
     "output_type": "execute_result"
    }
   ],
   "source": [
    "np.count_nonzero(has_two_similar == 1)"
   ]
  },
  {
   "cell_type": "code",
   "execution_count": 296,
   "id": "fea79b0c",
   "metadata": {},
   "outputs": [
    {
     "data": {
      "text/plain": [
       "0.02207653769039079"
      ]
     },
     "execution_count": 296,
     "metadata": {},
     "output_type": "execute_result"
    }
   ],
   "source": [
    "scipy.stats.binomtest(np.count_nonzero(has_two_similar == 1), len(has_two_similar), p=0.95, alternative='greater').pvalue"
   ]
  },
  {
   "cell_type": "markdown",
   "id": "ab72a676",
   "metadata": {},
   "source": [
    "Доля случаев когда пользователь повторно посетил в сессии сайт - больше 95%"
   ]
  },
  {
   "cell_type": "markdown",
   "id": "6d7c1436",
   "metadata": {},
   "source": [
    "95% доверительный интервал Уилсона для доли случаев, когда пользователь повторно посетил какой-то сайт:"
   ]
  },
  {
   "cell_type": "code",
   "execution_count": 298,
   "id": "9263fc7a",
   "metadata": {},
   "outputs": [],
   "source": [
    "from math import sqrt\n",
    "def wilson(p, n, z = 1.96):\n",
    "    denominator = 1 + z**2/n\n",
    "    centre_adjusted_probability = p + z*z / (2*n)\n",
    "    adjusted_standard_deviation = sqrt((p*(1 - p) + z*z / (4*n)) / n)\n",
    "    \n",
    "    lower_bound = (centre_adjusted_probability - z*adjusted_standard_deviation) / denominator\n",
    "    upper_bound = (centre_adjusted_probability + z*adjusted_standard_deviation) / denominator\n",
    "    return (lower_bound, upper_bound)"
   ]
  },
  {
   "cell_type": "code",
   "execution_count": 299,
   "id": "f0e898c4",
   "metadata": {},
   "outputs": [],
   "source": [
    "positive = np.count_nonzero(has_two_similar == 1)\n",
    "total = len(has_two_similar)\n",
    "p = positive/total\n",
    "wilson_interval = wilson(p, total)"
   ]
  },
  {
   "cell_type": "code",
   "execution_count": 300,
   "id": "967a8569",
   "metadata": {},
   "outputs": [
    {
     "data": {
      "text/plain": [
       "(0.9501028156707213, 0.9570527970878326)"
      ]
     },
     "execution_count": 300,
     "metadata": {},
     "output_type": "execute_result"
    }
   ],
   "source": [
    "wilson_interval"
   ]
  },
  {
   "cell_type": "code",
   "execution_count": 43,
   "id": "f3d25761",
   "metadata": {},
   "outputs": [
    {
     "name": "stdout",
     "output_type": "stream",
     "text": [
      "0.95 0.957\n"
     ]
    }
   ],
   "source": [
    "print('{} {}'.format(round(wilson_interval[0], 3),\n",
    "                                   round(wilson_interval[1], 3)))"
   ]
  },
  {
   "cell_type": "markdown",
   "id": "126b8173",
   "metadata": {},
   "source": [
    "Распределение частоты посещения сайтов (сколько раз тот или иной сайт попадается в выборке) для сайтов, которые были посещены как минимум 1000 раз."
   ]
  },
  {
   "cell_type": "code",
   "execution_count": 301,
   "id": "fb0f6316",
   "metadata": {},
   "outputs": [],
   "source": [
    "freq_dict = pd.read_pickle(os.path.join(PATH_TO_DATA, 'site_freq_10users.pkl'))\n",
    "                    "
   ]
  },
  {
   "cell_type": "code",
   "execution_count": 304,
   "id": "c37b6ace",
   "metadata": {},
   "outputs": [
    {
     "data": {
      "text/plain": [
       "{'webmail.laposte.net': [1, 399],\n",
       " 'plus.google.com': [2, 2630],\n",
       " 'live.lemde.fr': [3, 274],\n",
       " 'www.google.com': [4, 5441],\n",
       " 'www.google.fr': [5, 7813],\n",
       " 'apis.google.com': [6, 3758],\n",
       " 'mail.google.com': [7, 4158],\n",
       " 'www.facebook.com': [8, 4141],\n",
       " 'av.mediapostcommunication.net': [9, 133],\n",
       " 'www.laposte.net': [10, 119],\n",
       " 'fr.massivetriviaquiz.com': [11, 111],\n",
       " 'clients1.google.com': [12, 1493],\n",
       " '160.92.123.193': [13, 91],\n",
       " 'www.lequipe.fr': [14, 90],\n",
       " 'safebrowsing-cache.google.com': [15, 1039],\n",
       " 'ws.mediapostcommunication.net': [16, 86],\n",
       " 'accounts.google.com': [17, 2089],\n",
       " 'rs.mediapostcommunication.net': [18, 85],\n",
       " 's-static.ak.facebook.com': [19, 1388],\n",
       " 'news.google.fr': [20, 72],\n",
       " 'static.ak.facebook.com': [21, 1265],\n",
       " 'twitter.com': [22, 1204],\n",
       " 'www.youtube.com': [23, 1804],\n",
       " 'ajax.googleapis.com': [24, 711],\n",
       " 'cloudfront.cedexis.com': [25, 76],\n",
       " 'static.s-sfr.fr': [26, 51],\n",
       " 'hal9000.redintelligence.net': [27, 162],\n",
       " 'www.journaldesfemmes.com': [28, 50],\n",
       " 'safebrowsing.clients.google.com': [29, 598],\n",
       " 'probe.cedexis.org': [30, 81],\n",
       " 'platform.twitter.com': [31, 1041],\n",
       " 'limelight.cedexis.com': [32, 78],\n",
       " 'level3.cedexis.com': [33, 64],\n",
       " 'banniere.reussissonsensemble.fr': [34, 97],\n",
       " 'pixel.alephd.com': [35, 275],\n",
       " 'bits.wikimedia.org': [36, 402],\n",
       " 'www.sfr.fr': [37, 43],\n",
       " 'medias.lequipe.fr': [38, 42],\n",
       " 'static.lequipe.fr': [39, 41],\n",
       " 'api.dailymotion.com': [40, 40],\n",
       " 'i1.ytimg.com': [41, 1232],\n",
       " 'armmf.adobe.com': [42, 339],\n",
       " 'clients1.google.fr': [43, 226],\n",
       " 'clients2.google.com': [44, 748],\n",
       " 'chatenabled.mail.google.com': [45, 676],\n",
       " 's.ytimg.com': [46, 583],\n",
       " 'clients6.google.com': [47, 1039],\n",
       " 's1.lemde.fr': [48, 44],\n",
       " 'www.linkedin.com': [49, 407],\n",
       " 'messagerie-11.sfr.fr': [50, 32],\n",
       " 'netdna.cedexis.com': [51, 43],\n",
       " 'fr.wikipedia.org': [52, 330],\n",
       " 'www.dailymotion.com': [53, 82],\n",
       " 'bitgravity.cedexis.com': [54, 45],\n",
       " 'pixel2368.everesttech.net': [55, 97],\n",
       " 's.videostep.com': [56, 28],\n",
       " 'www.lerugbynistere.fr': [57, 27],\n",
       " 'its.tradelab.fr': [58, 230],\n",
       " 'javadl-esd-secure.oracle.com': [59, 582],\n",
       " 'fastly.bench.cedexis.com': [60, 40],\n",
       " 'ocsp.digicert.com': [61, 416],\n",
       " 'rp.gwallet.com': [62, 88],\n",
       " 'widget.achetezfacile.com': [63, 27],\n",
       " 'r4---sn-gxo5uxg-jqbe.googlevideo.com': [64, 1702],\n",
       " 'laposte.net': [65, 23],\n",
       " 'meta.wikimedia.org': [66, 234],\n",
       " 'msc2.s-sfr.fr': [67, 23],\n",
       " 'x2.vindicosuite.com': [68, 37],\n",
       " 'accounts.youtube.com': [69, 1057],\n",
       " 'ocsp.thawte.com': [70, 257],\n",
       " 's.youtube.com': [71, 8300],\n",
       " 'ieonline.microsoft.com': [72, 484],\n",
       " 'www.annuaire.com': [73, 21],\n",
       " 'match.rtbidder.net': [74, 84],\n",
       " 'drive.google.com': [75, 427],\n",
       " 'gtssl-ocsp.geotrust.com': [76, 297],\n",
       " 'sa.kewego.com': [77, 21],\n",
       " 'ocsp.usertrust.com': [78, 151],\n",
       " 'connect.facebook.net': [79, 482],\n",
       " 'netstorage.lequipe.fr': [80, 21],\n",
       " 'accounts.google.fr': [81, 974],\n",
       " 'evt.adrcntr.com': [82, 40],\n",
       " 'www.geneanet.org': [83, 20],\n",
       " 'um.simpli.fi': [84, 129],\n",
       " 'fastly.bench.cedexis.com.global.prod.fastly.net': [85, 25],\n",
       " 'gtglobal-ocsp.geotrust.com': [86, 279],\n",
       " 'rubicon-match.dotomi.com': [87, 55],\n",
       " 'www.lemonde.fr': [88, 36],\n",
       " 'chinacache.cedexis.com': [89, 25],\n",
       " 'ec2-us-west-2a.cedexis.com': [90, 21],\n",
       " 'onapp.cedexis.com': [91, 21],\n",
       " 'ocsp.verisign.com': [92, 239],\n",
       " 'static.geneanet.org': [93, 16],\n",
       " 'i.htfacile.fr': [94, 19],\n",
       " 'www.europe1.fr': [95, 16],\n",
       " 'eu-ams1.joyent.bench.cedexis.com': [96, 21],\n",
       " 'pr.ybp.yahoo.com': [97, 47],\n",
       " 'www.t2c.fr': [98, 76],\n",
       " 'ta.kewego.com': [99, 15],\n",
       " 'www.developpez.net': [100, 357],\n",
       " 'fpdownload2.macromedia.com': [101, 88],\n",
       " 'messagerie-13.sfr.fr': [102, 14],\n",
       " 'rbp.mxptint.net': [103, 46],\n",
       " 'cedexis-test01.insnw.net': [104, 21],\n",
       " 'cedexis.cachefly.net': [105, 24],\n",
       " 'fastlydsa.bench.cedexis.com': [106, 13],\n",
       " 'msc1.s-sfr.fr': [107, 13],\n",
       " 'www.wat.tv': [108, 45],\n",
       " 'b12.myspace.com': [109, 31],\n",
       " 'ec2-ap-northeast-1a.cedexis.com': [110, 18],\n",
       " 'aws-ap-southeast-2a.bench.cedexis.com': [111, 15],\n",
       " 'yt3.ggpht.com': [112, 265],\n",
       " 'login.wikimedia.org': [113, 115],\n",
       " 'www.bing.com': [114, 332],\n",
       " 'ak.c.ooyala.com': [115, 37],\n",
       " 'messagerie-12.sfr.fr': [116, 12],\n",
       " 'sfr.cedexis.com': [117, 26],\n",
       " 'cache.20minutes.fr': [118, 37],\n",
       " 'ec2-eu-west-1a.cedexis.com': [119, 19],\n",
       " 'widgets.pinterest.com': [120, 132],\n",
       " 'api.adyoulike.com': [121, 42],\n",
       " 'www.ultimedia.com': [122, 48],\n",
       " 'ad.publicidees.com': [123, 68],\n",
       " 'player.mediabong.com': [124, 17],\n",
       " 'eulerian.sarenza.com': [125, 19],\n",
       " 'us-west1.joyent.bench.cedexis.com': [126, 16],\n",
       " 'static.ccmbg.com': [127, 167],\n",
       " 'ce.lijit.com': [128, 81],\n",
       " 'static.videostep.com': [129, 12],\n",
       " 'pool-eu-ie.creative-serving.com': [130, 18],\n",
       " 'perpetuo-onl.basilic.io': [131, 11],\n",
       " 'c1.adform.net': [132, 46],\n",
       " 'llnwop.cedexis.com': [133, 14],\n",
       " 's1.libe.com': [134, 15],\n",
       " 'static.ccm2.net': [135, 213],\n",
       " 'images.yves-rocher.fr': [136, 10],\n",
       " 'choices.truste.com': [137, 98],\n",
       " 'evsecure-ocsp.verisign.com': [138, 161],\n",
       " 'cdn-ovh1.lequipe.fr': [139, 9],\n",
       " 'ec2-us-east-1a.cedexis.com': [140, 21],\n",
       " 'metrics.sfr.fr': [141, 9],\n",
       " 'pub.geneanet.org': [142, 9],\n",
       " 'platdupied.com': [143, 9],\n",
       " 'ocsp.tcs.terena.org': [144, 116],\n",
       " 'datayr.yves-rocher.fr': [145, 14],\n",
       " 'static.mediabong.com': [146, 15],\n",
       " 'foglio.basilic.io': [147, 13],\n",
       " 'plus.googleapis.com': [148, 270],\n",
       " 'www.lesechos.fr': [149, 9],\n",
       " 'maps.googleapis.com': [150, 559],\n",
       " 'login.live.com': [151, 553],\n",
       " 'boutique-online.orange.fr': [152, 27],\n",
       " 'gce-us-central1-a.bench.cedexis.com': [153, 10],\n",
       " 'apnx-match.dotomi.com': [154, 66],\n",
       " 'iad.rackspace.bench.cedexis.com': [155, 11],\n",
       " 'fr.ad4mat.net': [156, 22],\n",
       " 'ocsp.entrust.net': [157, 52],\n",
       " 'www.goodsites.fr': [158, 8],\n",
       " 'api.bing.com': [159, 205],\n",
       " 'www.play3-live.com': [160, 8],\n",
       " 'platform.linkedin.com': [161, 123],\n",
       " 's1.s-sfr.fr': [162, 8],\n",
       " 'ox-d.adventuremediaglobal.com': [163, 7],\n",
       " 'google.fr': [164, 32],\n",
       " 'ocsp.gandi.net': [165, 17],\n",
       " 'www.france24.com': [166, 7],\n",
       " 'od2.visiblemeasures.com': [167, 40],\n",
       " 'copainsdavant.linternaute.com': [168, 10],\n",
       " 's2.s-sfr.fr': [169, 7],\n",
       " 'www.magicdrafting.com': [170, 7],\n",
       " 'www.oracle.com': [171, 293],\n",
       " 'gatherer.wizards.com': [172, 7],\n",
       " 'ec2-sa-east-1a.cedexis.com': [173, 7],\n",
       " 'ocsp.comodoca.com': [174, 64],\n",
       " 'js.microsoft.com': [175, 103],\n",
       " 'us-sw1.joyent.bench.cedexis.com': [176, 9],\n",
       " 'eultech.fnac.com': [177, 9],\n",
       " 'aspserveur.bench.cedexis.com': [178, 12],\n",
       " 'akamai.cedexis.com': [179, 13],\n",
       " 'ba.linternaute.com': [180, 97],\n",
       " 'windows.microsoft.com': [181, 102],\n",
       " 'res2.windows.microsoft.com': [182, 92],\n",
       " 'kweb.videostep.com': [183, 8],\n",
       " 'www.critique-film.fr': [184, 6],\n",
       " 'cshoppingbox.partner.leguide.com': [185, 16],\n",
       " 'transact-can.cedexis.com': [186, 9],\n",
       " 'cdnjs.cloudflare.com': [187, 13],\n",
       " 'edgecast-adn.cedexis.com': [188, 10],\n",
       " 'photo.europe1.fr': [189, 6],\n",
       " 'adventori.com': [190, 68],\n",
       " 'com-sfr.netmng.com': [191, 6],\n",
       " 'mm.eulerian.net': [192, 79],\n",
       " 'cimg.leguide.com': [193, 23],\n",
       " 'gg.google.com': [194, 267],\n",
       " 'limos.raksmey.fr': [195, 150],\n",
       " 'res1.windows.microsoft.com': [196, 99],\n",
       " 'cdn2.lequipe.fr': [197, 6],\n",
       " 'ec2-us-west-1a.cedexis.com': [198, 13],\n",
       " 'w.sharethis.com': [199, 84],\n",
       " 'javadl-esd.sun.com': [200, 37],\n",
       " 'rapidssl-ocsp.geotrust.com': [201, 54],\n",
       " 'lon.rackspace.bench.cedexis.com': [202, 13],\n",
       " 'pics.2012.lesechos.com': [203, 6],\n",
       " 'eulerian.canal-plus.com': [204, 39],\n",
       " 'media.wizards.com': [205, 6],\n",
       " 'videosfr.s3.amazonaws.com': [206, 33],\n",
       " 'zor.fyre.co': [207, 9],\n",
       " 'us-east1.joyent.bench.cedexis.com': [208, 13],\n",
       " 'ea.numericable.fr': [209, 72],\n",
       " 'dsaorigin.cedexis.com': [210, 8],\n",
       " 'trp.numergy.bench.cedexis.com': [211, 5],\n",
       " 'static.gamergen.com': [212, 5],\n",
       " 'd6qn74q940.s.ad6media.fr': [213, 5],\n",
       " 'ak-w3.c.ooyala.com': [214, 7],\n",
       " 'www.gamehdwall.com': [215, 5],\n",
       " 'u.videostep.com': [216, 7],\n",
       " '0.gravatar.com': [217, 76],\n",
       " 'gb2.cedexis.swiftserve.com': [218, 11],\n",
       " 'code.jquery.com': [219, 69],\n",
       " 'www.priceminister.com': [220, 5],\n",
       " 'goodsites.kazeo.com': [221, 5],\n",
       " 'cloudfront-dsa.cedexis.com': [222, 8],\n",
       " 'www.zdnet.fr': [223, 5],\n",
       " 'fr-mg42.mail.yahoo.com': [224, 1868],\n",
       " 'login.yahoo.com': [225, 700],\n",
       " 'endor.mediabong.com': [226, 9],\n",
       " 'ba.commentcamarche.net': [227, 160],\n",
       " 'www.commentcamarche.net': [228, 139],\n",
       " 'jserror.newrelic.com': [229, 6],\n",
       " 'audience.visiblemeasures.com': [230, 11],\n",
       " 'publi.lemonde.fr': [231, 5],\n",
       " 'dtm.ccs.com': [232, 12],\n",
       " 'deliv.leboncoin.fr': [233, 179],\n",
       " 'sjc.sl.bench.cedexis.com': [234, 6],\n",
       " 'cpm1.affiz.net': [235, 6],\n",
       " 'r.ccmbg.com': [236, 113],\n",
       " 'ea.smartbox.com': [237, 6],\n",
       " 'logger-02.vty.dailymotion.com': [238, 16],\n",
       " 'www.kazeo.com': [239, 4],\n",
       " 'static.groupon.fr': [240, 12],\n",
       " 'korriban.mediabong.com': [241, 4],\n",
       " 'www.ladepeche.fr': [242, 4],\n",
       " 'a.nonstoppartner.net': [243, 20],\n",
       " 'mfr.meteofrance.com': [244, 14],\n",
       " 'dbe.linternaute.com': [245, 4],\n",
       " 'ovkcetdsmk.s.ad6media.fr': [246, 4],\n",
       " 'www.linternaute.com': [247, 241],\n",
       " 'semantiweb.appspot.com': [248, 4],\n",
       " 'www.gamergen.com': [249, 4],\n",
       " 'playout.3qsdn.com': [250, 4],\n",
       " 'images.orangepublicite.fr': [251, 32],\n",
       " 'info.sfr.fr': [252, 4],\n",
       " 'www.mots-croises.ch': [253, 4],\n",
       " 'limelightperf.cedexis.com': [254, 7],\n",
       " 'images.eveiletjeux.net': [255, 7],\n",
       " 'paris.veepee.bench.cedexis.com': [256, 4],\n",
       " 's.tf1.fr': [257, 4],\n",
       " 'sin.sl.bench.cedexis.com': [258, 6],\n",
       " 'www.ibm.com': [259, 55],\n",
       " 'www.math.univ-paris13.fr': [260, 4],\n",
       " 'cntr.adrcntr.com': [261, 12],\n",
       " 'sin.savvis.bench.cedexis.com': [262, 6],\n",
       " 'tc.airfrance.com': [263, 22],\n",
       " 'img1.blogblog.com': [264, 29],\n",
       " 'r3---sn-gxo5uxg-jqbe.googlevideo.com': [265, 3244],\n",
       " 'ucs.query.yahoo.com': [266, 295],\n",
       " 'redir.adbutter.net': [267, 16],\n",
       " 'en.wikibooks.org': [268, 6],\n",
       " 'dub130.mail.live.com': [269, 65],\n",
       " 'h.live.com': [270, 482],\n",
       " 'dl.javafx.com': [271, 65],\n",
       " 'www.capeutservir.com': [272, 4],\n",
       " 'messagerie.sfr.fr': [273, 4],\n",
       " 'transp-or.epfl.ch': [274, 4],\n",
       " 'www.mathworks.fr': [275, 31],\n",
       " 'illiweb.com': [276, 35],\n",
       " 'dynamic2.cedexis.com': [277, 5],\n",
       " 'm.sfr.fr': [278, 4],\n",
       " 'lh4.ggpht.com': [279, 26],\n",
       " 's2.wp.com': [280, 40],\n",
       " 's5.scribdassets.com': [281, 18],\n",
       " 'radar.cedexis.swiftserve.com': [282, 14],\n",
       " 'i.ytimg.com': [283, 7],\n",
       " 'dce.linternaute.com': [284, 4],\n",
       " 'tempsreel.nouvelobs.com': [285, 11],\n",
       " 'fac.linternaute.com': [286, 6],\n",
       " 'dc14.s233.meetrics.net': [287, 3],\n",
       " 'gmail.com': [288, 37],\n",
       " 'www.yahoo.com': [289, 9],\n",
       " 'fr.openclassrooms.com': [290, 662],\n",
       " 'referentiel.nouvelobs.com': [291, 10],\n",
       " 'us-request.foxitservice.com': [292, 10],\n",
       " 'www.scribd.com': [293, 11],\n",
       " 'premium.hi-mediaserver.com': [294, 117],\n",
       " 'image.jeuxvideo.com': [295, 27],\n",
       " 'www.jeuxvideo.com': [296, 24],\n",
       " 's.kewego.com': [297, 3],\n",
       " 'u25ginzswq.s.ad6media.fr': [298, 3],\n",
       " 'sita-fra.bench.cedexis.com': [299, 3],\n",
       " 'ebc.linternaute.com': [300, 3],\n",
       " 'aruba-it.bench.cedexis.com': [301, 3],\n",
       " 'www.hatingmyjob.com': [302, 3],\n",
       " 'espace-client.sfr.fr': [303, 3],\n",
       " 'cdx1.ecritel.bench.cedexis.com': [304, 3],\n",
       " 'flux.liberation.fr': [305, 4],\n",
       " 'dl.patchbeam.com': [306, 45],\n",
       " 'clicks.beap.bc.yahoo.com': [307, 63],\n",
       " 'syndication.twitter.com': [308, 463],\n",
       " 'cca.linternaute.com': [309, 3],\n",
       " 'edc.linternaute.com': [310, 3],\n",
       " 'docs.google.com': [311, 133],\n",
       " 'zoonek2.free.fr': [312, 3],\n",
       " 'ocsp.godaddy.com': [313, 78],\n",
       " 'cdx.selectel.ru': [314, 3],\n",
       " 'image-uniservice.copainsdavant.com': [315, 3],\n",
       " 'dc13.s233.meetrics.net': [316, 3],\n",
       " 'efa.linternaute.com': [317, 4],\n",
       " 'eff.linternaute.com': [318, 5],\n",
       " 'apex.oracle.com': [319, 103],\n",
       " 'd1m6l9dfulcyw7.cloudfront.net': [320, 3],\n",
       " 'denver.viawest.bench.cedexis.com': [321, 3],\n",
       " 'd2xgf76oeu9pbh.cloudfront.net': [322, 4],\n",
       " 'eea.linternaute.com': [323, 6],\n",
       " 'go.microsoft.com': [324, 253],\n",
       " 'static-tv.s-sfr.fr': [325, 3],\n",
       " 'media.cyrillus.fr': [326, 5],\n",
       " 'csm2waycm-atl.netmng.com': [327, 10],\n",
       " 'style2.ad6.fr': [328, 21],\n",
       " 'sita-sin.bench.cedexis.com': [329, 5],\n",
       " 'listener.ezakus.net': [330, 16],\n",
       " 'www.tf1.fr': [331, 3],\n",
       " 'lci.tf1.fr': [332, 3],\n",
       " 'azionusa.cedexis.com': [333, 11],\n",
       " 'slpubmedias.tf1.fr': [334, 10],\n",
       " 'www.vbalink.info': [335, 3],\n",
       " 'ams.sl.bench.cedexis.com': [336, 4],\n",
       " 's2.lemde.fr': [337, 4],\n",
       " 'sfr-messagerie.services.sfr.fr': [338, 3],\n",
       " 'video.mediabong.com': [339, 5],\n",
       " 'www.poker-actu.fr': [340, 3],\n",
       " 'b.mail.google.com': [341, 141],\n",
       " 'pics.lesechos.com': [342, 3],\n",
       " 'dc1w54.wysistat.com': [343, 37],\n",
       " 's.srvntrk.com': [344, 9],\n",
       " 'dtm.gap.com': [345, 6],\n",
       " 'pascalafourcade.free.fr': [346, 2],\n",
       " 'us-mg42.mail.yahoo.com': [347, 23],\n",
       " 'www.blogger.com': [348, 82],\n",
       " 'www.mathworks.com': [349, 14],\n",
       " 'thumbp5-ir2.mail.yahoo.com': [350, 13],\n",
       " 'img2.blogblog.com': [351, 15],\n",
       " 'statistiques.forumpro.fr': [352, 7],\n",
       " 'www.lamsade.dauphine.fr': [353, 6],\n",
       " 'apr.lijit.com': [354, 13],\n",
       " 'futpsw.sfr.fr': [355, 2],\n",
       " 'vap2iad1.lijit.com': [356, 2],\n",
       " 'ea.pixmania.fr': [357, 7],\n",
       " 'htmlimg2.scribdassets.com': [358, 17],\n",
       " 'adgallery.zenfs.com': [359, 5],\n",
       " 'www.finaland.com': [360, 2],\n",
       " 's6.scribdassets.com': [361, 7],\n",
       " 'kwebstat.videostep.com': [362, 2],\n",
       " 'id.google.fr': [363, 80],\n",
       " 'edge.sharethis.com': [364, 27],\n",
       " 's0.wp.com': [365, 59],\n",
       " 'dtm.pacsun.com': [366, 3],\n",
       " 'eu.square-enix.com': [367, 2],\n",
       " 'fr.yahoo.com': [368, 379],\n",
       " 'r2---sn-gxo5uxg-jqbe.googlevideo.com': [369, 1939],\n",
       " 'cbv.sfr.bench.cedexis.com': [370, 2],\n",
       " 'val.cloudwatt.bench.cedexis.com': [371, 2],\n",
       " 'r.ccm2.net': [372, 41],\n",
       " 'media.kpsule.me': [373, 7],\n",
       " 'geo.mozilla.org': [374, 23],\n",
       " 'telecharger.musique.sfr.fr': [375, 2],\n",
       " 'www.liberation.fr': [376, 3],\n",
       " 'img.s-sfr.fr': [377, 2],\n",
       " 'cms.abmr.net': [378, 25],\n",
       " 'level3-vip.cedexis.com': [379, 2],\n",
       " 'addons.foxitsoftware.com': [380, 3],\n",
       " 'oracle.padiact.com': [381, 2],\n",
       " 'mono.vizu.com': [382, 2],\n",
       " 'zor.livefyre.com': [383, 7],\n",
       " 'cdn2.tagcommander.com': [384, 2],\n",
       " 'avatars.fyre.co': [385, 3],\n",
       " 'md1.libe.com': [386, 4],\n",
       " 'www.googleapis.com': [387, 163],\n",
       " 'md0.libe.com': [388, 3],\n",
       " 'hitcount.liberation.fr': [389, 3],\n",
       " 'betas0.libe.com': [390, 3],\n",
       " 'scd.france24.com': [391, 2],\n",
       " 'creative.stayfriends.de': [392, 2],\n",
       " 'static1.shopoon.fr': [393, 2],\n",
       " 'ajax.microsoft.com': [394, 51],\n",
       " 'jeux-tv.sfr.fr': [395, 2],\n",
       " '1.www.s81c.com': [396, 26],\n",
       " 'armdl.adobe.com': [397, 62],\n",
       " 'club-video.sfr.fr': [398, 2],\n",
       " 'assistance.sfr.fr': [399, 2],\n",
       " 'ovh-canada.bench.cedexis.com': [400, 2],\n",
       " 'v2.m.sfr.fr': [401, 2],\n",
       " 'i4.ytimg.com': [402, 13],\n",
       " 'sb-ssl.google.com': [403, 26],\n",
       " 'dtm.footlocker.com': [404, 5],\n",
       " 'trk.adbutter.net': [405, 11],\n",
       " 'www.mozilla.org': [406, 10],\n",
       " 'slc.viawest.bench.cedexis.com': [407, 3],\n",
       " 'gdata.youtube.com': [408, 116],\n",
       " 'socialprofiles.zenfs.com': [409, 154],\n",
       " 'image-parcours.copainsdavant.com': [410, 2],\n",
       " 'ba.journaldesfemmes.com': [411, 15],\n",
       " 'cbl.linternaute.com': [412, 3],\n",
       " 'lequipe.fr': [413, 2],\n",
       " 'pbs.twimg.com': [414, 111],\n",
       " 'tag.webcompteur.com': [415, 2],\n",
       " 'aff.sportsevents365.com': [416, 2],\n",
       " 'js.live.net': [417, 90],\n",
       " 'www.eficiens-serving2.com': [418, 2],\n",
       " 'aff.linternaute.com': [419, 2],\n",
       " 'maps.google.com': [420, 167],\n",
       " 'eed.linternaute.com': [421, 2],\n",
       " 'static2.canalplus.fr': [422, 2],\n",
       " 'cm.adgrx.com': [423, 13],\n",
       " 'de.aruba.bench.cedexis.com': [424, 2],\n",
       " 'dtm.thingsremembered.com': [425, 3],\n",
       " 'aruba-cz.bench.cedexis.com': [426, 4],\n",
       " 'boutique.linternaute.com': [427, 2],\n",
       " 'afc.linternaute.com': [428, 2],\n",
       " 'bae.linternaute.com': [429, 5],\n",
       " 'iad1.rackspace.bench.cedexis.com': [430, 2],\n",
       " 'i3.msdn.microsoft.com': [431, 2],\n",
       " 'video.jeuxvideo.com': [432, 2],\n",
       " 'www.conforama.fr': [433, 5],\n",
       " 'dff.linternaute.com': [434, 2],\n",
       " 'www.eficiens-serving.com': [435, 2],\n",
       " 'pmu.eficiens-serving.com': [436, 3],\n",
       " 'bourse.lesechos.fr': [437, 2],\n",
       " 'audience.netavenir.com': [438, 2],\n",
       " 'video.premiere.fr': [439, 6],\n",
       " 'www.prizee.com': [440, 3],\n",
       " 'google.ezakus.net': [441, 7],\n",
       " 'global-loc.mediagen.fr': [442, 2],\n",
       " 'www.dlcompare.fr': [443, 2],\n",
       " 'casale-match.dotomi.com': [444, 4],\n",
       " 'media.conforama.fr': [445, 3],\n",
       " 'ak-g-ssl.c.ooyala.com': [446, 4],\n",
       " 'hkg.rackspace.bench.cedexis.com': [447, 6],\n",
       " 'pings.conviva.com': [448, 37],\n",
       " 'evintl-ocsp.verisign.com': [449, 91],\n",
       " 'windowslive.tt.omtrdc.net': [450, 250],\n",
       " 'mpp2.vindicosuite.com': [451, 19],\n",
       " 'www.20minutes.fr': [452, 12],\n",
       " 'kh6qrx0f8h.s.ad6media.fr': [453, 24],\n",
       " 'emailretargeting.com': [454, 26],\n",
       " 'banner.nonstoppartner.net': [455, 8],\n",
       " '4wa5x9fgbp.b.ad6media.fr': [456, 2],\n",
       " 'livepassdl.conviva.com': [457, 33],\n",
       " 'team.newsweb.fr': [458, 2],\n",
       " 'romgbafr.blogspot.com': [459, 2],\n",
       " 'vnx.numergy.bench.cedexis.com': [460, 2],\n",
       " 'romgbafr.blogspot.fr': [461, 2],\n",
       " 'i1-js-14-3-01-11074-228326134-i.init.cedexis-radar.net': [462, 1],\n",
       " 'n11.hal9000.redintelligence.net': [463, 1],\n",
       " 'n40.hal9000.redintelligence.net': [464, 3],\n",
       " 'i1-js-14-3-01-11074-505365890-i.init.cedexis-radar.net': [465, 1],\n",
       " 'i1-js-14-3-01-11074-73116105-i.init.cedexis-radar.net': [466, 1],\n",
       " 'i1-js-14-3-01-11074-143583793-i.init.cedexis-radar.net': [467, 1],\n",
       " 'i1-js-14-3-01-11074-603451701-i.init.cedexis-radar.net': [468, 1],\n",
       " 'n16.hal9000.redintelligence.net': [469, 2],\n",
       " 'i1-js-14-3-01-11074-472837329-i.init.cedexis-radar.net': [470, 1],\n",
       " 'i1-js-14-3-01-11074-606903505-i.init.cedexis-radar.net': [471, 1],\n",
       " 'i1-js-14-3-01-11074-699921704-i.init.cedexis-radar.net': [472, 1],\n",
       " 'lelab.europe1.fr': [473, 1],\n",
       " 'nb-commons.storage.googleapis.com': [474, 3],\n",
       " 'i1-js-14-3-01-11074-472308438-i.init.cedexis-radar.net': [475, 1],\n",
       " 'i1-js-14-3-01-11074-192851304-i.init.cedexis-radar.net': [476, 1],\n",
       " 'i1-js-14-3-01-11074-231405084-i.init.cedexis-radar.net': [477, 1],\n",
       " 'i1-js-14-3-01-11074-112627276-i.init.cedexis-radar.net': [478, 1],\n",
       " 'tngs0vuzab.s.ad6media.fr': [479, 1],\n",
       " 'i1-js-14-3-01-11074-92524777-i.init.cedexis-radar.net': [480, 1],\n",
       " 'ps3-loc.mediagen.fr': [481, 1],\n",
       " 'i1-js-14-3-01-11074-844105972-i.init.cedexis-radar.net': [482, 1],\n",
       " 'i1-js-14-3-01-11074-221367235-i.init.cedexis-radar.net': [483, 1],\n",
       " 'i1-js-14-3-01-11074-965602517-i.init.cedexis-radar.net': [484, 1],\n",
       " 'i1-js-14-3-01-11074-481415685-i.init.cedexis-radar.net': [485, 1],\n",
       " 'i1-js-14-3-01-11074-780736393-i.init.cedexis-radar.net': [486, 1],\n",
       " 'dfw.rackspace.bench.cedexis.com': [487, 4],\n",
       " 'i1-js-14-3-01-11074-51513411-i.init.cedexis-radar.net': [488, 1],\n",
       " 'i1-js-14-3-01-11074-481238323-i.init.cedexis-radar.net': [489, 1],\n",
       " 'i1-js-14-3-01-11074-119249028-i.init.cedexis-radar.net': [490, 1],\n",
       " 'static.buzzerie.com': [491, 1],\n",
       " 'i1-js-14-3-01-11074-87293069-i.init.cedexis-radar.net': [492, 1],\n",
       " 's233.meetrics.net': [493, 1],\n",
       " 'i1-js-14-3-01-11074-518884641-i.init.cedexis-radar.net': [494, 1],\n",
       " 'i1-js-14-3-01-11074-250733537-i.init.cedexis-radar.net': [495, 1],\n",
       " 'i1-js-14-3-01-11074-975529973-i.init.cedexis-radar.net': [496, 1],\n",
       " 'player.mediabong.net': [497, 1],\n",
       " 'i1-js-14-3-01-11074-676016927-i.init.cedexis-radar.net': [498, 1],\n",
       " 'i1-js-14-3-01-10013-489174752-i.init.cedexis-radar.net': [499, 1],\n",
       " 'www.youtube-nocookie.com': [500, 110],\n",
       " 'i1-js-14-3-01-11074-66765346-i.init.cedexis-radar.net': [501, 1],\n",
       " 'n9.hal9000.redintelligence.net': [502, 1],\n",
       " 'office14client.microsoft.com': [503, 25],\n",
       " 'n32.hal9000.redintelligence.net': [504, 1],\n",
       " 'retargeting.veoxa.com': [505, 10],\n",
       " 'i1-js-14-3-01-11074-951901829-i.init.cedexis-radar.net': [506, 1],\n",
       " 'i1-js-14-3-01-11074-657632222-i.init.cedexis-radar.net': [507, 1],\n",
       " 'services.highbeam.com': [508, 4],\n",
       " 'i1-js-14-3-01-11074-469259206-i.init.cedexis-radar.net': [509, 1],\n",
       " 'i1-js-14-3-01-11074-554567228-i.init.cedexis-radar.net': [510, 1],\n",
       " 'integrate.factiva.com': [511, 4],\n",
       " 'i1-js-14-3-01-10013-450222090-i.init.cedexis-radar.net': [512, 1],\n",
       " 'i1-js-14-3-01-11074-297407461-i.init.cedexis-radar.net': [513, 1],\n",
       " 'www.outiror.com': [514, 3],\n",
       " 'i1-js-14-3-01-10292-382057998-i.init.cedexis-radar.net': [515, 1],\n",
       " 'i1-js-14-3-01-11074-296624272-i.init.cedexis-radar.net': [516, 1],\n",
       " 'i1-js-14-3-01-11074-676250759-i.init.cedexis-radar.net': [517, 1],\n",
       " 'www.beead.fr': [518, 21],\n",
       " 'i1-js-14-3-01-11074-826550791-i.init.cedexis-radar.net': [519, 1],\n",
       " 'i1-js-14-3-01-11074-540323040-i.init.cedexis-radar.net': [520, 1],\n",
       " 's.wat.tv': [521, 5],\n",
       " 'i1-js-14-3-01-11074-405370079-i.init.cedexis-radar.net': [522, 1],\n",
       " 'i1-js-14-3-01-11074-142065188-i.init.cedexis-radar.net': [523, 1],\n",
       " 'i1-js-14-3-01-11074-886191759-i.init.cedexis-radar.net': [524, 1],\n",
       " 'i1-js-14-3-01-11074-639646207-i.init.cedexis-radar.net': [525, 1],\n",
       " 'api.tf1.fr': [526, 1],\n",
       " 'n7.hal9000.redintelligence.net': [527, 3],\n",
       " 'i1-js-14-3-01-10077-437348255-i.init.cedexis-radar.net': [528, 1],\n",
       " 'sa.tf1.fr': [529, 1],\n",
       " 'i1-js-14-3-01-11074-921886614-i.init.cedexis-radar.net': [530, 1],\n",
       " 'i2.ytimg.com': [531, 20],\n",
       " 'i1-js-14-3-01-11074-560491595-i.init.cedexis-radar.net': [532, 1],\n",
       " 'i1-js-14-3-01-11074-415607820-i.init.cedexis-radar.net': [533, 1],\n",
       " 'i1-js-14-3-01-11074-651025060-i.init.cedexis-radar.net': [534, 1],\n",
       " 'rr.office.microsoft.com': [535, 8],\n",
       " 'n22.hal9000.redintelligence.net': [536, 5],\n",
       " 'n18.hal9000.redintelligence.net': [537, 4],\n",
       " 'log.wat.tv': [538, 1],\n",
       " 'tf1.fr': [539, 1],\n",
       " 'n12.hal9000.redintelligence.net': [540, 1],\n",
       " 'evsecure-ocsp.thawte.com': [541, 2],\n",
       " 'i1-js-14-3-01-11074-212110788-i.init.cedexis-radar.net': [542, 1],\n",
       " 'i1-js-14-3-01-11074-198879476-i.init.cedexis-radar.net': [543, 1],\n",
       " 'i1-js-14-3-01-11074-609792024-i.init.cedexis-radar.net': [544, 1],\n",
       " 'cloud.ger.leaseweb.bench.cedexis.com': [545, 3],\n",
       " 'i1-js-14-3-01-11074-695866183-i.init.cedexis-radar.net': [546, 1],\n",
       " 'i1-js-14-3-01-11074-618659898-i.init.cedexis-radar.net': [547, 1],\n",
       " 'i1-js-14-3-01-10013-463160605-i.init.cedexis-radar.net': [548, 1],\n",
       " 'i1-js-14-3-01-10044-887478618-i.init.cedexis-radar.net': [549, 1],\n",
       " 'static.ad4mat.net': [550, 4],\n",
       " 'cyrillus.commander1.com': [551, 3],\n",
       " 'm.ad6media.fr': [552, 13],\n",
       " 'www.gravatar.com': [553, 138],\n",
       " 'i2.wp.com': [554, 18],\n",
       " 'sharetv.com': [555, 1],\n",
       " 'sharetv.org': [556, 1],\n",
       " 'cms.sfr.fr': [557, 1],\n",
       " 'presse-sfr-fr-dev.sfrpims.fr': [558, 1],\n",
       " 'securitemobile.sfr.fr': [559, 1],\n",
       " 'monprofil.sfr.fr': [560, 1],\n",
       " 'presse.sfr.fr': [561, 1],\n",
       " 'usercare.sfrbusinessteam.fr': [562, 1],\n",
       " 'pp-presse.sfr.fr': [563, 1],\n",
       " 'dev-presse.sfr.fr': [564, 1],\n",
       " 'forum.sfr.fr': [565, 1],\n",
       " 'neufbox.sfr.fr': [566, 1],\n",
       " 'contacteznous.sfr.fr': [567, 1],\n",
       " 'internet3gplus.sfr.fr': [568, 1],\n",
       " 'alertesmobiles.services.sfr.fr': [569, 1],\n",
       " 'i.neoseeker.com': [570, 1],\n",
       " 'ca.m.sfr.im': [571, 1],\n",
       " 'www.blogblog.com': [572, 18],\n",
       " 'i1-js-14-3-01-11074-879752372-i.init.cedexis-radar.net': [573, 1],\n",
       " 'i1-js-14-3-01-11074-38730156-i.init.cedexis-radar.net': [574, 1],\n",
       " 'i1-js-14-3-01-10044-931404436-i.init.cedexis-radar.net': [575, 1],\n",
       " 'i1-js-14-3-01-11074-410195132-i.init.cedexis-radar.net': [576, 1],\n",
       " 'i1-js-14-3-01-10044-124735482-i.init.cedexis-radar.net': [577, 1],\n",
       " 'cdn3.host.nouvelobs.com': [578, 1],\n",
       " 'leplus.nouvelobs.com': [579, 3],\n",
       " 'api-leplus.nouvelobs.com': [580, 3],\n",
       " 'ssobs.nouvelobs.com': [581, 3],\n",
       " 'mb.regionsjob.com': [582, 1],\n",
       " 'www.mediapeo2.com': [583, 2],\n",
       " 'www.livredelire.com': [584, 1],\n",
       " 'webe.emv3.com': [585, 2],\n",
       " 'i1-js-14-3-01-10013-138814785-i.init.cedexis-radar.net': [586, 1],\n",
       " 'vm.ger.leaseweb.bench.cedexis.com': [587, 1],\n",
       " 'emploi.nouvelobs.com': [588, 1],\n",
       " 'i1-js-14-3-01-10044-817413878-i.init.cedexis-radar.net': [589, 1],\n",
       " 'i1-js-14-3-01-11074-883182789-i.init.cedexis-radar.net': [590, 1],\n",
       " 'i1-js-14-3-01-11074-776028480-i.init.cedexis-radar.net': [591, 1],\n",
       " 'i1-js-14-3-01-11074-207212615-i.init.cedexis-radar.net': [592, 1],\n",
       " 'static.ladepeche.fr': [593, 1],\n",
       " 'static.publi.fr': [594, 1],\n",
       " 'i1-js-14-3-01-10077-64220993-i.init.cedexis-radar.net': [595, 1],\n",
       " 'i1-js-14-3-01-10044-698893547-i.init.cedexis-radar.net': [596, 1],\n",
       " 'i1-js-14-3-01-11074-146531781-i.init.cedexis-radar.net': [597, 1],\n",
       " 'www.grouponitalia.com': [598, 1],\n",
       " 'i1-js-14-3-01-10013-419876254-i.init.cedexis-radar.net': [599, 1],\n",
       " 'i1-js-14-3-01-10044-587606237-i.init.cedexis-radar.net': [600, 1],\n",
       " 'ftn.fortuneo.fr': [601, 87],\n",
       " 'i1-js-14-3-01-10005-701909503-i.init.cedexis-radar.net': [602, 1],\n",
       " 'measure.20mn.fr': [603, 5],\n",
       " 'i1-js-14-3-01-11074-444250899-i.init.cedexis-radar.net': [604, 1],\n",
       " 'controle-acces.m.sfr.fr': [605, 1],\n",
       " 'homescope.sfr.fr': [606, 1],\n",
       " 'espace-client.m.sfr.fr': [607, 1],\n",
       " 'i1-js-14-3-01-11074-30180342-i.init.cedexis-radar.net': [608, 1],\n",
       " 'msc3.s-sfr.fr': [609, 1],\n",
       " 'ocsp2.globalsign.com': [610, 15],\n",
       " 'i1-js-14-3-01-10083-735992672-i.init.cedexis-radar.net': [611, 1],\n",
       " 'i1-js-14-3-01-11074-645613144-i.init.cedexis-radar.net': [612, 1],\n",
       " 'i1-js-14-3-01-11074-598768507-i.init.cedexis-radar.net': [613, 1],\n",
       " 'sfr.fr': [614, 1],\n",
       " 'www.iro.umontreal.ca': [615, 2],\n",
       " 'viafoura.s3.amazonaws.com': [616, 1],\n",
       " 'i1-js-14-3-01-11074-989642833-i.init.cedexis-radar.net': [617, 1],\n",
       " 'i1-js-14-3-01-11074-265180716-i.init.cedexis-radar.net': [618, 1],\n",
       " 'i1-js-14-3-01-11074-511974263-i.init.cedexis-radar.net': [619, 1],\n",
       " 'i1-js-14-3-01-11074-300071794-i.init.cedexis-radar.net': [620, 1],\n",
       " 'i1-js-14-3-01-11074-190330828-i.init.cedexis-radar.net': [621, 1],\n",
       " 'i1-js-14-3-01-11074-788009018-i.init.cedexis-radar.net': [622, 1],\n",
       " 'repondeur-plus.sfr.fr': [623, 1],\n",
       " 'i1-js-14-3-01-11074-74407723-i.init.cedexis-radar.net': [624, 1],\n",
       " 'i1-js-14-3-01-11074-571028958-i.init.cedexis-radar.net': [625, 1],\n",
       " 'i1-js-14-3-01-11074-556355125-i.init.cedexis-radar.net': [626, 1],\n",
       " 'i1-js-14-3-01-11074-373108888-i.init.cedexis-radar.net': [627, 1],\n",
       " 'i1-js-14-3-01-11074-493308000-i.init.cedexis-radar.net': [628, 1],\n",
       " 'i1-js-14-3-01-11074-854114396-i.init.cedexis-radar.net': [629, 1],\n",
       " 'i1-js-14-3-01-11074-271007771-i.init.cedexis-radar.net': [630, 1],\n",
       " 'i1-js-14-3-01-11074-512226758-i.init.cedexis-radar.net': [631, 1],\n",
       " 'gravatar.com': [632, 7],\n",
       " 'i1-js-14-3-01-11074-555218475-i.init.cedexis-radar.net': [633, 1],\n",
       " 'i1.wp.com': [634, 11],\n",
       " 'i1-js-14-3-01-11074-305185178-i.init.cedexis-radar.net': [635, 1],\n",
       " 'n10.hal9000.redintelligence.net': [636, 1],\n",
       " 'i1-js-14-3-01-11074-575348538-i.init.cedexis-radar.net': [637, 1],\n",
       " 'promoslive-sfr.services.sfr.fr': [638, 1],\n",
       " 'controle-acces.sfr.fr.staging.sfrpims.fr': [639, 1],\n",
       " 'controle-acces.m.sfr.fr.staging.sfrpims.fr': [640, 1],\n",
       " 'parrainage-red.sfr.fr': [641, 1],\n",
       " 'import-contacts.sfr.fr': [642, 1],\n",
       " 'billing.funinfo.sfr.fr': [643, 1],\n",
       " 'livepass.sfr.fr': [644, 1],\n",
       " 'sauvegarde-sim.sfr.fr': [645, 1],\n",
       " 'i1-js-14-3-01-11074-383417193-i.init.cedexis-radar.net': [646, 1],\n",
       " 'controle-acces.sfr.fr': [647, 1],\n",
       " 'www.dissidia-france.com': [648, 1],\n",
       " 'i1-js-14-3-01-11074-981670202-i.init.cedexis-radar.net': [649, 1],\n",
       " 'mes-contacts.prodcache.services.sfr.fr': [650, 1],\n",
       " 'test-int-billing.funinfo.sfr.fr': [651, 1],\n",
       " 'hubster.sfr.fr': [652, 1],\n",
       " 'box.sfr.fr': [653, 1],\n",
       " '3g.sfr.fr': [654, 1],\n",
       " 'membership.square-enix.com': [655, 1],\n",
       " 'image.noelshack.com': [656, 1],\n",
       " 'ca.sfr.im': [657, 1],\n",
       " 'jeux-netbook.sfr.fr': [658, 1],\n",
       " 'fon.sfr.fr': [659, 1],\n",
       " 'nsa34.casimages.com': [660, 5],\n",
       " 'mes-contacts.services.sfr.fr': [661, 1],\n",
       " 'atelier.sfr.fr': [662, 1],\n",
       " 'i1-js-14-3-01-11074-313497179-i.init.cedexis-radar.net': [663, 1],\n",
       " 'contact-mobile.sfr.fr': [664, 1],\n",
       " 'ocsp.csctrustedsecure.com': [665, 1],\n",
       " 'tv.sfr.fr': [666, 1],\n",
       " 'test-billing.funinfo.sfr.fr': [667, 1],\n",
       " 'integ.securitemobile.sfr.fr': [668, 1],\n",
       " 'i1-js-14-3-01-11074-915486961-i.init.cedexis-radar.net': [669, 1],\n",
       " 'i1-js-14-3-01-11074-905782560-i.init.cedexis-radar.net': [670, 1],\n",
       " 'images.buzzerie.com': [671, 1],\n",
       " 'www.adobe.com': [672, 16],\n",
       " 'static.actusports.fr': [673, 1],\n",
       " 'widgets.sportsevents365.com': [674, 1],\n",
       " 'www.webcompteur.com': [675, 1],\n",
       " 'xml.betclick.com': [676, 1],\n",
       " 'www2.lequipe.fr': [677, 1],\n",
       " 'eulerian.telechargement.fr': [678, 3],\n",
       " 'www.2012.lesechos.fr': [679, 1],\n",
       " 'pics.bourse.lesechos.com': [680, 1],\n",
       " 'i1-js-14-3-01-10292-772857118-i.init.cedexis-radar.net': [681, 1],\n",
       " 'n0ql04rx2i.s.ad6media.fr': [682, 1],\n",
       " 'cfa.priceminister.com': [683, 1],\n",
       " 'r.kelkoo.com': [684, 27],\n",
       " 'f995d2.r.axf8.net': [685, 1],\n",
       " 'priceminister.ezakus.net': [686, 1],\n",
       " 'priceminister.pfxlive.com': [687, 1],\n",
       " 'www.actusports.fr': [688, 1],\n",
       " 'www.pagerank.fr': [689, 1],\n",
       " 'cip.gagnoo.com': [690, 33],\n",
       " 'codeorigin.jquery.com': [691, 4],\n",
       " 'i1-js-14-3-01-11074-470364725-i.init.cedexis-radar.net': [692, 1],\n",
       " 'i1-js-14-3-01-11074-758263039-i.init.cedexis-radar.net': [693, 1],\n",
       " 'uk.savvis.bench.cedexis.com': [694, 3],\n",
       " 'chart.apis.google.com': [695, 8],\n",
       " 'i1-js-14-3-01-10013-870091476-i.init.cedexis-radar.net': [696, 1],\n",
       " 'i1-js-14-3-01-10013-251412791-i.init.cedexis-radar.net': [697, 1],\n",
       " 'i1-js-14-3-01-10013-34461336-i.init.cedexis-radar.net': [698, 1],\n",
       " 'builder.extensionfactory.com': [699, 2],\n",
       " 's3.amazonaws.com': [700, 19],\n",
       " 'a01.gestionpub.com': [701, 3],\n",
       " 'static.ebz.io': [702, 15],\n",
       " 'dtm.kidsfootlocker.com': [703, 1],\n",
       " 'et.eulerian.net': [704, 1],\n",
       " 'files.player.mediabong.com': [705, 3],\n",
       " 'fae.linternaute.com': [706, 1],\n",
       " 'wwwimages.adobe.com': [707, 20],\n",
       " 'style.ad6.fr': [708, 33],\n",
       " 'i-cms.journaldesfemmes.com': [709, 1],\n",
       " 'n14.hal9000.redintelligence.net': [710, 1],\n",
       " 'i1-js-14-3-01-11074-449271687-i.init.cedexis-radar.net': [711, 1],\n",
       " 'i1-js-14-3-01-11074-793832121-i.init.cedexis-radar.net': [712, 1],\n",
       " 'i1-js-14-3-01-11074-468534328-i.init.cedexis-radar.net': [713, 1],\n",
       " 'i1-js-14-3-01-11074-237956322-i.init.cedexis-radar.net': [714, 1],\n",
       " 'i1-js-14-3-01-11074-390166798-i.init.cedexis-radar.net': [715, 1],\n",
       " 'i1-js-14-3-01-11074-99731863-i.init.cedexis-radar.net': [716, 1],\n",
       " 'i1-js-14-3-01-11074-124640180-i.init.cedexis-radar.net': [717, 1],\n",
       " 'i1-js-14-3-01-11074-678213018-i.init.cedexis-radar.net': [718, 1],\n",
       " 'dtm.neimanmarcus.com': [719, 5],\n",
       " 'i1-js-14-3-01-11074-228243362-i.init.cedexis-radar.net': [720, 1],\n",
       " 'i1-js-14-3-01-11074-618139647-i.init.cedexis-radar.net': [721, 1],\n",
       " 'i1-js-14-3-01-11074-444343838-i.init.cedexis-radar.net': [722, 1],\n",
       " 'i1-js-14-3-01-11074-330733747-i.init.cedexis-radar.net': [723, 1],\n",
       " 'i1-js-14-3-01-11074-417404392-i.init.cedexis-radar.net': [724, 1],\n",
       " 'balsamik.commander1.com': [725, 1],\n",
       " 'mt0.googleapis.com': [726, 93],\n",
       " 'tile.openstreetmap.org': [727, 7],\n",
       " 'media1.cadeaux.com': [728, 1],\n",
       " 'ffc.linternaute.com': [729, 3],\n",
       " 'media4.cadeaux.com': [730, 1],\n",
       " 'media2.cadeaux.com': [731, 1],\n",
       " 'media3.cadeaux.com': [732, 1],\n",
       " 'media.notrefamille.com': [733, 1],\n",
       " 'media.cadeaux.com': [734, 1],\n",
       " 'media5.cadeaux.com': [735, 1],\n",
       " 'www.powerarchiver.com': [736, 28],\n",
       " 'r.linter.fr': [737, 5],\n",
       " 'dae.linternaute.com': [738, 1],\n",
       " 'video.ccmbg.com': [739, 1],\n",
       " 'logc258.at.pagesjaunes.fr': [740, 7],\n",
       " 'www.pagesjaunes.fr': [741, 18],\n",
       " 'ecn.api.tiles.virtualearth.net': [742, 2],\n",
       " 'stat.ethz.ch': [743, 3],\n",
       " 'i1-js-14-3-01-11074-772422558-i.init.cedexis-radar.net': [744, 1],\n",
       " 'i1-js-14-3-01-11074-239188531-i.init.cedexis-radar.net': [745, 1],\n",
       " 'n27.hal9000.redintelligence.net': [746, 1],\n",
       " 'i1-js-14-3-01-11074-395780720-i.init.cedexis-radar.net': [747, 1],\n",
       " 'i1-js-14-3-01-11074-16748872-i.init.cedexis-radar.net': [748, 1],\n",
       " 'i1-js-14-3-01-11074-751033750-i.init.cedexis-radar.net': [749, 1],\n",
       " 'i1-js-14-3-01-11074-731604999-i.init.cedexis-radar.net': [750, 1],\n",
       " 'i1-js-14-3-01-11074-674582507-i.init.cedexis-radar.net': [751, 1],\n",
       " 'dm.c.ooyala.com': [752, 1],\n",
       " 'www.uaredesign.com': [753, 4],\n",
       " 'i1-js-14-3-01-11074-148253993-i.init.cedexis-radar.net': [754, 1],\n",
       " 'i1-js-14-3-01-11074-398387422-i.init.cedexis-radar.net': [755, 1],\n",
       " 'i1-js-14-3-01-11074-314724871-i.init.cedexis-radar.net': [756, 1],\n",
       " 'i1-js-14-3-01-11074-911386428-i.init.cedexis-radar.net': [757, 1],\n",
       " 'i1-js-14-3-01-11074-61911798-i.init.cedexis-radar.net': [758, 1],\n",
       " 'i1-js-14-3-01-11074-865615324-i.init.cedexis-radar.net': [759, 1],\n",
       " 'i1-js-14-3-01-11074-257628557-i.init.cedexis-radar.net': [760, 1],\n",
       " 'dtm.officemax.com': [761, 2],\n",
       " 'i1-js-14-3-01-11074-284363696-i.init.cedexis-radar.net': [762, 1],\n",
       " 'i1-js-14-3-01-11074-657065464-i.init.cedexis-radar.net': [763, 1],\n",
       " 'media.wow-europe.com': [764, 2],\n",
       " 'i1-js-14-3-01-11074-810602108-i.init.cedexis-radar.net': [765, 1],\n",
       " 'i1-js-14-3-01-11074-266576264-i.init.cedexis-radar.net': [766, 1],\n",
       " 'i1-js-14-3-01-11074-845302217-i.init.cedexis-radar.net': [767, 1],\n",
       " 'i1-js-14-3-01-11074-25651477-i.init.cedexis-radar.net': [768, 1],\n",
       " 'i1-js-14-3-01-11074-587171993-i.init.cedexis-radar.net': [769, 1],\n",
       " 'i1-js-14-3-01-11074-44102482-i.init.cedexis-radar.net': [770, 1],\n",
       " 'fastly.cedexis.com': [771, 1],\n",
       " 'i1-js-14-3-01-11074-381971529-i.init.cedexis-radar.net': [772, 1],\n",
       " 'contextweb-match.dotomi.com': [773, 4],\n",
       " 'i1-js-14-3-01-11074-351655098-i.init.cedexis-radar.net': [774, 1],\n",
       " 'msdn.microsoft.com': [775, 1],\n",
       " 'i2.msdn.microsoft.com': [776, 1],\n",
       " 'i2.services.social.microsoft.com': [777, 3],\n",
       " 'services.kpsule.me': [778, 3],\n",
       " 'player.kpsule.me': [779, 16],\n",
       " 'i1-js-14-3-01-11074-833293475-i.init.cedexis-radar.net': [780, 1],\n",
       " 'i1-js-14-3-01-11074-77211831-i.init.cedexis-radar.net': [781, 1],\n",
       " 'i1-js-14-3-01-11074-302260604-i.init.cedexis-radar.net': [782, 1],\n",
       " 'i1-js-14-3-01-11074-543564190-i.init.cedexis-radar.net': [783, 1],\n",
       " 'i1-js-14-3-01-11074-306404983-i.init.cedexis-radar.net': [784, 1],\n",
       " 'i1-js-14-3-01-11074-412844909-i.init.cedexis-radar.net': [785, 1],\n",
       " 'math.agrocampus-ouest.fr': [786, 11],\n",
       " 'ad.foxitsoftware.com': [787, 15],\n",
       " 'i1-js-14-3-01-11074-559166605-i.init.cedexis-radar.net': [788, 1],\n",
       " 'i1-js-14-3-01-11074-858120344-i.init.cedexis-radar.net': [789, 1],\n",
       " 'i1-js-14-3-01-11074-477479267-i.init.cedexis-radar.net': [790, 1],\n",
       " 'i1-js-14-3-01-11074-677152511-i.init.cedexis-radar.net': [791, 1],\n",
       " 'dtm.potterybarn.com': [792, 1],\n",
       " 'i1-js-14-3-01-11074-974661503-i.init.cedexis-radar.net': [793, 1],\n",
       " 'i1-js-14-3-01-11074-972407826-i.init.cedexis-radar.net': [794, 1],\n",
       " 'fr.youtube.com': [795, 1],\n",
       " 'i1-js-14-3-01-11074-384795426-i.init.cedexis-radar.net': [796, 1],\n",
       " 'r1---sn-gxo5uxg-jqbe.googlevideo.com': [797, 3094],\n",
       " 'i1-js-14-3-01-11074-638645016-i.init.cedexis-radar.net': [798, 1],\n",
       " 'affiliation.service-voyages.com': [799, 5],\n",
       " 'i1-js-14-3-01-11074-503806994-i.init.cedexis-radar.net': [800, 1],\n",
       " 'i1-js-14-3-01-11074-634663604-i.init.cedexis-radar.net': [801, 1],\n",
       " 'i1-js-14-3-01-11074-904400563-i.init.cedexis-radar.net': [802, 1],\n",
       " 'i1-js-14-3-01-11074-621190726-i.init.cedexis-radar.net': [803, 1],\n",
       " 'i1-js-14-3-01-11074-955340548-i.init.cedexis-radar.net': [804, 1],\n",
       " 'i1-js-14-3-01-11074-397027401-i.init.cedexis-radar.net': [805, 1],\n",
       " 'i1-js-14-3-01-11074-469300881-i.init.cedexis-radar.net': [806, 1],\n",
       " 'i1-js-14-3-01-11074-845452184-i.init.cedexis-radar.net': [807, 1],\n",
       " 'i1-js-14-3-01-11074-413066057-i.init.cedexis-radar.net': [808, 1],\n",
       " 'i1-js-14-3-01-11074-618719384-i.init.cedexis-radar.net': [809, 1],\n",
       " 'n21.hal9000.redintelligence.net': [810, 3],\n",
       " 'dqbgy0ozmibf8.cloudfront.net': [811, 1],\n",
       " 'i1-js-14-3-01-11074-701444982-i.init.cedexis-radar.net': [812, 1],\n",
       " 'i1-js-14-3-01-11074-130745744-i.init.cedexis-radar.net': [813, 1],\n",
       " 'i1-js-14-3-01-11074-396307207-i.init.cedexis-radar.net': [814, 1],\n",
       " 'i1-js-14-3-01-11074-628679255-i.init.cedexis-radar.net': [815, 1],\n",
       " 'i1-js-14-3-01-11074-442983076-i.init.cedexis-radar.net': [816, 1],\n",
       " 'i1-js-14-3-01-11074-995540064-i.init.cedexis-radar.net': [817, 1],\n",
       " 'i1-js-14-3-01-11074-706995299-i.init.cedexis-radar.net': [818, 1],\n",
       " 'n31.hal9000.redintelligence.net': [819, 3],\n",
       " 'ohlone.vizu.com': [820, 3],\n",
       " 'fpdownload.adobe.com': [821, 4],\n",
       " 'i1-js-14-3-01-11074-288962180-i.init.cedexis-radar.net': [822, 1],\n",
       " 'i1-js-14-3-01-11074-863883961-i.init.cedexis-radar.net': [823, 1],\n",
       " 'i1-js-14-3-01-11074-273588437-i.init.cedexis-radar.net': [824, 1],\n",
       " 'i1-js-14-3-01-11074-589340895-i.init.cedexis-radar.net': [825, 1],\n",
       " 'i1-js-14-3-01-11074-81920436-i.init.cedexis-radar.net': [826, 1],\n",
       " 'i1-js-14-3-01-11074-704473455-i.init.cedexis-radar.net': [827, 1],\n",
       " 'i1-js-14-3-01-11074-73003760-i.init.cedexis-radar.net': [828, 1],\n",
       " 'i1-js-14-3-01-11074-681131925-i.init.cedexis-radar.net': [829, 1],\n",
       " 'raksmey.fr': [830, 2],\n",
       " 'badge.facebook.com': [831, 24],\n",
       " 'pt200204.unica.com': [832, 31],\n",
       " 'dw1.s81c.com': [833, 5],\n",
       " 'cdn01.smartling.com': [834, 3],\n",
       " 'i1-js-14-3-01-11074-22364575-i.init.cedexis-radar.net': [835, 1],\n",
       " 'i1-js-14-3-01-11074-888592306-i.init.cedexis-radar.net': [836, 1],\n",
       " 'i1-js-14-3-01-11074-150862638-i.init.cedexis-radar.net': [837, 1],\n",
       " 'i1-js-14-3-01-11074-628913321-i.init.cedexis-radar.net': [838, 1],\n",
       " 'i1-js-14-3-01-11074-870880951-i.init.cedexis-radar.net': [839, 1],\n",
       " 'dnn506yrbagrg.cloudfront.net': [840, 105],\n",
       " 'doug1izaerwt3.cloudfront.net': [841, 207],\n",
       " 'i1-js-14-3-01-11074-282633360-i.init.cedexis-radar.net': [842, 1],\n",
       " 'i1-js-14-3-01-11074-392057817-i.init.cedexis-radar.net': [843, 1],\n",
       " 'i1-js-14-3-01-11074-766779839-i.init.cedexis-radar.net': [844, 1],\n",
       " 'i1-js-14-3-01-11074-45174914-i.init.cedexis-radar.net': [845, 1],\n",
       " 'i1-js-14-3-01-11074-803125830-i.init.cedexis-radar.net': [846, 1],\n",
       " 'i1-js-14-3-01-11074-22107957-i.init.cedexis-radar.net': [847, 1],\n",
       " 'i1-js-14-3-01-11074-316992126-i.init.cedexis-radar.net': [848, 1],\n",
       " 'i1-js-14-3-01-11074-560722072-i.init.cedexis-radar.net': [849, 1],\n",
       " 'i1-js-14-3-01-11074-6523513-i.init.cedexis-radar.net': [850, 1],\n",
       " 'i1-js-14-3-01-11074-667743548-i.init.cedexis-radar.net': [851, 1],\n",
       " 'i1-js-14-3-01-11074-751877141-i.init.cedexis-radar.net': [852, 1],\n",
       " 'www.slideshare.net': [853, 18],\n",
       " 'i1-js-14-3-01-11074-20615786-i.init.cedexis-radar.net': [854, 1],\n",
       " 'i1-js-14-3-01-11074-420491346-i.init.cedexis-radar.net': [855, 1],\n",
       " 'secure.shared.live.com': [856, 180],\n",
       " 'mail.live.com': [857, 101],\n",
       " 'cid-314a98b7df2708d0.users.storage.live.com': [858, 1],\n",
       " 'people.directory.live.com': [859, 172],\n",
       " 'storage.live.com': [860, 104],\n",
       " 'h2.msn.com': [861, 112],\n",
       " 'go.trouter.io': [862, 191],\n",
       " 'i1-js-14-3-01-11074-747792250-i.init.cedexis-radar.net': [863, 1],\n",
       " 'i1-js-14-3-01-11074-495276254-i.init.cedexis-radar.net': [864, 1],\n",
       " 'i1-js-14-3-01-11074-306060024-i.init.cedexis-radar.net': [865, 1],\n",
       " 'share.static.skyrock.net': [866, 1],\n",
       " 'fr-himedia.videoplaza.tv': [867, 17],\n",
       " 'espace.netavenir.com': [868, 1],\n",
       " 'adcontrol.cherchons.com': [869, 2],\n",
       " '7fa6l6mbu9.b.ad6media.fr': [870, 1],\n",
       " 'i1-js-14-3-01-11074-979797392-i.init.cedexis-radar.net': [871, 1],\n",
       " 'i1-js-14-3-01-11074-232497260-i.init.cedexis-radar.net': [872, 1],\n",
       " 'i1-js-14-3-01-11074-967807185-i.init.cedexis-radar.net': [873, 1],\n",
       " 'i1-js-14-3-01-11074-449881507-i.init.cedexis-radar.net': [874, 1],\n",
       " 'n39.hal9000.redintelligence.net': [875, 2],\n",
       " 'i1-js-14-3-01-11074-944500475-i.init.cedexis-radar.net': [876, 1],\n",
       " 'i1-js-14-3-01-11074-900485661-i.init.cedexis-radar.net': [877, 1],\n",
       " 'i1-js-14-3-01-11074-260579437-i.init.cedexis-radar.net': [878, 1],\n",
       " 'i1-js-14-3-01-11074-885375756-i.init.cedexis-radar.net': [879, 1],\n",
       " 'i1-js-14-3-01-11074-39513741-i.init.cedexis-radar.net': [880, 1],\n",
       " 'i1-js-14-3-01-11074-883988031-i.init.cedexis-radar.net': [881, 1],\n",
       " 'g.msn.com': [882, 281],\n",
       " 'fr-fr.facebook.com': [883, 24],\n",
       " 'locdrop.query.yahoo.com': [884, 94],\n",
       " 'mail.yahoo.com': [885, 52],\n",
       " 'www.chainedespuys-failledelimagne.com': [886, 1],\n",
       " 'player.vimeo.com': [887, 62],\n",
       " 'www.hotmail.fr': [888, 11],\n",
       " 'i1-js-14-3-01-11074-447703800-i.init.cedexis-radar.net': [889, 1],\n",
       " 'i1-js-14-3-01-11074-599474236-i.init.cedexis-radar.net': [890, 1],\n",
       " 'sita-atl.bench.cedexis.com': [891, 4],\n",
       " 'i1-js-14-3-01-11074-549991259-i.init.cedexis-radar.net': [892, 1],\n",
       " 'p.typekit.net': [893, 85],\n",
       " 'metrics.mathworks.com': [894, 8],\n",
       " 'i1-js-14-3-01-11074-333081586-i.init.cedexis-radar.net': [895, 1],\n",
       " 'i1-js-14-3-01-11074-949427632-i.init.cedexis-radar.net': [896, 1],\n",
       " 'i22.servimg.com': [897, 4],\n",
       " 'cpm.bazoto.com': [898, 1],\n",
       " 'r15.imgfast.net': [899, 2],\n",
       " 'iml.univ-mrs.fr': [900, 2],\n",
       " 'i1-js-14-3-01-11074-29182819-i.init.cedexis-radar.net': [901, 1],\n",
       " 'i1-js-14-3-01-11074-600624417-i.init.cedexis-radar.net': [902, 1],\n",
       " 'www.gmail.com': [903, 79],\n",
       " 'dtm.weddingpaperdivas.com': [904, 1],\n",
       " 'i1-js-14-3-01-11074-40954658-i.init.cedexis-radar.net': [905, 1],\n",
       " 'i1-js-14-3-01-11074-487792566-i.init.cedexis-radar.net': [906, 1],\n",
       " 'i1-js-14-3-01-11074-30589317-i.init.cedexis-radar.net': [907, 1],\n",
       " 'html1.scribdassets.com': [908, 18],\n",
       " 's7.scribdassets.com': [909, 11],\n",
       " 'feeds.delicious.com': [910, 22],\n",
       " 'i1-js-14-3-01-11074-112249999-i.init.cedexis-radar.net': [911, 1],\n",
       " 'i1-js-14-3-01-11074-22618078-i.init.cedexis-radar.net': [912, 1],\n",
       " 'i1-js-14-3-01-11074-615488373-i.init.cedexis-radar.net': [913, 1],\n",
       " 'i1-js-14-3-01-11074-547899239-i.init.cedexis-radar.net': [914, 1],\n",
       " 'i1-js-14-3-01-11074-557796513-i.init.cedexis-radar.net': [915, 1],\n",
       " 'i1-js-14-3-01-11074-621898-i.init.cedexis-radar.net': [916, 1],\n",
       " 'i1-js-14-3-01-11074-417527730-i.init.cedexis-radar.net': [917, 1],\n",
       " 'i1-js-14-3-01-11074-625661358-i.init.cedexis-radar.net': [918, 1],\n",
       " 'thesasreference.wordpress.com': [919, 2],\n",
       " 'zurich.cloudsigma.cedexis.com': [920, 1],\n",
       " 'i1-js-14-3-01-11074-549019253-i.init.cedexis-radar.net': [921, 1],\n",
       " 'i1-js-14-3-01-11074-353276956-i.init.cedexis-radar.net': [922, 1],\n",
       " 'i1-js-14-3-01-11074-830962188-i.init.cedexis-radar.net': [923, 1],\n",
       " 'dynamic.cedexis.com': [924, 3],\n",
       " 'thesasreference.files.wordpress.com': [925, 1],\n",
       " 'i1-js-14-3-01-11074-670185273-i.init.cedexis-radar.net': [926, 1],\n",
       " 'i1-js-14-3-01-11074-862051783-i.init.cedexis-radar.net': [927, 1],\n",
       " 'i1-js-14-3-01-11074-327372521-i.init.cedexis-radar.net': [928, 1],\n",
       " 'i1-js-14-3-01-11074-964965423-i.init.cedexis-radar.net': [929, 1],\n",
       " 'i1-js-14-3-01-11074-632784594-i.init.cedexis-radar.net': [930, 1],\n",
       " 'i1-js-14-3-01-11074-991572872-i.init.cedexis-radar.net': [931, 1],\n",
       " 'i1-js-14-3-01-11074-743479063-i.init.cedexis-radar.net': [932, 1],\n",
       " 'i1-js-14-3-01-11074-158466354-i.init.cedexis-radar.net': [933, 1],\n",
       " 'www.math.univ-montp2.fr': [934, 3],\n",
       " 'dumas.ccsd.cnrs.fr': [935, 3],\n",
       " 'i1-js-14-3-01-11074-587473332-i.init.cedexis-radar.net': [936, 1],\n",
       " 'i1-js-14-3-01-11074-943717313-i.init.cedexis-radar.net': [937, 1],\n",
       " 'i1-js-14-3-01-11074-616681726-i.init.cedexis-radar.net': [938, 1],\n",
       " 'i1-js-14-3-01-11074-959107750-i.init.cedexis-radar.net': [939, 1],\n",
       " 'en.wikipedia.org': [940, 15],\n",
       " 'i1-js-14-3-01-11074-612430157-i.init.cedexis-radar.net': [941, 1],\n",
       " 'i1-js-14-3-01-11074-520838911-i.init.cedexis-radar.net': [942, 1],\n",
       " 'i1-js-14-3-01-11074-118052159-i.init.cedexis-radar.net': [943, 1],\n",
       " 'i1-js-14-3-01-11074-492333904-i.init.cedexis-radar.net': [944, 1],\n",
       " 'i1-js-14-3-01-11074-496659573-i.init.cedexis-radar.net': [945, 1],\n",
       " 'i1-js-14-3-01-11074-132211233-i.init.cedexis-radar.net': [946, 1],\n",
       " 'i1-js-14-3-01-11074-323680647-i.init.cedexis-radar.net': [947, 1],\n",
       " 'i1-js-14-3-01-11074-739215093-i.init.cedexis-radar.net': [948, 1],\n",
       " 'i1-js-14-3-01-11074-568585863-i.init.cedexis-radar.net': [949, 1],\n",
       " 'i1-js-14-3-01-11074-387306612-i.init.cedexis-radar.net': [950, 1],\n",
       " 'i1-js-14-3-01-11074-708345336-i.init.cedexis-radar.net': [951, 1],\n",
       " 'i1-js-14-3-01-11074-284935980-i.init.cedexis-radar.net': [952, 1],\n",
       " 'i1-js-14-3-01-11074-547852630-i.init.cedexis-radar.net': [953, 1],\n",
       " 'i1-js-14-3-01-11074-59237734-i.init.cedexis-radar.net': [954, 1],\n",
       " 'i1-js-14-3-01-11074-871132696-i.init.cedexis-radar.net': [955, 1],\n",
       " 'i1-js-14-3-01-11074-60155507-i.init.cedexis-radar.net': [956, 1],\n",
       " 'i1-js-14-3-01-11074-841442117-i.init.cedexis-radar.net': [957, 1],\n",
       " 'i1-js-14-3-01-11074-889446074-i.init.cedexis-radar.net': [958, 1],\n",
       " 'i1-js-14-3-01-11074-582192363-i.init.cedexis-radar.net': [959, 1],\n",
       " 'i1-js-14-3-01-11074-439518065-i.init.cedexis-radar.net': [960, 1],\n",
       " 'i1-js-14-3-01-11074-927849796-i.init.cedexis-radar.net': [961, 1],\n",
       " 'i1-js-14-3-01-11074-148063127-i.init.cedexis-radar.net': [962, 1],\n",
       " 'mts0.google.com': [963, 763],\n",
       " 'mts1.google.com': [964, 666],\n",
       " 'khms1.google.fr': [965, 460],\n",
       " 'khms0.google.fr': [966, 454],\n",
       " 'osm.geobretagne.fr': [967, 139],\n",
       " 'maps.google.fr': [968, 531],\n",
       " 'dub116.mail.live.com': [969, 103],\n",
       " 'www.google.com.pe': [970, 99],\n",
       " 'www.games-workshop.com': [971, 92],\n",
       " 'mts3.google.com': [972, 137],\n",
       " 'mts2.google.com': [973, 132],\n",
       " 'fr.msn.com': [974, 121],\n",
       " 'www.coutellerie-tourangelle.com': [975, 82],\n",
       " 'proxy-bay-people.directory.live.com': [976, 83],\n",
       " 'fansubresistance.in': [977, 73],\n",
       " 'img.babylon.com': [978, 71],\n",
       " 'vp-eu.scene7.com': [979, 75],\n",
       " 'www.lordoftheringswords.com': [980, 66],\n",
       " 'www.mindat.org': [981, 61],\n",
       " 'dub128.mail.live.com': [982, 59],\n",
       " 'fr.vente-privee.com': [983, 47],\n",
       " 'ia.nspmotion.com': [984, 59],\n",
       " 'translate.google.fr': [985, 1002],\n",
       " 'hub.video.msn.com': [986, 65],\n",
       " 'apikeys.civiccomputing.com': [987, 42],\n",
       " 'eros.usgs.gov': [988, 36],\n",
       " 'c.fr.msn.com': [989, 51],\n",
       " 'www.ngwinfo.com': [990, 36],\n",
       " 'img1.video.s-msn.com': [991, 68],\n",
       " 'www.rhul.ac.uk': [992, 33],\n",
       " 'www.caisse-epargne.fr': [993, 32],\n",
       " 'picda.ilius.net': [994, 53],\n",
       " 'cid-0f9a1ff31470c0bc.users.storage.live.com': [995, 28],\n",
       " '85.17.77.13': [996, 28],\n",
       " 'ac.babsrv.com': [997, 27],\n",
       " 'sci.sciences.univ-bpclermont.fr': [998, 34],\n",
       " 'www.lagardedenuit.com': [999, 25],\n",
       " 'www.lightinthebox.com': [1000, 25],\n",
       " ...}"
      ]
     },
     "execution_count": 304,
     "metadata": {},
     "output_type": "execute_result"
    }
   ],
   "source": [
    "freq_dict"
   ]
  },
  {
   "cell_type": "code",
   "execution_count": 302,
   "id": "351d68e9",
   "metadata": {},
   "outputs": [],
   "source": [
    "top_sites_counts_dict = {}\n",
    "for value in freq_dict.values():\n",
    "    if value[1] >= 1000:\n",
    "        top_sites_counts_dict.update({value[0]: value[1]})\n",
    "top_sites_counts_dict"
   ]
  },
  {
   "cell_type": "markdown",
   "id": "b2b5db6c",
   "metadata": {},
   "source": [
    "Инициализируем функцию для создания признаков "
   ]
  },
  {
   "cell_type": "code",
   "execution_count": 10,
   "id": "5c7b069f",
   "metadata": {},
   "outputs": [],
   "source": [
    "def feature_engineering(path_to_csv_files, session_length, window_size):\n",
    "    global prepaired_df\n",
    "    # Инициализируем заготовку для будущего разреженного фрейма и словарь с сайтами\n",
    "    prepaired_df = pd.DataFrame()   \n",
    "    #Перебираем сайты из каталога по одному\n",
    "    for filename in glob(f'{path_to_csv_files}/*'):\n",
    "        #создаем датафрейм для каждого файла\n",
    "        iter_df = pd.read_csv(filename, encoding = 'unicode_escape')    \n",
    "        iter_df[\"timestamp\"] = pd.to_datetime(iter_df[\"timestamp\"])\n",
    "         #Инициализируем столбцы с признаками\n",
    "        new_df = pd.DataFrame(columns=[\"avg_time_on_site\", \"session_timestamp\"\n",
    "                              ,\"unique_sites\" ,\"start_hour\" ,\"day_of_week\"] )\n",
    "        #Создаём признаки помимо сайта на определённой позиции в сессии\n",
    "       \n",
    "        #СОздаём признаки построчно\n",
    "        for new_df_string_id, ses_start_iter_id in enumerate(range(0, len(iter_df), window_size)):\n",
    "            #Зададим начальную и конечную дату сессии для вычисления размера интервала между ними\n",
    "            if (len(iter_df)-1 - ses_start_iter_id) >= session_length:\n",
    "                future_date = iter_df[\"timestamp\"][ses_start_iter_id + session_length]\n",
    "            else:\n",
    "                future_date = iter_df[\"timestamp\"][len(iter_df)-1]\n",
    "            past_date = iter_df[\"timestamp\"][ses_start_iter_id]\n",
    "            session_timestamp = (future_date-past_date).total_seconds()\n",
    "            \n",
    "            #Сколько раз встречается самый популярный сайт в сессии\n",
    "            #sess_mode = iter_df[\"site\"].iloc[ses_start_iter_id : ses_start_iter_id + window_size].mode()\n",
    "            #count_mode = iter_df[\"site\"].iloc[ses_start_iter_id : ses_start_iter_id + window_size].count(sess_mode)\n",
    "            #new_df[\"mode_site_count\"][new_df_string_id] = count_mode\n",
    "            #Задаём число итераций цикла для avg_time_on_site\n",
    "            \n",
    "            if (len(iter_df)-1 - ses_start_iter_id) < session_length:\n",
    "                new_session_length = len(iter_df[\"timestamp\"].iloc[ses_start_iter_id:len(iter_df)])-1\n",
    "            else:\n",
    "                new_session_length = session_length \n",
    "            avg_time_on_site_array = []\n",
    "            for i in range(ses_start_iter_id+1, ses_start_iter_id+1 + new_session_length):\n",
    "                avg_time_on_site_array.append((iter_df[\"timestamp\"][i] - iter_df[\"timestamp\"][i-1]).total_seconds()) \n",
    "            if new_session_length == session_length: \n",
    "                avg_time_on_site = int(sum(avg_time_on_site_array) / len(avg_time_on_site_array))\n",
    "            elif new_session_length == len(iter_df[\"timestamp\"].iloc[ses_start_iter_id:len(iter_df)])-1:\n",
    "                if len(avg_time_on_site_array)-1 == 0:\n",
    "                    avg_time_on_site = int(sum(avg_time_on_site_array))\n",
    "                else:\n",
    "                    avg_time_on_site = int(sum(avg_time_on_site_array) / (len(avg_time_on_site_array)-1))\n",
    "                \n",
    "            unique_sites = iter_df[\"site\"].iloc[ses_start_iter_id : ses_start_iter_id + session_length].nunique()\n",
    "            start_hour = iter_df[\"timestamp\"][ses_start_iter_id].hour\n",
    "            day_of_week = iter_df[\"timestamp\"][ses_start_iter_id].weekday()\n",
    "            \n",
    "            new_df = new_df.append({\"avg_time_on_site\": avg_time_on_site, \"session_timestamp\": session_timestamp,\n",
    "                          \"unique_sites\": unique_sites ,\"start_hour\": start_hour ,\"day_of_week\": day_of_week}, ignore_index=True)\n",
    "        prepaired_df = pd.concat([prepaired_df, new_df])\n",
    "    \n",
    "    return prepaired_df"
   ]
  },
  {
   "cell_type": "markdown",
   "id": "40ef6067",
   "metadata": {},
   "source": [
    "Проверим рабоу функции на датасетах из трёх и десяти пользователей"
   ]
  },
  {
   "cell_type": "code",
   "execution_count": null,
   "id": "4359826e",
   "metadata": {},
   "outputs": [],
   "source": [
    "features_3users_5_3 = feature_engineering(os.path.join(PATH_TO_DATA, \n",
    "         '3users'), 5, 3)"
   ]
  },
  {
   "cell_type": "code",
   "execution_count": null,
   "id": "0a808fcc",
   "metadata": {},
   "outputs": [],
   "source": [
    "features_3users_5_3"
   ]
  },
  {
   "cell_type": "code",
   "execution_count": 691,
   "id": "b3b0d284",
   "metadata": {},
   "outputs": [
    {
     "data": {
      "text/plain": [
       "14061"
      ]
     },
     "execution_count": 691,
     "metadata": {},
     "output_type": "execute_result"
    }
   ],
   "source": [
    "len(pd.read_pickle(r\"E:\\Work\\Kaggle_competitions\\User_identification\\capstone_user_identification\\y_10users_10_10.pkl\"))"
   ]
  },
  {
   "cell_type": "code",
   "execution_count": 706,
   "id": "0498165a",
   "metadata": {},
   "outputs": [],
   "source": [
    "user0241 = pd.read_csv(r\"E:\\Work\\Kaggle_competitions\\User_identification\\capstone_user_identification\\10users\\user0241.csv\")"
   ]
  },
  {
   "cell_type": "code",
   "execution_count": 707,
   "id": "8e3615b9",
   "metadata": {},
   "outputs": [
    {
     "data": {
      "text/plain": [
       "5332"
      ]
     },
     "execution_count": 707,
     "metadata": {},
     "output_type": "execute_result"
    }
   ],
   "source": [
    "len(user0241)"
   ]
  },
  {
   "cell_type": "code",
   "execution_count": 709,
   "id": "a1a22ee8",
   "metadata": {},
   "outputs": [
    {
     "data": {
      "text/html": [
       "<div>\n",
       "<style scoped>\n",
       "    .dataframe tbody tr th:only-of-type {\n",
       "        vertical-align: middle;\n",
       "    }\n",
       "\n",
       "    .dataframe tbody tr th {\n",
       "        vertical-align: top;\n",
       "    }\n",
       "\n",
       "    .dataframe thead th {\n",
       "        text-align: right;\n",
       "    }\n",
       "</style>\n",
       "<table border=\"1\" class=\"dataframe\">\n",
       "  <thead>\n",
       "    <tr style=\"text-align: right;\">\n",
       "      <th></th>\n",
       "      <th>timestamp</th>\n",
       "      <th>site</th>\n",
       "    </tr>\n",
       "  </thead>\n",
       "  <tbody>\n",
       "    <tr>\n",
       "      <th>5320</th>\n",
       "      <td>2014-03-26 15:39:55</td>\n",
       "      <td>mail.google.com</td>\n",
       "    </tr>\n",
       "    <tr>\n",
       "      <th>5321</th>\n",
       "      <td>2014-03-26 15:39:57</td>\n",
       "      <td>mail.google.com</td>\n",
       "    </tr>\n",
       "    <tr>\n",
       "      <th>5322</th>\n",
       "      <td>2014-03-26 15:39:58</td>\n",
       "      <td>mail.google.com</td>\n",
       "    </tr>\n",
       "    <tr>\n",
       "      <th>5323</th>\n",
       "      <td>2014-03-26 15:40:49</td>\n",
       "      <td>ieonline.microsoft.com</td>\n",
       "    </tr>\n",
       "    <tr>\n",
       "      <th>5324</th>\n",
       "      <td>2014-03-26 15:43:42</td>\n",
       "      <td>drive.google.com</td>\n",
       "    </tr>\n",
       "    <tr>\n",
       "      <th>5325</th>\n",
       "      <td>2014-03-26 15:43:43</td>\n",
       "      <td>mail.google.com</td>\n",
       "    </tr>\n",
       "    <tr>\n",
       "      <th>5326</th>\n",
       "      <td>2014-03-26 15:43:55</td>\n",
       "      <td>www.google.com</td>\n",
       "    </tr>\n",
       "    <tr>\n",
       "      <th>5327</th>\n",
       "      <td>2014-03-26 15:43:56</td>\n",
       "      <td>www.google.com</td>\n",
       "    </tr>\n",
       "    <tr>\n",
       "      <th>5328</th>\n",
       "      <td>2014-03-26 15:43:57</td>\n",
       "      <td>plus.google.com</td>\n",
       "    </tr>\n",
       "    <tr>\n",
       "      <th>5329</th>\n",
       "      <td>2014-03-26 15:43:57</td>\n",
       "      <td>mail.google.com</td>\n",
       "    </tr>\n",
       "    <tr>\n",
       "      <th>5330</th>\n",
       "      <td>2014-03-26 15:43:58</td>\n",
       "      <td>accounts.google.com</td>\n",
       "    </tr>\n",
       "    <tr>\n",
       "      <th>5331</th>\n",
       "      <td>2014-03-26 15:43:58</td>\n",
       "      <td>accounts.youtube.com</td>\n",
       "    </tr>\n",
       "  </tbody>\n",
       "</table>\n",
       "</div>"
      ],
      "text/plain": [
       "                timestamp                    site\n",
       "5320  2014-03-26 15:39:55         mail.google.com\n",
       "5321  2014-03-26 15:39:57         mail.google.com\n",
       "5322  2014-03-26 15:39:58         mail.google.com\n",
       "5323  2014-03-26 15:40:49  ieonline.microsoft.com\n",
       "5324  2014-03-26 15:43:42        drive.google.com\n",
       "5325  2014-03-26 15:43:43         mail.google.com\n",
       "5326  2014-03-26 15:43:55          www.google.com\n",
       "5327  2014-03-26 15:43:56          www.google.com\n",
       "5328  2014-03-26 15:43:57         plus.google.com\n",
       "5329  2014-03-26 15:43:57         mail.google.com\n",
       "5330  2014-03-26 15:43:58     accounts.google.com\n",
       "5331  2014-03-26 15:43:58    accounts.youtube.com"
      ]
     },
     "execution_count": 709,
     "metadata": {},
     "output_type": "execute_result"
    }
   ],
   "source": [
    "user0241.tail(12)"
   ]
  },
  {
   "cell_type": "code",
   "execution_count": 700,
   "id": "6525afe1",
   "metadata": {},
   "outputs": [
    {
     "data": {
      "text/html": [
       "<div>\n",
       "<style scoped>\n",
       "    .dataframe tbody tr th:only-of-type {\n",
       "        vertical-align: middle;\n",
       "    }\n",
       "\n",
       "    .dataframe tbody tr th {\n",
       "        vertical-align: top;\n",
       "    }\n",
       "\n",
       "    .dataframe thead th {\n",
       "        text-align: right;\n",
       "    }\n",
       "</style>\n",
       "<table border=\"1\" class=\"dataframe\">\n",
       "  <thead>\n",
       "    <tr style=\"text-align: right;\">\n",
       "      <th></th>\n",
       "      <th>avg_time_on_site</th>\n",
       "      <th>session_timestamp</th>\n",
       "      <th>unique_sites</th>\n",
       "      <th>start_hour</th>\n",
       "      <th>day_of_week</th>\n",
       "    </tr>\n",
       "  </thead>\n",
       "  <tbody>\n",
       "    <tr>\n",
       "      <th>0</th>\n",
       "      <td>3</td>\n",
       "      <td>33.0</td>\n",
       "      <td>5</td>\n",
       "      <td>8</td>\n",
       "      <td>4</td>\n",
       "    </tr>\n",
       "    <tr>\n",
       "      <th>1</th>\n",
       "      <td>31</td>\n",
       "      <td>285.0</td>\n",
       "      <td>10</td>\n",
       "      <td>8</td>\n",
       "      <td>4</td>\n",
       "    </tr>\n",
       "    <tr>\n",
       "      <th>2</th>\n",
       "      <td>28</td>\n",
       "      <td>258.0</td>\n",
       "      <td>7</td>\n",
       "      <td>8</td>\n",
       "      <td>4</td>\n",
       "    </tr>\n",
       "    <tr>\n",
       "      <th>3</th>\n",
       "      <td>3</td>\n",
       "      <td>30.0</td>\n",
       "      <td>6</td>\n",
       "      <td>8</td>\n",
       "      <td>4</td>\n",
       "    </tr>\n",
       "    <tr>\n",
       "      <th>4</th>\n",
       "      <td>0</td>\n",
       "      <td>7.0</td>\n",
       "      <td>9</td>\n",
       "      <td>8</td>\n",
       "      <td>4</td>\n",
       "    </tr>\n",
       "    <tr>\n",
       "      <th>...</th>\n",
       "      <td>...</td>\n",
       "      <td>...</td>\n",
       "      <td>...</td>\n",
       "      <td>...</td>\n",
       "      <td>...</td>\n",
       "    </tr>\n",
       "    <tr>\n",
       "      <th>14056</th>\n",
       "      <td>3</td>\n",
       "      <td>32.0</td>\n",
       "      <td>8</td>\n",
       "      <td>15</td>\n",
       "      <td>2</td>\n",
       "    </tr>\n",
       "    <tr>\n",
       "      <th>14057</th>\n",
       "      <td>1</td>\n",
       "      <td>12.0</td>\n",
       "      <td>8</td>\n",
       "      <td>15</td>\n",
       "      <td>2</td>\n",
       "    </tr>\n",
       "    <tr>\n",
       "      <th>14058</th>\n",
       "      <td>1</td>\n",
       "      <td>17.0</td>\n",
       "      <td>6</td>\n",
       "      <td>15</td>\n",
       "      <td>2</td>\n",
       "    </tr>\n",
       "    <tr>\n",
       "      <th>14059</th>\n",
       "      <td>26</td>\n",
       "      <td>243.0</td>\n",
       "      <td>5</td>\n",
       "      <td>15</td>\n",
       "      <td>2</td>\n",
       "    </tr>\n",
       "    <tr>\n",
       "      <th>14060</th>\n",
       "      <td>26</td>\n",
       "      <td>0.0</td>\n",
       "      <td>2</td>\n",
       "      <td>15</td>\n",
       "      <td>2</td>\n",
       "    </tr>\n",
       "  </tbody>\n",
       "</table>\n",
       "<p>14061 rows × 5 columns</p>\n",
       "</div>"
      ],
      "text/plain": [
       "      avg_time_on_site  session_timestamp unique_sites start_hour day_of_week\n",
       "0                    3               33.0            5          8           4\n",
       "1                   31              285.0           10          8           4\n",
       "2                   28              258.0            7          8           4\n",
       "3                    3               30.0            6          8           4\n",
       "4                    0                7.0            9          8           4\n",
       "...                ...                ...          ...        ...         ...\n",
       "14056                3               32.0            8         15           2\n",
       "14057                1               12.0            8         15           2\n",
       "14058                1               17.0            6         15           2\n",
       "14059               26              243.0            5         15           2\n",
       "14060               26                0.0            2         15           2\n",
       "\n",
       "[14061 rows x 5 columns]"
      ]
     },
     "execution_count": 700,
     "metadata": {},
     "output_type": "execute_result"
    }
   ],
   "source": [
    "features_10users_10_10_"
   ]
  },
  {
   "cell_type": "code",
   "execution_count": 701,
   "id": "3d54f91c",
   "metadata": {},
   "outputs": [
    {
     "data": {
      "text/html": [
       "<div>\n",
       "<style scoped>\n",
       "    .dataframe tbody tr th:only-of-type {\n",
       "        vertical-align: middle;\n",
       "    }\n",
       "\n",
       "    .dataframe tbody tr th {\n",
       "        vertical-align: top;\n",
       "    }\n",
       "\n",
       "    .dataframe thead th {\n",
       "        text-align: right;\n",
       "    }\n",
       "</style>\n",
       "<table border=\"1\" class=\"dataframe\">\n",
       "  <thead>\n",
       "    <tr style=\"text-align: right;\">\n",
       "      <th></th>\n",
       "      <th>user_id</th>\n",
       "      <th>avg_time_on_site</th>\n",
       "      <th>session_timestamp</th>\n",
       "      <th>unique_sites</th>\n",
       "      <th>start_hour</th>\n",
       "      <th>day_of_week</th>\n",
       "    </tr>\n",
       "  </thead>\n",
       "  <tbody>\n",
       "    <tr>\n",
       "      <th>0</th>\n",
       "      <td>['0031']</td>\n",
       "      <td>3</td>\n",
       "      <td>33.0</td>\n",
       "      <td>5</td>\n",
       "      <td>8</td>\n",
       "      <td>4</td>\n",
       "    </tr>\n",
       "    <tr>\n",
       "      <th>1</th>\n",
       "      <td>['0031']</td>\n",
       "      <td>28</td>\n",
       "      <td>285.0</td>\n",
       "      <td>10</td>\n",
       "      <td>8</td>\n",
       "      <td>4</td>\n",
       "    </tr>\n",
       "    <tr>\n",
       "      <th>2</th>\n",
       "      <td>['0031']</td>\n",
       "      <td>25</td>\n",
       "      <td>258.0</td>\n",
       "      <td>7</td>\n",
       "      <td>8</td>\n",
       "      <td>4</td>\n",
       "    </tr>\n",
       "    <tr>\n",
       "      <th>3</th>\n",
       "      <td>['0031']</td>\n",
       "      <td>3</td>\n",
       "      <td>30.0</td>\n",
       "      <td>6</td>\n",
       "      <td>8</td>\n",
       "      <td>4</td>\n",
       "    </tr>\n",
       "    <tr>\n",
       "      <th>4</th>\n",
       "      <td>['0031']</td>\n",
       "      <td>0</td>\n",
       "      <td>7.0</td>\n",
       "      <td>9</td>\n",
       "      <td>8</td>\n",
       "      <td>4</td>\n",
       "    </tr>\n",
       "    <tr>\n",
       "      <th>...</th>\n",
       "      <td>...</td>\n",
       "      <td>...</td>\n",
       "      <td>...</td>\n",
       "      <td>...</td>\n",
       "      <td>...</td>\n",
       "      <td>...</td>\n",
       "    </tr>\n",
       "    <tr>\n",
       "      <th>529</th>\n",
       "      <td>['0241']</td>\n",
       "      <td>3</td>\n",
       "      <td>32.0</td>\n",
       "      <td>8</td>\n",
       "      <td>15</td>\n",
       "      <td>2</td>\n",
       "    </tr>\n",
       "    <tr>\n",
       "      <th>530</th>\n",
       "      <td>['0241']</td>\n",
       "      <td>1</td>\n",
       "      <td>12.0</td>\n",
       "      <td>8</td>\n",
       "      <td>15</td>\n",
       "      <td>2</td>\n",
       "    </tr>\n",
       "    <tr>\n",
       "      <th>531</th>\n",
       "      <td>['0241']</td>\n",
       "      <td>1</td>\n",
       "      <td>17.0</td>\n",
       "      <td>6</td>\n",
       "      <td>15</td>\n",
       "      <td>2</td>\n",
       "    </tr>\n",
       "    <tr>\n",
       "      <th>532</th>\n",
       "      <td>['0241']</td>\n",
       "      <td>24</td>\n",
       "      <td>243.0</td>\n",
       "      <td>5</td>\n",
       "      <td>15</td>\n",
       "      <td>2</td>\n",
       "    </tr>\n",
       "    <tr>\n",
       "      <th>533</th>\n",
       "      <td>['0241']</td>\n",
       "      <td>0</td>\n",
       "      <td>0.0</td>\n",
       "      <td>2</td>\n",
       "      <td>15</td>\n",
       "      <td>2</td>\n",
       "    </tr>\n",
       "  </tbody>\n",
       "</table>\n",
       "<p>14061 rows × 6 columns</p>\n",
       "</div>"
      ],
      "text/plain": [
       "      user_id avg_time_on_site  session_timestamp unique_sites start_hour  \\\n",
       "0    ['0031']                3               33.0            5          8   \n",
       "1    ['0031']               28              285.0           10          8   \n",
       "2    ['0031']               25              258.0            7          8   \n",
       "3    ['0031']                3               30.0            6          8   \n",
       "4    ['0031']                0                7.0            9          8   \n",
       "..        ...              ...                ...          ...        ...   \n",
       "529  ['0241']                3               32.0            8         15   \n",
       "530  ['0241']                1               12.0            8         15   \n",
       "531  ['0241']                1               17.0            6         15   \n",
       "532  ['0241']               24              243.0            5         15   \n",
       "533  ['0241']                0                0.0            2         15   \n",
       "\n",
       "    day_of_week  \n",
       "0             4  \n",
       "1             4  \n",
       "2             4  \n",
       "3             4  \n",
       "4             4  \n",
       "..          ...  \n",
       "529           2  \n",
       "530           2  \n",
       "531           2  \n",
       "532           2  \n",
       "533           2  \n",
       "\n",
       "[14061 rows x 6 columns]"
      ]
     },
     "execution_count": 701,
     "metadata": {},
     "output_type": "execute_result"
    }
   ],
   "source": [
    "features_10users_10_10"
   ]
  },
  {
   "cell_type": "markdown",
   "id": "bcfddbb3",
   "metadata": {},
   "source": [
    "Будем исследовать обнаруженные значения признаков на наборе данных из 10 пользователей"
   ]
  },
  {
   "cell_type": "code",
   "execution_count": 710,
   "id": "f1b8add6",
   "metadata": {},
   "outputs": [
    {
     "ename": "FileNotFoundError",
     "evalue": "[Errno 2] No such file or directory: 'E:\\\\Work\\\\Project_capstone\\\\features_10users_10_10.pkl'",
     "output_type": "error",
     "traceback": [
      "\u001b[1;31m---------------------------------------------------------------------------\u001b[0m",
      "\u001b[1;31mFileNotFoundError\u001b[0m                         Traceback (most recent call last)",
      "\u001b[1;32mC:\\Users\\7636~1\\AppData\\Local\\Temp/ipykernel_4276/1658338966.py\u001b[0m in \u001b[0;36m<module>\u001b[1;34m\u001b[0m\n\u001b[1;32m----> 1\u001b[1;33m \u001b[0mnew_features_10users_10_10\u001b[0m \u001b[1;33m=\u001b[0m \u001b[0mpd\u001b[0m\u001b[1;33m.\u001b[0m\u001b[0mread_pickle\u001b[0m\u001b[1;33m(\u001b[0m\u001b[0mos\u001b[0m\u001b[1;33m.\u001b[0m\u001b[0mpath\u001b[0m\u001b[1;33m.\u001b[0m\u001b[0mjoin\u001b[0m\u001b[1;33m(\u001b[0m\u001b[0mPATH_TO_DATA\u001b[0m\u001b[1;33m,\u001b[0m \u001b[1;34mr\"features_10users_10_10.pkl\"\u001b[0m\u001b[1;33m)\u001b[0m\u001b[1;33m)\u001b[0m\u001b[1;33m\u001b[0m\u001b[1;33m\u001b[0m\u001b[0m\n\u001b[0m\u001b[0;32m      2\u001b[0m \u001b[0mnew_features_10users_10_10\u001b[0m\u001b[1;33m\u001b[0m\u001b[1;33m\u001b[0m\u001b[0m\n",
      "\u001b[1;32mE:\\Programs\\Anaconda\\lib\\site-packages\\pandas\\io\\pickle.py\u001b[0m in \u001b[0;36mread_pickle\u001b[1;34m(filepath_or_buffer, compression, storage_options)\u001b[0m\n\u001b[0;32m    194\u001b[0m     \"\"\"\n\u001b[0;32m    195\u001b[0m     \u001b[0mexcs_to_catch\u001b[0m \u001b[1;33m=\u001b[0m \u001b[1;33m(\u001b[0m\u001b[0mAttributeError\u001b[0m\u001b[1;33m,\u001b[0m \u001b[0mImportError\u001b[0m\u001b[1;33m,\u001b[0m \u001b[0mModuleNotFoundError\u001b[0m\u001b[1;33m,\u001b[0m \u001b[0mTypeError\u001b[0m\u001b[1;33m)\u001b[0m\u001b[1;33m\u001b[0m\u001b[1;33m\u001b[0m\u001b[0m\n\u001b[1;32m--> 196\u001b[1;33m     with get_handle(\n\u001b[0m\u001b[0;32m    197\u001b[0m         \u001b[0mfilepath_or_buffer\u001b[0m\u001b[1;33m,\u001b[0m\u001b[1;33m\u001b[0m\u001b[1;33m\u001b[0m\u001b[0m\n\u001b[0;32m    198\u001b[0m         \u001b[1;34m\"rb\"\u001b[0m\u001b[1;33m,\u001b[0m\u001b[1;33m\u001b[0m\u001b[1;33m\u001b[0m\u001b[0m\n",
      "\u001b[1;32mE:\\Programs\\Anaconda\\lib\\site-packages\\pandas\\io\\common.py\u001b[0m in \u001b[0;36mget_handle\u001b[1;34m(path_or_buf, mode, encoding, compression, memory_map, is_text, errors, storage_options)\u001b[0m\n\u001b[0;32m    709\u001b[0m         \u001b[1;32melse\u001b[0m\u001b[1;33m:\u001b[0m\u001b[1;33m\u001b[0m\u001b[1;33m\u001b[0m\u001b[0m\n\u001b[0;32m    710\u001b[0m             \u001b[1;31m# Binary mode\u001b[0m\u001b[1;33m\u001b[0m\u001b[1;33m\u001b[0m\u001b[0m\n\u001b[1;32m--> 711\u001b[1;33m             \u001b[0mhandle\u001b[0m \u001b[1;33m=\u001b[0m \u001b[0mopen\u001b[0m\u001b[1;33m(\u001b[0m\u001b[0mhandle\u001b[0m\u001b[1;33m,\u001b[0m \u001b[0mioargs\u001b[0m\u001b[1;33m.\u001b[0m\u001b[0mmode\u001b[0m\u001b[1;33m)\u001b[0m\u001b[1;33m\u001b[0m\u001b[1;33m\u001b[0m\u001b[0m\n\u001b[0m\u001b[0;32m    712\u001b[0m         \u001b[0mhandles\u001b[0m\u001b[1;33m.\u001b[0m\u001b[0mappend\u001b[0m\u001b[1;33m(\u001b[0m\u001b[0mhandle\u001b[0m\u001b[1;33m)\u001b[0m\u001b[1;33m\u001b[0m\u001b[1;33m\u001b[0m\u001b[0m\n\u001b[0;32m    713\u001b[0m \u001b[1;33m\u001b[0m\u001b[0m\n",
      "\u001b[1;31mFileNotFoundError\u001b[0m: [Errno 2] No such file or directory: 'E:\\\\Work\\\\Project_capstone\\\\features_10users_10_10.pkl'"
     ]
    }
   ],
   "source": [
    "new_features_10users_10_10 = pd.read_pickle(os.path.join(PATH_TO_DATA, r\"features_10users_10_10.pkl\"))\n"
   ]
  },
  {
   "cell_type": "code",
   "execution_count": 673,
   "id": "cc616fea",
   "metadata": {},
   "outputs": [
    {
     "data": {
      "text/html": [
       "<div>\n",
       "<style scoped>\n",
       "    .dataframe tbody tr th:only-of-type {\n",
       "        vertical-align: middle;\n",
       "    }\n",
       "\n",
       "    .dataframe tbody tr th {\n",
       "        vertical-align: top;\n",
       "    }\n",
       "\n",
       "    .dataframe thead th {\n",
       "        text-align: right;\n",
       "    }\n",
       "</style>\n",
       "<table border=\"1\" class=\"dataframe\">\n",
       "  <thead>\n",
       "    <tr style=\"text-align: right;\">\n",
       "      <th></th>\n",
       "      <th>user_id</th>\n",
       "      <th>avg_time_on_site</th>\n",
       "      <th>session_timestamp</th>\n",
       "      <th>unique_sites</th>\n",
       "      <th>start_hour</th>\n",
       "      <th>day_of_week</th>\n",
       "    </tr>\n",
       "  </thead>\n",
       "  <tbody>\n",
       "    <tr>\n",
       "      <th>0</th>\n",
       "      <td>['0031']</td>\n",
       "      <td>3</td>\n",
       "      <td>33.0</td>\n",
       "      <td>5</td>\n",
       "      <td>8</td>\n",
       "      <td>4</td>\n",
       "    </tr>\n",
       "    <tr>\n",
       "      <th>1</th>\n",
       "      <td>['0031']</td>\n",
       "      <td>31</td>\n",
       "      <td>285.0</td>\n",
       "      <td>10</td>\n",
       "      <td>8</td>\n",
       "      <td>4</td>\n",
       "    </tr>\n",
       "    <tr>\n",
       "      <th>2</th>\n",
       "      <td>['0031']</td>\n",
       "      <td>28</td>\n",
       "      <td>258.0</td>\n",
       "      <td>7</td>\n",
       "      <td>8</td>\n",
       "      <td>4</td>\n",
       "    </tr>\n",
       "    <tr>\n",
       "      <th>3</th>\n",
       "      <td>['0031']</td>\n",
       "      <td>3</td>\n",
       "      <td>30.0</td>\n",
       "      <td>6</td>\n",
       "      <td>8</td>\n",
       "      <td>4</td>\n",
       "    </tr>\n",
       "    <tr>\n",
       "      <th>4</th>\n",
       "      <td>['0031']</td>\n",
       "      <td>0</td>\n",
       "      <td>7.0</td>\n",
       "      <td>9</td>\n",
       "      <td>8</td>\n",
       "      <td>4</td>\n",
       "    </tr>\n",
       "    <tr>\n",
       "      <th>...</th>\n",
       "      <td>...</td>\n",
       "      <td>...</td>\n",
       "      <td>...</td>\n",
       "      <td>...</td>\n",
       "      <td>...</td>\n",
       "      <td>...</td>\n",
       "    </tr>\n",
       "    <tr>\n",
       "      <th>14056</th>\n",
       "      <td>['0241']</td>\n",
       "      <td>3</td>\n",
       "      <td>32.0</td>\n",
       "      <td>8</td>\n",
       "      <td>15</td>\n",
       "      <td>2</td>\n",
       "    </tr>\n",
       "    <tr>\n",
       "      <th>14057</th>\n",
       "      <td>['0241']</td>\n",
       "      <td>1</td>\n",
       "      <td>12.0</td>\n",
       "      <td>8</td>\n",
       "      <td>15</td>\n",
       "      <td>2</td>\n",
       "    </tr>\n",
       "    <tr>\n",
       "      <th>14058</th>\n",
       "      <td>['0241']</td>\n",
       "      <td>1</td>\n",
       "      <td>17.0</td>\n",
       "      <td>6</td>\n",
       "      <td>15</td>\n",
       "      <td>2</td>\n",
       "    </tr>\n",
       "    <tr>\n",
       "      <th>14059</th>\n",
       "      <td>['0241']</td>\n",
       "      <td>26</td>\n",
       "      <td>243.0</td>\n",
       "      <td>5</td>\n",
       "      <td>15</td>\n",
       "      <td>2</td>\n",
       "    </tr>\n",
       "    <tr>\n",
       "      <th>14060</th>\n",
       "      <td>['0241']</td>\n",
       "      <td>26</td>\n",
       "      <td>0.0</td>\n",
       "      <td>2</td>\n",
       "      <td>15</td>\n",
       "      <td>2</td>\n",
       "    </tr>\n",
       "  </tbody>\n",
       "</table>\n",
       "<p>14061 rows × 6 columns</p>\n",
       "</div>"
      ],
      "text/plain": [
       "        user_id avg_time_on_site  session_timestamp unique_sites start_hour  \\\n",
       "0      ['0031']                3               33.0            5          8   \n",
       "1      ['0031']               31              285.0           10          8   \n",
       "2      ['0031']               28              258.0            7          8   \n",
       "3      ['0031']                3               30.0            6          8   \n",
       "4      ['0031']                0                7.0            9          8   \n",
       "...         ...              ...                ...          ...        ...   \n",
       "14056  ['0241']                3               32.0            8         15   \n",
       "14057  ['0241']                1               12.0            8         15   \n",
       "14058  ['0241']                1               17.0            6         15   \n",
       "14059  ['0241']               26              243.0            5         15   \n",
       "14060  ['0241']               26                0.0            2         15   \n",
       "\n",
       "      day_of_week  \n",
       "0               4  \n",
       "1               4  \n",
       "2               4  \n",
       "3               4  \n",
       "4               4  \n",
       "...           ...  \n",
       "14056           2  \n",
       "14057           2  \n",
       "14058           2  \n",
       "14059           2  \n",
       "14060           2  \n",
       "\n",
       "[14061 rows x 6 columns]"
      ]
     },
     "execution_count": 673,
     "metadata": {},
     "output_type": "execute_result"
    }
   ],
   "source": [
    "new_features_10users_10_10"
   ]
  },
  {
   "cell_type": "markdown",
   "id": "87a2ec50",
   "metadata": {},
   "source": [
    "Посмотрим, каково распределение частот значений длины сессии"
   ]
  },
  {
   "cell_type": "code",
   "execution_count": 229,
   "id": "22b5d774",
   "metadata": {},
   "outputs": [
    {
     "data": {
      "text/plain": [
       "2.0          641\n",
       "3.0          535\n",
       "4.0          409\n",
       "1.0          372\n",
       "5.0          339\n",
       "            ... \n",
       "77424.0        1\n",
       "195705.0       1\n",
       "242978.0       1\n",
       "159845.0       1\n",
       "2735739.0      1\n",
       "Name: session_timestamp, Length: 1971, dtype: int64"
      ]
     },
     "execution_count": 229,
     "metadata": {},
     "output_type": "execute_result"
    }
   ],
   "source": [
    "new_features_10users_10_10[\"session_timestamp\"].value_counts()"
   ]
  },
  {
   "cell_type": "code",
   "execution_count": 334,
   "id": "6c4c590b",
   "metadata": {},
   "outputs": [
    {
     "data": {
      "image/png": "[encoded data removed]",
      "text/plain": [
       "<Figure size 432x288 with 1 Axes>"
      ]
     },
     "metadata": {},
     "output_type": "display_data"
    }
   ],
   "source": [
    "plt.hist(new_features_10users_10_10[\"session_timestamp\"], bins = 200, range = (0, 200))\n",
    "\n",
    "plt.show()"
   ]
  },
  {
   "cell_type": "markdown",
   "id": "8e4fdf36",
   "metadata": {},
   "source": [
    "Гистограмма распределения числа уникальных сайтов в сессии (unique_sites)."
   ]
  },
  {
   "cell_type": "code",
   "execution_count": 329,
   "id": "827f3823",
   "metadata": {},
   "outputs": [
    {
     "data": {
      "text/plain": [
       "Text(0, 0.5, 'Количество')"
      ]
     },
     "execution_count": 329,
     "metadata": {},
     "output_type": "execute_result"
    },
    {
     "data": {
      "image/png": "[encoded data removed]",
      "text/plain": [
       "<Figure size 432x288 with 1 Axes>"
      ]
     },
     "metadata": {},
     "output_type": "display_data"
    }
   ],
   "source": [
    "plt.hist(new_features_10users_10_10[\"unique_sites\"])\n",
    "plt.xlabel(\"Число уникальных сайтов в сессии\")\n",
    "plt.ylabel(\"Количество\")"
   ]
  },
  {
   "cell_type": "markdown",
   "id": "130b7ff8",
   "metadata": {},
   "source": [
    "Распределения часа начала сессии (start_hour)"
   ]
  },
  {
   "cell_type": "code",
   "execution_count": 342,
   "id": "0d363dd5",
   "metadata": {},
   "outputs": [
    {
     "data": {
      "text/plain": [
       "14    1872\n",
       "15    1409\n",
       "10    1296\n",
       "13    1283\n",
       "9     1264\n",
       "12    1160\n",
       "16     947\n",
       "11     920\n",
       "17     879\n",
       "8      770\n",
       "20     519\n",
       "18     500\n",
       "19     456\n",
       "21     423\n",
       "22     239\n",
       "23     118\n",
       "7        5\n",
       "Name: start_hour, dtype: int64"
      ]
     },
     "execution_count": 342,
     "metadata": {},
     "output_type": "execute_result"
    }
   ],
   "source": [
    "new_features_10users_10_10[\"start_hour\"].value_counts()"
   ]
  },
  {
   "cell_type": "code",
   "execution_count": 343,
   "id": "34c7697a",
   "metadata": {},
   "outputs": [
    {
     "data": {
      "text/plain": [
       "Text(0, 0.5, 'Количество')"
      ]
     },
     "execution_count": 343,
     "metadata": {},
     "output_type": "execute_result"
    },
    {
     "data": {
      "image/png": "[encoded data removed]",
      "text/plain": [
       "<Figure size 432x288 with 1 Axes>"
      ]
     },
     "metadata": {},
     "output_type": "display_data"
    }
   ],
   "source": [
    "plt.hist(new_features_10users_10_10[\"start_hour\"], bins = len(new_features_10users_10_10[\"start_hour\"].value_counts()), \n",
    "         range = (7, 23))\n",
    "plt.xlabel(\"Час начала сессии\")\n",
    "plt.ylabel(\"Количество\")"
   ]
  },
  {
   "cell_type": "markdown",
   "id": "5623a4ae",
   "metadata": {},
   "source": [
    "Распределения дня недели, в который началась сессия"
   ]
  },
  {
   "cell_type": "code",
   "execution_count": 347,
   "id": "3454a65e",
   "metadata": {},
   "outputs": [
    {
     "data": {
      "text/plain": [
       "2    3163\n",
       "1    2772\n",
       "3    2316\n",
       "4    1519\n",
       "0    1505\n",
       "5    1494\n",
       "6    1291\n",
       "Name: day_of_week, dtype: int64"
      ]
     },
     "execution_count": 347,
     "metadata": {},
     "output_type": "execute_result"
    }
   ],
   "source": [
    "new_features_10users_10_10[\"day_of_week\"].value_counts()"
   ]
  },
  {
   "cell_type": "code",
   "execution_count": 353,
   "id": "06a4e3ab",
   "metadata": {},
   "outputs": [
    {
     "data": {
      "image/png": "[encoded data removed]",
      "text/plain": [
       "<Figure size 432x288 with 1 Axes>"
      ]
     },
     "metadata": {},
     "output_type": "display_data"
    }
   ],
   "source": [
    "plt.hist(new_features_10users_10_10[\"day_of_week\"], bins = len(new_features_10users_10_10[\"day_of_week\"].value_counts()), \n",
    "         range = (0, 6))\n",
    "\n",
    "plt.xlabel(\"День недели\")\n",
    "plt.ylabel(\"Количество\")\n",
    "plt.show()"
   ]
  },
  {
   "cell_type": "markdown",
   "id": "30fde128",
   "metadata": {},
   "source": [
    "Загрузим сериализованные ранее объекты X_sparse_10users и y_10users, соответствующие обучающей выборке для 10 пользователей. Будем подбирать лучшую модель на ней, а не на выборке по 150 пользователям."
   ]
  },
  {
   "cell_type": "code",
   "execution_count": 56,
   "id": "932e4685",
   "metadata": {},
   "outputs": [],
   "source": [
    "with open(os.path.join(PATH_TO_DATA, \n",
    "         'X_sparse_10users_10_10.pkl'), 'rb') as X_sparse_10users_pkl:\n",
    "    X_sparse_10users_10_10 = pickle.load(X_sparse_10users_pkl)\n",
    "with open(os.path.join(PATH_TO_DATA, \n",
    "                       'y_10users_10_10.pkl'), 'rb') as y_10users_pkl:\n",
    "    y_10users_10_10 = pickle.load(y_10users_pkl)"
   ]
  },
  {
   "cell_type": "markdown",
   "id": "9d03d4b4",
   "metadata": {},
   "source": [
    "Разобьем выборку на 2 части. На одной будем проводить кросс-валидацию, на второй – оценивать модель, обученную после кросс-валидации."
   ]
  },
  {
   "cell_type": "code",
   "execution_count": 65,
   "id": "8292534d",
   "metadata": {},
   "outputs": [],
   "source": [
    "X_train, X_test, y_train, y_test = train_test_split(X_sparse_10users_10_10, y_10users_10_10, \n",
    "                                                      test_size=0.3, \n",
    "                                                     random_state=17, stratify=y_10users_10_10)"
   ]
  },
  {
   "cell_type": "markdown",
   "id": "d3ca3d1c",
   "metadata": {},
   "source": [
    "Зададим параметры кросс-валидации"
   ]
  },
  {
   "cell_type": "code",
   "execution_count": 58,
   "id": "3c23c1fd",
   "metadata": {},
   "outputs": [],
   "source": [
    "skf = StratifiedKFold(n_splits=3, shuffle=True, random_state=17)"
   ]
  },
  {
   "cell_type": "code",
   "execution_count": 59,
   "id": "078e2186",
   "metadata": {},
   "outputs": [],
   "source": [
    "StratifiedKFold?"
   ]
  },
  {
   "cell_type": "markdown",
   "id": "04b1e0af",
   "metadata": {},
   "source": [
    "Создадим функцию для отрисовки кривых валидации"
   ]
  },
  {
   "cell_type": "code",
   "execution_count": 60,
   "id": "099ec753",
   "metadata": {},
   "outputs": [],
   "source": [
    "def plot_validation_curves(param_values, grid_cv_results_):\n",
    "    train_mu, train_std = grid_cv_results_['mean_train_score'], grid_cv_results_['std_train_score']\n",
    "    valid_mu, valid_std = grid_cv_results_['mean_test_score'], grid_cv_results_['std_test_score']\n",
    "    train_line = plt.plot(param_values, train_mu, '-', label='train', color='green')\n",
    "    valid_line = plt.plot(param_values, valid_mu, '-', label='test', color='red')\n",
    "    plt.fill_between(param_values, train_mu - train_std, train_mu + train_std, edgecolor='none',\n",
    "                     facecolor=train_line[0].get_color(), alpha=0.2)\n",
    "    plt.fill_between(param_values, valid_mu - valid_std, valid_mu + valid_std, edgecolor='none',\n",
    "                     facecolor=valid_line[0].get_color(), alpha=0.2)\n",
    "    plt.legend()"
   ]
  },
  {
   "cell_type": "markdown",
   "id": "17f30a32",
   "metadata": {},
   "source": [
    "Значение accuracy knn для 10 пользователей на X_train на кросс-валидации: "
   ]
  },
  {
   "cell_type": "code",
   "execution_count": 63,
   "id": "294f49a9",
   "metadata": {},
   "outputs": [],
   "source": [
    "KNeighborsClassifier?"
   ]
  },
  {
   "cell_type": "code",
   "execution_count": 62,
   "id": "7f8c0173",
   "metadata": {},
   "outputs": [],
   "source": [
    "knn = KNeighborsClassifier(n_neighbors=100)"
   ]
  },
  {
   "cell_type": "code",
   "execution_count": 201,
   "id": "b176b848",
   "metadata": {},
   "outputs": [
    {
     "name": "stdout",
     "output_type": "stream",
     "text": [
      "Значение accuracy на X_train на кросс-валидации: \n",
      "[0.9963772196568683, 0.9961707399481924, 0.9966024064723218]\n"
     ]
    }
   ],
   "source": [
    "list_accu_stratified_train = []\n",
    "  \n",
    "for train_indexes, test_indexes in skf.split(X_train, y_train):\n",
    "    X_train_fold, X_test_fold = X_train[train_indexes], X_train[test_indexes]\n",
    "    y_train_fold, y_test_fold = y_train[train_indexes], y_train[test_indexes]\n",
    "    knn.fit(X_train_fold, y_train_fold)\n",
    "    list_accu_stratified_train.append(knn.score(X_test_fold, y_test_fold))\n",
    "print(\"Значение accuracy на X_train на кросс-валидации: \")\n",
    "print(list_accu_stratified_train)"
   ]
  },
  {
   "cell_type": "code",
   "execution_count": 70,
   "id": "9d616851",
   "metadata": {},
   "outputs": [],
   "source": [
    "knn_params1 = [5, 20, 50, 100, 250, 500, 1000, 1500, 2000, 5000, 25000]"
   ]
  },
  {
   "cell_type": "code",
   "execution_count": 200,
   "id": "6ec15321",
   "metadata": {},
   "outputs": [],
   "source": [
    "GridSearchCV?"
   ]
  },
  {
   "cell_type": "code",
   "execution_count": 71,
   "id": "de7e93f4",
   "metadata": {},
   "outputs": [
    {
     "ename": "AttributeError",
     "evalue": "'int' object has no attribute 'items'",
     "output_type": "error",
     "traceback": [
      "\u001b[1;31m---------------------------------------------------------------------------\u001b[0m",
      "\u001b[1;31mAttributeError\u001b[0m                            Traceback (most recent call last)",
      "\u001b[1;32mC:\\Users\\7636~1\\AppData\\Local\\Temp/ipykernel_5868/2401628936.py\u001b[0m in \u001b[0;36m<module>\u001b[1;34m\u001b[0m\n\u001b[1;32m----> 1\u001b[1;33m \u001b[0mknn_grid_search1\u001b[0m \u001b[1;33m=\u001b[0m \u001b[0mGridSearchCV\u001b[0m\u001b[1;33m(\u001b[0m\u001b[0mestimator\u001b[0m \u001b[1;33m=\u001b[0m \u001b[0mknn\u001b[0m\u001b[1;33m,\u001b[0m \u001b[0mparam_grid\u001b[0m \u001b[1;33m=\u001b[0m \u001b[0mknn_params1\u001b[0m\u001b[1;33m,\u001b[0m \u001b[0mreturn_train_score\u001b[0m \u001b[1;33m=\u001b[0m \u001b[1;32mTrue\u001b[0m\u001b[1;33m)\u001b[0m\u001b[1;33m\u001b[0m\u001b[1;33m\u001b[0m\u001b[0m\n\u001b[0m",
      "\u001b[1;32mE:\\Programs\\Anaconda\\lib\\site-packages\\sklearn\\utils\\validation.py\u001b[0m in \u001b[0;36minner_f\u001b[1;34m(*args, **kwargs)\u001b[0m\n\u001b[0;32m     61\u001b[0m             \u001b[0mextra_args\u001b[0m \u001b[1;33m=\u001b[0m \u001b[0mlen\u001b[0m\u001b[1;33m(\u001b[0m\u001b[0margs\u001b[0m\u001b[1;33m)\u001b[0m \u001b[1;33m-\u001b[0m \u001b[0mlen\u001b[0m\u001b[1;33m(\u001b[0m\u001b[0mall_args\u001b[0m\u001b[1;33m)\u001b[0m\u001b[1;33m\u001b[0m\u001b[1;33m\u001b[0m\u001b[0m\n\u001b[0;32m     62\u001b[0m             \u001b[1;32mif\u001b[0m \u001b[0mextra_args\u001b[0m \u001b[1;33m<=\u001b[0m \u001b[1;36m0\u001b[0m\u001b[1;33m:\u001b[0m\u001b[1;33m\u001b[0m\u001b[1;33m\u001b[0m\u001b[0m\n\u001b[1;32m---> 63\u001b[1;33m                 \u001b[1;32mreturn\u001b[0m \u001b[0mf\u001b[0m\u001b[1;33m(\u001b[0m\u001b[1;33m*\u001b[0m\u001b[0margs\u001b[0m\u001b[1;33m,\u001b[0m \u001b[1;33m**\u001b[0m\u001b[0mkwargs\u001b[0m\u001b[1;33m)\u001b[0m\u001b[1;33m\u001b[0m\u001b[1;33m\u001b[0m\u001b[0m\n\u001b[0m\u001b[0;32m     64\u001b[0m \u001b[1;33m\u001b[0m\u001b[0m\n\u001b[0;32m     65\u001b[0m             \u001b[1;31m# extra_args > 0\u001b[0m\u001b[1;33m\u001b[0m\u001b[1;33m\u001b[0m\u001b[0m\n",
      "\u001b[1;32mE:\\Programs\\Anaconda\\lib\\site-packages\\sklearn\\model_selection\\_search.py\u001b[0m in \u001b[0;36m__init__\u001b[1;34m(self, estimator, param_grid, scoring, n_jobs, refit, cv, verbose, pre_dispatch, error_score, return_train_score)\u001b[0m\n\u001b[0;32m   1290\u001b[0m             return_train_score=return_train_score)\n\u001b[0;32m   1291\u001b[0m         \u001b[0mself\u001b[0m\u001b[1;33m.\u001b[0m\u001b[0mparam_grid\u001b[0m \u001b[1;33m=\u001b[0m \u001b[0mparam_grid\u001b[0m\u001b[1;33m\u001b[0m\u001b[1;33m\u001b[0m\u001b[0m\n\u001b[1;32m-> 1292\u001b[1;33m         \u001b[0m_check_param_grid\u001b[0m\u001b[1;33m(\u001b[0m\u001b[0mparam_grid\u001b[0m\u001b[1;33m)\u001b[0m\u001b[1;33m\u001b[0m\u001b[1;33m\u001b[0m\u001b[0m\n\u001b[0m\u001b[0;32m   1293\u001b[0m \u001b[1;33m\u001b[0m\u001b[0m\n\u001b[0;32m   1294\u001b[0m     \u001b[1;32mdef\u001b[0m \u001b[0m_run_search\u001b[0m\u001b[1;33m(\u001b[0m\u001b[0mself\u001b[0m\u001b[1;33m,\u001b[0m \u001b[0mevaluate_candidates\u001b[0m\u001b[1;33m)\u001b[0m\u001b[1;33m:\u001b[0m\u001b[1;33m\u001b[0m\u001b[1;33m\u001b[0m\u001b[0m\n",
      "\u001b[1;32mE:\\Programs\\Anaconda\\lib\\site-packages\\sklearn\\model_selection\\_search.py\u001b[0m in \u001b[0;36m_check_param_grid\u001b[1;34m(param_grid)\u001b[0m\n\u001b[0;32m    392\u001b[0m \u001b[1;33m\u001b[0m\u001b[0m\n\u001b[0;32m    393\u001b[0m     \u001b[1;32mfor\u001b[0m \u001b[0mp\u001b[0m \u001b[1;32min\u001b[0m \u001b[0mparam_grid\u001b[0m\u001b[1;33m:\u001b[0m\u001b[1;33m\u001b[0m\u001b[1;33m\u001b[0m\u001b[0m\n\u001b[1;32m--> 394\u001b[1;33m         \u001b[1;32mfor\u001b[0m \u001b[0mname\u001b[0m\u001b[1;33m,\u001b[0m \u001b[0mv\u001b[0m \u001b[1;32min\u001b[0m \u001b[0mp\u001b[0m\u001b[1;33m.\u001b[0m\u001b[0mitems\u001b[0m\u001b[1;33m(\u001b[0m\u001b[1;33m)\u001b[0m\u001b[1;33m:\u001b[0m\u001b[1;33m\u001b[0m\u001b[1;33m\u001b[0m\u001b[0m\n\u001b[0m\u001b[0;32m    395\u001b[0m             \u001b[1;32mif\u001b[0m \u001b[0misinstance\u001b[0m\u001b[1;33m(\u001b[0m\u001b[0mv\u001b[0m\u001b[1;33m,\u001b[0m \u001b[0mnp\u001b[0m\u001b[1;33m.\u001b[0m\u001b[0mndarray\u001b[0m\u001b[1;33m)\u001b[0m \u001b[1;32mand\u001b[0m \u001b[0mv\u001b[0m\u001b[1;33m.\u001b[0m\u001b[0mndim\u001b[0m \u001b[1;33m>\u001b[0m \u001b[1;36m1\u001b[0m\u001b[1;33m:\u001b[0m\u001b[1;33m\u001b[0m\u001b[1;33m\u001b[0m\u001b[0m\n\u001b[0;32m    396\u001b[0m                 \u001b[1;32mraise\u001b[0m \u001b[0mValueError\u001b[0m\u001b[1;33m(\u001b[0m\u001b[1;34m\"Parameter array should be one-dimensional.\"\u001b[0m\u001b[1;33m)\u001b[0m\u001b[1;33m\u001b[0m\u001b[1;33m\u001b[0m\u001b[0m\n",
      "\u001b[1;31mAttributeError\u001b[0m: 'int' object has no attribute 'items'"
     ]
    }
   ],
   "source": [
    "knn_grid_search1 = GridSearchCV(estimator = knn, param_grid = knn_params1, return_train_score = True)"
   ]
  },
  {
   "cell_type": "markdown",
   "id": "5b3f4855",
   "metadata": {},
   "source": [
    "Значение accuracy на отложенной выборке"
   ]
  },
  {
   "cell_type": "code",
   "execution_count": 202,
   "id": "18b4b9f9",
   "metadata": {},
   "outputs": [
    {
     "data": {
      "text/plain": [
       "0.9966024064723218"
      ]
     },
     "execution_count": 202,
     "metadata": {},
     "output_type": "execute_result"
    }
   ],
   "source": [
    "accuracy_score(y_test_fold, knn.fit(X_train_fold, y_train_fold).predict(X_test_fold))"
   ]
  },
  {
   "cell_type": "markdown",
   "id": "3737a0d6",
   "metadata": {},
   "source": [
    "Случайный лес:"
   ]
  },
  {
   "cell_type": "code",
   "execution_count": 285,
   "id": "cb326ef3",
   "metadata": {},
   "outputs": [],
   "source": [
    "rf = RandomForestClassifier(oob_score = True, random_state = 17, n_jobs=-1)"
   ]
  },
  {
   "cell_type": "code",
   "execution_count": 721,
   "id": "96874b6f",
   "metadata": {},
   "outputs": [
    {
     "data": {
      "text/plain": [
       "RandomForestClassifier(n_jobs=-1, oob_score=True, random_state=17)"
      ]
     },
     "execution_count": 721,
     "metadata": {},
     "output_type": "execute_result"
    }
   ],
   "source": [
    "rf.fit(X_train, y_train)"
   ]
  },
  {
   "cell_type": "code",
   "execution_count": 725,
   "id": "253541e8",
   "metadata": {},
   "outputs": [
    {
     "data": {
      "text/plain": [
       "0.7245792841905665"
      ]
     },
     "execution_count": 725,
     "metadata": {},
     "output_type": "execute_result"
    }
   ],
   "source": [
    "accuracy_score(y_test, forest.predict(X_test))"
   ]
  },
  {
   "cell_type": "markdown",
   "id": "6b3a3606",
   "metadata": {},
   "source": [
    "Out of bag error тренировочная подвыборка:"
   ]
  },
  {
   "cell_type": "code",
   "execution_count": 726,
   "id": "4cddf9c2",
   "metadata": {},
   "outputs": [
    {
     "data": {
      "text/plain": [
       "0.7054460475513107"
      ]
     },
     "execution_count": 726,
     "metadata": {},
     "output_type": "execute_result"
    }
   ],
   "source": [
    "rf.oob_score_"
   ]
  },
  {
   "cell_type": "markdown",
   "id": "939729ab",
   "metadata": {},
   "source": [
    "Out of bag error тестовая подвыборка:"
   ]
  },
  {
   "cell_type": "code",
   "execution_count": 290,
   "id": "378e336a",
   "metadata": {},
   "outputs": [
    {
     "data": {
      "text/plain": [
       "0.6906849964446551"
      ]
     },
     "execution_count": 290,
     "metadata": {},
     "output_type": "execute_result"
    }
   ],
   "source": [
    "rf.fit(X_test, y_test).oob_score_"
   ]
  },
  {
   "cell_type": "markdown",
   "id": "2fa80fc0",
   "metadata": {},
   "source": [
    "Логистическая регрессияя:"
   ]
  },
  {
   "cell_type": "code",
   "execution_count": 69,
   "id": "35e9603e",
   "metadata": {},
   "outputs": [],
   "source": [
    "lr = LogisticRegression(random_state=17, n_jobs=-1)"
   ]
  },
  {
   "cell_type": "markdown",
   "id": "7f5c0a8e",
   "metadata": {},
   "source": [
    "Подберём оптимальный параметр C"
   ]
  },
  {
   "cell_type": "code",
   "execution_count": 792,
   "id": "371a2382",
   "metadata": {},
   "outputs": [
    {
     "name": "stdout",
     "output_type": "stream",
     "text": [
      "Wall time: 57.3 s\n"
     ]
    }
   ],
   "source": [
    "%%time\n",
    "logit_c_values1 = np.logspace(-4, 2, 10)\n",
    "\n",
    "logit_grid_searcher1 = LogisticRegressionCV(cv = 5, Cs = logit_c_values1, multi_class = \"multinomial\").fit(X_train, y_train)\n",
    "\n"
   ]
  },
  {
   "cell_type": "markdown",
   "id": "f0a107f1",
   "metadata": {},
   "source": [
    "Функция находит среднее значение точности  по результатам кросс-валидации для всех перебираемых значений величины регуляризации в течение пяти итераций кросс-валидации"
   ]
  },
  {
   "cell_type": "code",
   "execution_count": 773,
   "id": "0229c9c1",
   "metadata": {},
   "outputs": [
    {
     "name": "stdout",
     "output_type": "stream",
     "text": [
      "[0.3099975948337442, 0.4691114201009963, 0.5446040662793626, 0.6460058756250335, 0.7116434304896629, 0.7458854624732129, 0.7564518842877611, 0.7525907666390022, 0.7479169505382205, 0.7417194151626635]\n",
      "[1.00000000e-04 4.64158883e-04 2.15443469e-03 1.00000000e-02\n",
      " 4.64158883e-02 2.15443469e-01 1.00000000e+00 4.64158883e+00\n",
      " 2.15443469e+01 1.00000000e+02]\n"
     ]
    }
   ],
   "source": [
    "dict_cv_scores = logit_grid_searcher1.scores_\n",
    "list_of_cv_scores = next(iter(dict_cv_scores.values()))\n",
    "array_all_cv_results = []\n",
    "\n",
    "for counter in range(len(list_of_cv_scores[0])):\n",
    "    array_cv_results = []\n",
    "    for i in range(len(list_of_cv_scores)):\n",
    "        array_cv_results.append(list_of_cv_scores[i][counter])\n",
    "    mean_iter_array = sum(array_cv_results)/len(array_cv_results)\n",
    "    array_all_cv_results.append(mean_iter_array)\n",
    "    \n",
    "print(array_all_cv_results)\n",
    "print( np.logspace(-4, 2, 10))"
   ]
  },
  {
   "cell_type": "markdown",
   "id": "ce669b52",
   "metadata": {},
   "source": [
    "Лучшее значение доли правильных ответов на кросс-валидации и соответствующее значение коэффициента регуляризации"
   ]
  },
  {
   "cell_type": "code",
   "execution_count": 774,
   "id": "7721a07a",
   "metadata": {},
   "outputs": [
    {
     "name": "stdout",
     "output_type": "stream",
     "text": [
      "Accuracy: 0.7564518842877611\n",
      "C: 1.0\n"
     ]
    }
   ],
   "source": [
    "print(\"Accuracy: \" + str(max(array_all_cv_results)))\n",
    "print(\"C: \" + str(np.logspace(-4, 2, 10)[array_all_cv_results.index(max(array_all_cv_results))]))"
   ]
  },
  {
   "cell_type": "markdown",
   "id": "2822f39c",
   "metadata": {},
   "source": [
    "Лучший коэффициен регуляризации - это 1"
   ]
  },
  {
   "cell_type": "markdown",
   "id": "e9d62cc3",
   "metadata": {},
   "source": [
    "Графики зависимости точности модели от величины C для тренировочной выборки"
   ]
  },
  {
   "cell_type": "code",
   "execution_count": 776,
   "id": "a0e6f1c1",
   "metadata": {},
   "outputs": [
    {
     "data": {
      "text/plain": [
       "[<matplotlib.lines.Line2D at 0x9da6d9d400>]"
      ]
     },
     "execution_count": 776,
     "metadata": {},
     "output_type": "execute_result"
    },
    {
     "data": {
      "image/png": "[encoded data removed]",
      "text/plain": [
       "<Figure size 432x288 with 1 Axes>"
      ]
     },
     "metadata": {
      "needs_background": "light"
     },
     "output_type": "display_data"
    }
   ],
   "source": [
    "plt.plot(np.logspace(-4, 2, 10), array_all_cv_results)\n"
   ]
  },
  {
   "cell_type": "code",
   "execution_count": 777,
   "id": "a960f518",
   "metadata": {},
   "outputs": [
    {
     "data": {
      "text/plain": [
       "(0.0, 10.0)"
      ]
     },
     "execution_count": 777,
     "metadata": {},
     "output_type": "execute_result"
    },
    {
     "data": {
      "image/png": "[encoded data removed]",
      "text/plain": [
       "<Figure size 432x288 with 1 Axes>"
      ]
     },
     "metadata": {
      "needs_background": "light"
     },
     "output_type": "display_data"
    }
   ],
   "source": [
    "plt.plot(np.logspace(-4, 2, 10), array_all_cv_results)\n",
    "plt.xlim([0, 10])"
   ]
  },
  {
   "cell_type": "markdown",
   "id": "8574a7ed",
   "metadata": {},
   "source": [
    "Точность логистической регрессии на тестовой выборке при C = 1:"
   ]
  },
  {
   "cell_type": "code",
   "execution_count": 74,
   "id": "fbfc6a13",
   "metadata": {},
   "outputs": [
    {
     "data": {
      "text/plain": [
       "0.7767243422611994"
      ]
     },
     "execution_count": 74,
     "metadata": {},
     "output_type": "execute_result"
    }
   ],
   "source": [
    "accuracy_score(y_test, LogisticRegression(random_state=17, n_jobs=-1, C = 1).fit(X_train, y_train).predict(X_test))"
   ]
  },
  {
   "cell_type": "markdown",
   "id": "12fc46c0",
   "metadata": {},
   "source": [
    "Продолжаем перебор параметра регуляризации"
   ]
  },
  {
   "cell_type": "code",
   "execution_count": 76,
   "id": "43f4dee5",
   "metadata": {},
   "outputs": [
    {
     "name": "stdout",
     "output_type": "stream",
     "text": [
      "Wall time: 3min 2s\n"
     ]
    },
    {
     "data": {
      "text/plain": [
       "LogisticRegressionCV(Cs=array([0.1       , 0.46315789, 0.82631579, 1.18947368, 1.55263158,\n",
       "       1.91578947, 2.27894737, 2.64210526, 3.00526316, 3.36842105,\n",
       "       3.73157895, 4.09473684, 4.45789474, 4.82105263, 5.18421053,\n",
       "       5.54736842, 5.91052632, 6.27368421, 6.63684211, 7.        ]),\n",
       "                     cv=5, multi_class='multinomial')"
      ]
     },
     "execution_count": 76,
     "metadata": {},
     "output_type": "execute_result"
    }
   ],
   "source": [
    "%%time\n",
    "logit_c_values2 = np.linspace(0.1, 7, 20)\n",
    "\n",
    "logit_grid_searcher2 = LogisticRegressionCV(Cs = logit_c_values2, multi_class = \"multinomial\", cv = 5)\n",
    "logit_grid_searcher2.fit(X_train, y_train)"
   ]
  },
  {
   "cell_type": "markdown",
   "id": "f3ee8cae",
   "metadata": {},
   "source": [
    "Accuracy в зависимости от значения C"
   ]
  },
  {
   "cell_type": "code",
   "execution_count": 77,
   "id": "ba535c3f",
   "metadata": {},
   "outputs": [
    {
     "name": "stdout",
     "output_type": "stream",
     "text": [
      "[0.7442594978260599, 0.7656985098291815, 0.7683403217348577, 0.767933817669817, 0.7676289912340464, 0.7663084723787816, 0.7663084207657719, 0.7656986646682109, 0.7646821464405604, 0.7647835660047815, 0.7640723387299897, 0.7648851404080318, 0.764275332697461, 0.7636656798259198, 0.7632592789868987, 0.7627512521316172, 0.7627513037446272, 0.7625481033251166, 0.7621416508730856, 0.7619383472275555]\n",
      "[1.25892541e+00 2.90507865e+00 6.70371881e+00 1.54694077e+01\n",
      " 3.56969885e+01 8.23738707e+01 1.90084790e+02 4.38637001e+02\n",
      " 1.01219260e+03 2.33572147e+03 5.38987815e+03 1.24376073e+04\n",
      " 2.87008485e+04 6.62296762e+04 1.52830673e+05 3.52669921e+05\n",
      " 8.13816172e+05 1.87795080e+06 4.33353297e+06 1.00000000e+07]\n"
     ]
    }
   ],
   "source": [
    "dict_cv_scores = logit_grid_searcher2.scores_\n",
    "list_of_cv_scores = next(iter(dict_cv_scores.values()))\n",
    "array_all_cv_results = []\n",
    "for counter in range(len(list_of_cv_scores[0])):\n",
    "    array_cv_results = []\n",
    "    for i in range(len(list_of_cv_scores)):\n",
    "        array_cv_results.append(list_of_cv_scores[i][counter])\n",
    "    mean_iter_array = sum(array_cv_results)/len(array_cv_results)\n",
    "    array_all_cv_results.append(mean_iter_array)\n",
    "print(array_all_cv_results)\n",
    "print( np.logspace(0.1, 7, 20))"
   ]
  },
  {
   "cell_type": "code",
   "execution_count": 78,
   "id": "f7f61fef",
   "metadata": {},
   "outputs": [
    {
     "data": {
      "text/plain": [
       "(0.0, 100.0)"
      ]
     },
     "execution_count": 78,
     "metadata": {},
     "output_type": "execute_result"
    },
    {
     "data": {
      "image/png": "[encoded data removed]",
      "text/plain": [
       "<Figure size 432x288 with 1 Axes>"
      ]
     },
     "metadata": {
      "needs_background": "light"
     },
     "output_type": "display_data"
    }
   ],
   "source": [
    "plt.plot(np.logspace(0.1, 7, 20), array_all_cv_results)\n",
    "plt.xlim(0, 100)"
   ]
  },
  {
   "cell_type": "markdown",
   "id": "8cbc5ae5",
   "metadata": {},
   "source": [
    "Качество с лучшим C на кросс-валидации по тренировочной выборке"
   ]
  },
  {
   "cell_type": "code",
   "execution_count": 79,
   "id": "2f98ff3b",
   "metadata": {},
   "outputs": [
    {
     "name": "stdout",
     "output_type": "stream",
     "text": [
      "Accuracy: 0.7683403217348577\n",
      "C: 6.703718811765353\n"
     ]
    }
   ],
   "source": [
    "print(\"Accuracy: \" + str(max(array_all_cv_results)))\n",
    "print(\"C: \" + str(np.logspace(0.1, 7, 20)[array_all_cv_results.index(max(array_all_cv_results))]))"
   ]
  },
  {
   "cell_type": "markdown",
   "id": "0f7f70ba",
   "metadata": {},
   "source": [
    "Точность логистической регрессии на тестовой выборке при C = 6.703718811765353:"
   ]
  },
  {
   "cell_type": "code",
   "execution_count": 43,
   "id": "c68b5241",
   "metadata": {},
   "outputs": [],
   "source": [
    "lr2 = LogisticRegression(C = 6.703718811765353, random_state=17, n_jobs=-1)"
   ]
  },
  {
   "cell_type": "code",
   "execution_count": 59,
   "id": "4c713252",
   "metadata": {},
   "outputs": [
    {
     "data": {
      "text/plain": [
       "LogisticRegression(C=6.703718811765353, n_jobs=-1, random_state=17)"
      ]
     },
     "execution_count": 59,
     "metadata": {},
     "output_type": "execute_result"
    }
   ],
   "source": [
    "lr2.fit(X_train_150_16_6, y_train_0128)"
   ]
  },
  {
   "cell_type": "code",
   "execution_count": 89,
   "id": "b0120a7f",
   "metadata": {},
   "outputs": [
    {
     "data": {
      "text/plain": [
       "0.7824128940507229"
      ]
     },
     "execution_count": 89,
     "metadata": {},
     "output_type": "execute_result"
    }
   ],
   "source": [
    "accuracy_score(y_test, lr2.predict(X_test))"
   ]
  },
  {
   "cell_type": "markdown",
   "id": "72873e1a",
   "metadata": {},
   "source": [
    "Обучим линейный SVM"
   ]
  },
  {
   "cell_type": "code",
   "execution_count": 91,
   "id": "e108b3ec",
   "metadata": {},
   "outputs": [],
   "source": [
    "svm = LinearSVC(Crandom_state = 17, multi_class = \"ovr\")"
   ]
  },
  {
   "cell_type": "markdown",
   "id": "aa317f17",
   "metadata": {},
   "source": [
    "Подберём лучшее значение C с помощью перебора по сетке"
   ]
  },
  {
   "cell_type": "code",
   "execution_count": 92,
   "id": "450d40fa",
   "metadata": {},
   "outputs": [
    {
     "name": "stdout",
     "output_type": "stream",
     "text": [
      "Wall time: 1min 48s\n"
     ]
    },
    {
     "data": {
      "text/plain": [
       "GridSearchCV(estimator=LinearSVC(C=1, random_state=17),\n",
       "             param_grid={'C': array([1.0000000e-04, 1.1111112e+03, 2.2222223e+03, 3.3333334e+03,\n",
       "       4.4444445e+03, 5.5555556e+03, 6.6666667e+03, 7.7777778e+03,\n",
       "       8.8888889e+03, 1.0000000e+04])},\n",
       "             return_train_score=True)"
      ]
     },
     "execution_count": 92,
     "metadata": {},
     "output_type": "execute_result"
    }
   ],
   "source": [
    "%%time\n",
    "svm_params1 = {'C': np.linspace(1e-4, 1e4, 10)}\n",
    "\n",
    "svm_grid_searcher1 = GridSearchCV(estimator = svm, param_grid = svm_params1, return_train_score = True )\n",
    "svm_grid_searcher1.fit(X_train, y_train)"
   ]
  },
  {
   "cell_type": "markdown",
   "id": "a8b0511d",
   "metadata": {},
   "source": [
    "Лучшее значение C по результатам первой поверки:"
   ]
  },
  {
   "cell_type": "code",
   "execution_count": 94,
   "id": "8acef591",
   "metadata": {},
   "outputs": [
    {
     "name": "stdout",
     "output_type": "stream",
     "text": [
      "{'C': 4444.4445000000005}\n",
      "accuracy :  0.6952843773612952\n"
     ]
    }
   ],
   "source": [
    "print(svm_grid_searcher1.best_params_)\n",
    "print(\"accuracy : \", svm_grid_searcher1.best_score_)"
   ]
  },
  {
   "cell_type": "markdown",
   "id": "f5997a6b",
   "metadata": {},
   "source": [
    "Кривые валидации для тренировочной выборки "
   ]
  },
  {
   "cell_type": "code",
   "execution_count": 808,
   "id": "3168b262",
   "metadata": {},
   "outputs": [
    {
     "data": {
      "text/plain": [
       "array([1.0000000e-04, 1.1111112e+03, 2.2222223e+03, 3.3333334e+03,\n",
       "       4.4444445e+03, 5.5555556e+03, 6.6666667e+03, 7.7777778e+03,\n",
       "       8.8888889e+03, 1.0000000e+04])"
      ]
     },
     "execution_count": 808,
     "metadata": {},
     "output_type": "execute_result"
    }
   ],
   "source": [
    "svm_params1.get(\"C\")"
   ]
  },
  {
   "cell_type": "code",
   "execution_count": 809,
   "id": "c0ad59a2",
   "metadata": {},
   "outputs": [
    {
     "data": {
      "text/plain": [
       "{'mean_fit_time': array([0.0762537 , 2.28503556, 2.2344079 , 2.31857691, 2.36016531,\n",
       "        2.43246417, 2.22930264, 2.2315197 , 2.24043732, 2.23753319]),\n",
       " 'std_fit_time': array([0.01191656, 0.04303963, 0.05322607, 0.07071409, 0.10578769,\n",
       "        0.13221114, 0.05667025, 0.06737114, 0.05956333, 0.05359118]),\n",
       " 'mean_score_time': array([0.0008007 , 0.00060039, 0.        , 0.00040073, 0.0037251 ,\n",
       "        0.00100088, 0.00312557, 0.00625048, 0.00312505, 0.        ]),\n",
       " 'std_score_time': array([0.00098066, 0.00080034, 0.        , 0.00080147, 0.00599488,\n",
       "        0.00089516, 0.00625114, 0.00765524, 0.0062501 , 0.        ]),\n",
       " 'param_C': masked_array(data=[0.0001, 1111.1112, 2222.2223000000004,\n",
       "                    3333.3334000000004, 4444.4445000000005,\n",
       "                    5555.555600000001, 6666.666700000001,\n",
       "                    7777.777800000001, 8888.8889, 10000.0],\n",
       "              mask=[False, False, False, False, False, False, False, False,\n",
       "                    False, False],\n",
       "        fill_value='?',\n",
       "             dtype=object),\n",
       " 'params': [{'C': 0.0001},\n",
       "  {'C': 1111.1112},\n",
       "  {'C': 2222.2223000000004},\n",
       "  {'C': 3333.3334000000004},\n",
       "  {'C': 4444.4445000000005},\n",
       "  {'C': 5555.555600000001},\n",
       "  {'C': 6666.666700000001},\n",
       "  {'C': 7777.777800000001},\n",
       "  {'C': 8888.8889},\n",
       "  {'C': 10000.0}],\n",
       " 'split0_test_score': array([0.54037583, 0.67242255, 0.66480447, 0.66023362, 0.63433215,\n",
       "        0.69121381, 0.66378873, 0.68715084, 0.67648553, 0.65058405]),\n",
       " 'split1_test_score': array([0.56069071, 0.67902489, 0.70848146, 0.69375317, 0.65871001,\n",
       "        0.6769934 , 0.68257999, 0.6769934 , 0.66277298, 0.71102082]),\n",
       " 'split2_test_score': array([0.5625    , 0.66260163, 0.67987805, 0.72306911, 0.6925813 ,\n",
       "        0.69715447, 0.70172764, 0.64684959, 0.69308943, 0.69359756]),\n",
       " 'split3_test_score': array([0.54369919, 0.64278455, 0.64075203, 0.65091463, 0.67530488,\n",
       "        0.68800813, 0.68953252, 0.68597561, 0.61128049, 0.70071138]),\n",
       " 'split4_test_score': array([0.54776423, 0.69004065, 0.69817073, 0.65802846, 0.68800813,\n",
       "        0.69054878, 0.65142276, 0.67530488, 0.68546748, 0.66768293]),\n",
       " 'mean_test_score': array([0.55100599, 0.66937485, 0.67841735, 0.6771998 , 0.66978729,\n",
       "        0.68878372, 0.67781033, 0.67445486, 0.66581918, 0.68471935]),\n",
       " 'std_test_score': array([0.00897558, 0.01601504, 0.02408388, 0.02729216, 0.02126868,\n",
       "        0.00661368, 0.01802835, 0.01458172, 0.02907659, 0.02227911]),\n",
       " 'rank_test_score': array([10,  8,  3,  5,  7,  1,  4,  6,  9,  2]),\n",
       " 'split0_train_score': array([0.56331767, 0.86421948, 0.86548965, 0.85316906, 0.83627588,\n",
       "        0.87692112, 0.86904611, 0.88174775, 0.87577798, 0.85202591]),\n",
       " 'split1_train_score': array([0.55785596, 0.85202591, 0.8728566 , 0.85875778, 0.8341166 ,\n",
       "        0.8403404 , 0.85151785, 0.84592912, 0.82433634, 0.8728566 ]),\n",
       " 'split2_train_score': array([0.56337313, 0.83121666, 0.84213868, 0.87350775, 0.84582169,\n",
       "        0.85902972, 0.86741173, 0.82016764, 0.85801372, 0.85394971]),\n",
       " 'split3_train_score': array([0.56096012, 0.82042164, 0.81673863, 0.82473965, 0.84239268,\n",
       "        0.8522987 , 0.85750572, 0.85356871, 0.78054356, 0.87287275]),\n",
       " 'split4_train_score': array([0.55346711, 0.86296673, 0.87236474, 0.83947168, 0.86512573,\n",
       "        0.86969774, 0.82905766, 0.85318771, 0.85560071, 0.82804166]),\n",
       " 'mean_train_score': array([0.5597948 , 0.84617008, 0.85391766, 0.84992918, 0.84474652,\n",
       "        0.85965754, 0.85490781, 0.85092018, 0.83885446, 0.85594932]),\n",
       " 'std_train_score': array([0.00375158, 0.01748591, 0.02169753, 0.0166629 , 0.01101595,\n",
       "        0.01285718, 0.01444099, 0.01966278, 0.03353147, 0.01655589])}"
      ]
     },
     "execution_count": 809,
     "metadata": {},
     "output_type": "execute_result"
    }
   ],
   "source": [
    "svm_grid_searcher1.cv_results_"
   ]
  },
  {
   "cell_type": "code",
   "execution_count": 810,
   "id": "380dd7a2",
   "metadata": {},
   "outputs": [
    {
     "data": {
      "image/png": "[encoded data removed]",
      "text/plain": [
       "<Figure size 432x288 with 1 Axes>"
      ]
     },
     "metadata": {
      "needs_background": "light"
     },
     "output_type": "display_data"
    }
   ],
   "source": [
    "plot_validation_curves(svm_params1.get(\"C\"), svm_grid_searcher1.cv_results_)"
   ]
  },
  {
   "cell_type": "markdown",
   "id": "b7c56a48",
   "metadata": {},
   "source": [
    "Попробуем более узкий перебор параметров для SVM"
   ]
  },
  {
   "cell_type": "code",
   "execution_count": 95,
   "id": "948039a6",
   "metadata": {},
   "outputs": [
    {
     "name": "stdout",
     "output_type": "stream",
     "text": [
      "Wall time: 3min 11s\n"
     ]
    },
    {
     "data": {
      "text/plain": [
       "GridSearchCV(estimator=LinearSVC(),\n",
       "             param_grid={'C': array([0.001     , 0.03544828, 0.06989655, 0.10434483, 0.1387931 ,\n",
       "       0.17324138, 0.20768966, 0.24213793, 0.27658621, 0.31103448,\n",
       "       0.34548276, 0.37993103, 0.41437931, 0.44882759, 0.48327586,\n",
       "       0.51772414, 0.55217241, 0.58662069, 0.62106897, 0.65551724,\n",
       "       0.68996552, 0.72441379, 0.75886207, 0.79331034, 0.82775862,\n",
       "       0.8622069 , 0.89665517, 0.93110345, 0.96555172, 1.        ])},\n",
       "             return_train_score=True)"
      ]
     },
     "execution_count": 95,
     "metadata": {},
     "output_type": "execute_result"
    }
   ],
   "source": [
    "%%time\n",
    "svm_params2 = {'C': np.linspace(1e-3, 1, 30)}\n",
    "\n",
    "svm_grid_searcher2 = GridSearchCV(estimator = LinearSVC(), param_grid = svm_params2, return_train_score = True)\n",
    "svm_grid_searcher2.fit(X_train, y_train)"
   ]
  },
  {
   "cell_type": "markdown",
   "id": "51a5284f",
   "metadata": {},
   "source": [
    "Лучшее значение C и соответствующее ему значение Accuracy на кросс-валидации по тестовой выборке"
   ]
  },
  {
   "cell_type": "code",
   "execution_count": 96,
   "id": "ba11ab84",
   "metadata": {},
   "outputs": [
    {
     "name": "stdout",
     "output_type": "stream",
     "text": [
      "{'C': 0.10434482758620689}\n",
      "accuracy :  0.7701686093803548\n"
     ]
    }
   ],
   "source": [
    "print(svm_grid_searcher2.best_params_)\n",
    "print(\"accuracy : \", svm_grid_searcher2.best_score_)"
   ]
  },
  {
   "cell_type": "markdown",
   "id": "f1b880fb",
   "metadata": {},
   "source": [
    "Кривые валидации для новых перебираемых значений C"
   ]
  },
  {
   "cell_type": "code",
   "execution_count": 97,
   "id": "a2454463",
   "metadata": {},
   "outputs": [
    {
     "data": {
      "image/png": "[encoded data removed]",
      "text/plain": [
       "<Figure size 432x288 with 1 Axes>"
      ]
     },
     "metadata": {
      "needs_background": "light"
     },
     "output_type": "display_data"
    }
   ],
   "source": [
    "plot_validation_curves(svm_params2.get(\"C\"), svm_grid_searcher2.cv_results_)\n",
    "\n"
   ]
  },
  {
   "cell_type": "markdown",
   "id": "555b8059",
   "metadata": {},
   "source": [
    "Точность Linear SVC на отложенной выборке X_valid:"
   ]
  },
  {
   "cell_type": "code",
   "execution_count": 98,
   "id": "b26b87a2",
   "metadata": {},
   "outputs": [
    {
     "data": {
      "text/plain": [
       "0.7807537331121118"
      ]
     },
     "execution_count": 98,
     "metadata": {},
     "output_type": "execute_result"
    }
   ],
   "source": [
    "accuracy_score(y_test, LinearSVC(C = 0.1043, random_state = 17, multi_class = \"ovr\").fit(X_train, y_train).predict(X_test))"
   ]
  },
  {
   "cell_type": "markdown",
   "id": "9da816d5",
   "metadata": {},
   "source": [
    "Подберём оптимальное значение window size и session_length на выборке для 10 пользователей"
   ]
  },
  {
   "cell_type": "code",
   "execution_count": null,
   "id": "17226ae4",
   "metadata": {},
   "outputs": [],
   "source": [
    "def model_assessment(estimator, path_to_X_pickle, path_to_y_pickle, cv, random_state=17, test_size=0.3):\n",
    "    '''\n",
    "    Estimates CV-accuracy for (1 - test_size) share of (X_sparse, y) \n",
    "    loaded from path_to_X_pickle and path_to_y_pickle and holdout accuracy for (test_size) share of (X_sparse, y).\n",
    "    The split is made with stratified train_test_split with params random_state and test_size.\n",
    "    \n",
    "    :param estimator – Scikit-learn estimator (classifier or regressor)\n",
    "    :param path_to_X_pickle – path to pickled sparse X (instances and their features)\n",
    "    :param path_to_y_pickle – path to pickled y (responses)\n",
    "    :param cv – cross-validation as in cross_val_score (use StratifiedKFold here)\n",
    "    :param random_state –  for train_test_split\n",
    "    :param test_size –  for train_test_split\n",
    "    \n",
    "    :returns mean CV-accuracy for (X_train, y_train) and accuracy for (X_valid, y_valid) where (X_train, y_train)\n",
    "    and (X_valid, y_valid) are (1 - test_size) and (testsize) shares of (X_sparse, y).\n",
    "    '''\n",
    "    X = pd.read_pickle(path_to_X_pickle)\n",
    "    y = pd.read_pickle(path_to_y_pickle)\n",
    "    X_train, X_test, y_train, y_test = train_test_split(X, y, test_size=0.3, \n",
    "                                             random_state=17, stratify=y)\n",
    "    skf = StratifiedKFold(n_splits = cv, shuffle=True, random_state=17)\n",
    "    \n",
    "    list_accu_stratified_train = []\n",
    "    for train_indexes, test_indexes in skf.split(X_train, y_train):\n",
    "        X_train_fold, X_test_fold = X_train[train_indexes], X_train[test_indexes]\n",
    "        y_train_fold, y_test_fold = y_train[train_indexes], y_train[test_indexes]\n",
    "        acc = accuracy_score(y_true = y_test_fold, y_pred = estimator.fit(X_train_fold, y_train_fold).predict(X_test_fold))\n",
    "        list_accu_stratified_train.append(acc)\n",
    "    mean_train_CV_acc =sum(list_accu_stratified_train)/len(list_accu_stratified_train)\n",
    "    \n",
    "    test_acc = accuracy_score(y_test, estimator.fit(X_train, y_train).predict(X_test))\n",
    "\n",
    "    \n",
    "    \n",
    "    return mean_train_CV_acc, test_acc\n",
    "    "
   ]
  },
  {
   "cell_type": "code",
   "execution_count": 129,
   "id": "b6ec12a4",
   "metadata": {},
   "outputs": [],
   "source": [
    "def model_assessment_without_pickle(estimator, X, y, cv, random_state=17, test_size=0.3):\n",
    "    '''\n",
    "    Estimates CV-accuracy for (1 - test_size) share of (X_sparse, y) \n",
    "    loaded from path_to_X_pickle and path_to_y_pickle and holdout accuracy for (test_size) share of (X_sparse, y).\n",
    "    The split is made with stratified train_test_split with params random_state and test_size.\n",
    "    \n",
    "    :param estimator – Scikit-learn estimator (classifier or regressor)\n",
    "    :param path_to_X_pickle – path to pickled sparse X (instances and their features)\n",
    "    :param path_to_y_pickle – path to pickled y (responses)\n",
    "    :param cv – cross-validation as in cross_val_score (use StratifiedKFold here)\n",
    "    :param random_state –  for train_test_split\n",
    "    :param test_size –  for train_test_split\n",
    "    \n",
    "    :returns mean CV-accuracy for (X_train, y_train) and accuracy for (X_valid, y_valid) where (X_train, y_train)\n",
    "    and (X_valid, y_valid) are (1 - test_size) and (testsize) shares of (X_sparse, y).\n",
    "    '''\n",
    "    X_train, X_test, y_train, y_test = train_test_split(X, y, test_size=0.3, \n",
    "                                             random_state=17, stratify=y)\n",
    "    skf = StratifiedKFold(n_splits = cv, shuffle=True, random_state=17)\n",
    "    \n",
    "    list_accu_stratified_train = []\n",
    "    for train_indexes, test_indexes in skf.split(X_train, y_train):\n",
    "        X_train_fold, X_test_fold = X_train[train_indexes], X_train[test_indexes]\n",
    "        y_train_fold, y_test_fold = y_train[train_indexes], y_train[test_indexes]\n",
    "        acc = accuracy_score(y_true = y_test_fold, y_pred = estimator.fit(X_train_fold, y_train_fold).predict(X_test_fold))\n",
    "        list_accu_stratified_train.append(acc)\n",
    "    mean_train_CV_acc =sum(list_accu_stratified_train)/len(list_accu_stratified_train)\n",
    "    \n",
    "    test_acc = accuracy_score(y_test, estimator.fit(X_train, y_train).predict(X_test))\n",
    "\n",
    "    \n",
    "    \n",
    "    return mean_train_CV_acc, test_acc"
   ]
  },
  {
   "cell_type": "code",
   "execution_count": 130,
   "id": "4232c76c",
   "metadata": {},
   "outputs": [
    {
     "data": {
      "text/plain": [
       "LinearSVC(C=0.10434482758620689)"
      ]
     },
     "execution_count": 130,
     "metadata": {},
     "output_type": "execute_result"
    }
   ],
   "source": [
    "svm_grid_searcher2.best_estimator_"
   ]
  },
  {
   "cell_type": "code",
   "execution_count": 84,
   "id": "d9b9380f",
   "metadata": {},
   "outputs": [
    {
     "ename": "NameError",
     "evalue": "name 'svm_grid_searcher2' is not defined",
     "output_type": "error",
     "traceback": [
      "\u001b[1;31m---------------------------------------------------------------------------\u001b[0m",
      "\u001b[1;31mNameError\u001b[0m                                 Traceback (most recent call last)",
      "\u001b[1;32mC:\\Users\\7636~1\\AppData\\Local\\Temp/ipykernel_6064/3654125003.py\u001b[0m in \u001b[0;36m<module>\u001b[1;34m\u001b[0m\n\u001b[1;32m----> 1\u001b[1;33m \u001b[0msvm_grid_searcher2\u001b[0m\u001b[1;33m.\u001b[0m\u001b[0mbest_score_\u001b[0m\u001b[1;33m\u001b[0m\u001b[1;33m\u001b[0m\u001b[0m\n\u001b[0m",
      "\u001b[1;31mNameError\u001b[0m: name 'svm_grid_searcher2' is not defined"
     ]
    }
   ],
   "source": [
    "svm_grid_searcher2.best_score_"
   ]
  },
  {
   "cell_type": "code",
   "execution_count": null,
   "id": "1186aa0f",
   "metadata": {},
   "outputs": [],
   "source": [
    "%%time\n",
    "\n",
    "for window_size, session_length in [(5,5), (7,7), (10,10), (15, 15)]:\n",
    "    path_to_X_pkl = os.path.join(PATH_TO_DATA, \"X_sparse_150users_\" + str(window_size) + \"_\" + str(session_length) + \".pkl\")\n",
    "    path_to_y_pkl = os.path.join(PATH_TO_DATA, \"y_150users_\" + str(window_size) + \"_\" + str(session_length) + \".pkl\")\n",
    "        \n",
    "    train_score, test_score = model_assessment(estimator, path_to_X_pkl, path_to_y_pkl, 3, random_state=17, test_size=0.3)\n",
    "        \n",
    "        \n",
    "    print(\"window_size = \" + str(window_size) + \" , session_length = \" +  str(session_length))\n",
    "    print(\"train_Score = \" + str(train_score) + \" , test_score = \" +  str(test_score))\n",
    "    print(\"-----------------\")"
   ]
  },
  {
   "cell_type": "markdown",
   "id": "e3de817c",
   "metadata": {},
   "source": [
    "Судя по результатам кросс-валидации по всем сочетаниям из session_length и window_size, можно определить, что чем больше длина исследуемой сессии - тем более точные предсказания даёт Linear SVC.\n",
    "\n",
    "При session_length = 5 и window_size = 5, как и в случаях, когда w_size и s_length одновременно не превышают 7, модель выдаёт неудовлетворительный результат.\n",
    "\n",
    "При уменьшении  window_size при одинаковых session_length - качество увеличивается. Можно попытаться проверить точность модели на меньшем значении window_size и при большей session_Lenth\n",
    "\n",
    "window_Size = 5, session_length = 15 - лучшее сочетание"
   ]
  },
  {
   "cell_type": "markdown",
   "id": "dc94ee82",
   "metadata": {},
   "source": [
    "Расширим диапазон перебираемых значений session_length и window_size"
   ]
  },
  {
   "cell_type": "code",
   "execution_count": 43,
   "id": "0c9c49ff",
   "metadata": {},
   "outputs": [
    {
     "name": "stdout",
     "output_type": "stream",
     "text": [
      "session_length = 16;  window_size = 5\n",
      "train_Score = 0.6452538844571477 , test_score = 0.5921736591063954\n",
      "-----------------\n",
      "session_length = 17;  window_size = 5\n",
      "train_Score = 0.3611091424521616 , test_score = 0.32601585562850366\n",
      "-----------------\n",
      "session_length = 18;  window_size = 5\n",
      "train_Score = 0.35776317296870097 , test_score = 0.3202464041516585\n",
      "-----------------\n",
      "session_length = 19;  window_size = 5\n",
      "train_Score = 0.3534840212860015 , test_score = 0.3106491106491106\n",
      "-----------------\n",
      "session_length = 16;  window_size = 6\n",
      "train_Score = 0.6452538844571477 , test_score = 0.5921736591063954\n",
      "-----------------\n",
      "session_length = 17;  window_size = 6\n",
      "train_Score = 0.3789688164422395 , test_score = 0.343172448698168\n",
      "-----------------\n",
      "session_length = 18;  window_size = 6\n",
      "train_Score = 0.37616532741938685 , test_score = 0.3374908634106837\n",
      "-----------------\n",
      "session_length = 19;  window_size = 6\n",
      "train_Score = 0.3716809942354497 , test_score = 0.32705012705012704\n",
      "-----------------\n",
      "session_length = 16;  window_size = 7\n",
      "train_Score = 0.6452538844571477 , test_score = 0.5921736591063954\n",
      "-----------------\n",
      "session_length = 17;  window_size = 7\n",
      "train_Score = 0.3950035435861091 , test_score = 0.35565753613265805\n",
      "-----------------\n",
      "session_length = 18;  window_size = 7\n",
      "train_Score = 0.3923164583548544 , test_score = 0.3495708065916583\n",
      "-----------------\n",
      "session_length = 19;  window_size = 7\n",
      "train_Score = 0.3875414315414316 , test_score = 0.34146454146454147\n",
      "-----------------\n"
     ]
    }
   ],
   "source": [
    "for window_size, session_length in itertools.product([5, 6, 7], [16, 17, 18, 19]):\n",
    "    \n",
    "    X, y = prepare_sparse_train_set_window_new(os.path.join(PATH_TO_DATA, \"150users\"),\n",
    "                                                           os.path.join(PATH_TO_DATA, \"site_freq_150users.pkl\"), \n",
    "                                                           session_length, window_size)\n",
    "    pickle.dump(X, open(os.path.join(PATH_TO_DATA, \"X_sparse_150users_s\" + str(session_length) + \"_w\" + str(window_size) + \".pkl\"), \"wb\"))\n",
    "    pickle.dump(y, open(os.path.join(PATH_TO_DATA, \"y_150users_s\"+ str(session_length) + \"_w\" + str(window_size) + \".pkl\"), \"wb\"))\n",
    "    \n",
    "    path_to_X_pkl = os.path.join(PATH_TO_DATA, \"X_sparse_150users_\" + str(session_length) + \"_\" + str(window_size) + \".pkl\")\n",
    "    path_to_y_pkl = os.path.join(PATH_TO_DATA, \"y_150users_\" + str(session_length) + \"_\" + str(window_size) + \".pkl\")\n",
    "        \n",
    "    train_score, test_score = model_assessment(estimator, path_to_X_pkl, path_to_y_pkl, 5, random_state=17, test_size=0.3)\n",
    "        \n",
    "        \n",
    "    print(\"session_length = \" +  str(session_length) + \";  window_size = \" + str(window_size))\n",
    "    print(\"train_Score = \" + str(train_score) + \" , test_score = \" +  str(test_score))\n",
    "    print(\"-----------------\")"
   ]
  },
  {
   "cell_type": "markdown",
   "id": "38679b5d",
   "metadata": {},
   "source": [
    "Точность для s15 w4 150 users на кросс-валидации по тренировочной выборке"
   ]
  },
  {
   "cell_type": "code",
   "execution_count": 132,
   "id": "28b40489",
   "metadata": {},
   "outputs": [
    {
     "name": "stdout",
     "output_type": "stream",
     "text": [
      "window_size = 4 , session_length = 15\n",
      "train_Score = 0.6146616090102365 , test_score = 0.6306726370096369\n"
     ]
    }
   ],
   "source": [
    "X_sparse_150_15_4, y_150_15_4  = prepare_sparse_train_set_window_new(os.path.join(r\"E:\\Work\\Project_capstone\\150users\"),\n",
    "                                                                    os.path.join(r\"E:\\Work\\Project_capstone\\site_freq_150users.pkl\"), 15, 4)\n",
    "\n",
    "train_score, test_score = model_assessment_without_pickle(estimator, X_sparse_150_15_4, y_150_15_4, 3, random_state=17, test_size=0.3)\n",
    "\n",
    "print(\"window_size = \" + str(4) + \" , session_length = \" +  str(15))\n",
    "print(\"train_Score = \" + str(train_score) + \" , test_score = \" +  str(test_score))"
   ]
  },
  {
   "cell_type": "markdown",
   "id": "1e33e96e",
   "metadata": {},
   "source": [
    "Уменьшение window_size с пяти до четырёх даёт сильную просадку в значении accuracy"
   ]
  },
  {
   "cell_type": "code",
   "execution_count": 11,
   "id": "cf3cbc0f",
   "metadata": {},
   "outputs": [],
   "source": [
    "X_sparse_150_16_6, y_150_16_6  = prepare_sparse_train_set_window_new(os.path.join(r\"E:\\Work\\Project_capstone\\150users\"),\n",
    "                                                                     os.path.join(r\"E:\\Work\\Project_capstone\\site_freq_150users.pkl\"), 16, 6 )\n",
    "X_sparse_150_16_7, y_150_16_7  = prepare_sparse_train_set_window_new(os.path.join(r\"E:\\Work\\Project_capstone\\150users\"),\n",
    "                                                                     os.path.join(r\"E:\\Work\\Project_capstone\\site_freq_150users.pkl\"), 16, 7 )\n",
    "\n",
    "X_train_150_16_6, X_test_150_16_6, y_train_150_16_6, y_test_150_16_6 = train_test_split(X_sparse_150_16_6, \n",
    "                                                                      y_150_16_6, test_size=0.3, \n",
    "                                                     random_state=17, stratify=y_150_16_6)\n",
    "X_train_150_16_7, X_test_150_16_7, y_train_150_16_7, y_test_150_16_7 = train_test_split(X_sparse_150_16_7, \n",
    "                                                                      y_150_16_7, test_size=0.3, \n",
    "                                                     random_state=17, stratify=y_150_16_7)"
   ]
  },
  {
   "cell_type": "markdown",
   "id": "a6874741",
   "metadata": {},
   "source": [
    "Точность для s16 w6 150 users на кросс-валидации по тренировочной выборке"
   ]
  },
  {
   "cell_type": "code",
   "execution_count": 133,
   "id": "01b3380c",
   "metadata": {},
   "outputs": [
    {
     "name": "stdout",
     "output_type": "stream",
     "text": [
      "window_size = 6 , session_length = 16\n",
      "train_Score = 0.5988199313310589 , test_score = 0.6229414856341976\n"
     ]
    }
   ],
   "source": [
    "train_score, test_score = model_assessment_without_pickle(estimator, X_sparse_150_16_6, y_150_16_6, 3, random_state=17, test_size=0.3)\n",
    "\n",
    "print(\"window_size = \" + str(6) + \" , session_length = \" +  str(16))\n",
    "print(\"train_Score = \" + str(train_score) + \" , test_score = \" +  str(test_score))"
   ]
  },
  {
   "cell_type": "markdown",
   "id": "e0faea51",
   "metadata": {},
   "source": [
    "Точность для s16 w7 150 users на кросс-валидации по тренировочной выборке"
   ]
  },
  {
   "cell_type": "code",
   "execution_count": 134,
   "id": "2625100d",
   "metadata": {},
   "outputs": [
    {
     "name": "stdout",
     "output_type": "stream",
     "text": [
      "window_size = 7 , session_length = 16\n",
      "train_Score = 0.5818917064482693 , test_score = 0.6071294750826038\n"
     ]
    }
   ],
   "source": [
    "train_score, test_score = model_assessment_without_pickle(estimator, X_sparse_150_16_7, y_150_16_7, 3, random_state=17, test_size=0.3)\n",
    "\n",
    "print(\"window_size = \" + str(7) + \" , session_length = \" +  str(16))\n",
    "print(\"train_Score = \" + str(train_score) + \" , test_score = \" +  str(test_score))"
   ]
  },
  {
   "cell_type": "code",
   "execution_count": 135,
   "id": "8ce3afcd",
   "metadata": {},
   "outputs": [],
   "source": [
    "LogisticRegressionCV?"
   ]
  },
  {
   "cell_type": "code",
   "execution_count": null,
   "id": "323bee58",
   "metadata": {},
   "outputs": [],
   "source": [
    "Cs=0.10434482758620689"
   ]
  },
  {
   "cell_type": "code",
   "execution_count": 484,
   "id": "3fd5baa4",
   "metadata": {},
   "outputs": [
    {
     "name": "stdout",
     "output_type": "stream",
     "text": [
      "Wall time: 6min 30s\n"
     ]
    },
    {
     "data": {
      "text/plain": [
       "LogisticRegressionCV(Cs=[0.10434482758620689], cv=5, multi_class='ovr',\n",
       "                     n_jobs=-1, random_state=17)"
      ]
     },
     "execution_count": 484,
     "metadata": {},
     "output_type": "execute_result"
    }
   ],
   "source": [
    "%%time\n",
    "logit_cv_150users = LogisticRegressionCV(Cs = [0.10434482758620689], multi_class='ovr',\n",
    "                                                            random_state=17,  n_jobs=-1) \n",
    "logit_cv_150users.fit(X_train_150, y_train_150)"
   ]
  },
  {
   "cell_type": "code",
   "execution_count": 173,
   "id": "0aa75f18",
   "metadata": {},
   "outputs": [
    {
     "name": "stdout",
     "output_type": "stream",
     "text": [
      "User 0006, CV accuracy score: 0.9970529161113509\n",
      "User 0013, CV accuracy score: 0.9972030859910274\n",
      "User 0015, CV accuracy score: 0.9964146941227263\n",
      "User 0016, CV accuracy score: 0.9944061719820547\n",
      "User 0028, CV accuracy score: 0.9916843429129203\n",
      "User 0031, CV accuracy score: 0.9955512173145872\n",
      "User 0033, CV accuracy score: 0.9948003679162052\n",
      "User 0039, CV accuracy score: 0.9879676383909297\n",
      "User 0046, CV accuracy score: 0.9984607587333171\n",
      "User 0049, CV accuracy score: 0.9962457530080904\n",
      "User 0050, CV accuracy score: 0.9956075310194658\n",
      "User 0053, CV accuracy score: 0.994518799391812\n",
      "User 0065, CV accuracy score: 0.9972218572259869\n",
      "User 0066, CV accuracy score: 0.9954198186698703\n",
      "User 0082, CV accuracy score: 0.9967713475869577\n",
      "User 0085, CV accuracy score: 0.9966587201772005\n",
      "User 0089, CV accuracy score: 0.9923788786064235\n",
      "User 0092, CV accuracy score: 0.9951945638503558\n",
      "User 0100, CV accuracy score: 0.9948942240910029\n",
      "User 0102, CV accuracy score: 0.9926416758958572\n",
      "User 0103, CV accuracy score: 0.9832936008860023\n",
      "User 0105, CV accuracy score: 0.9973720271056633\n",
      "User 0106, CV accuracy score: 0.9959829557186567\n",
      "User 0118, CV accuracy score: 0.9915717155031629\n",
      "User 0119, CV accuracy score: 0.9974471120455015\n",
      "User 0120, CV accuracy score: 0.995476132374749\n",
      "User 0126, CV accuracy score: 0.9960204981885759\n",
      "User 0127, CV accuracy score: 0.9938618061682278\n",
      "User 0128, CV accuracy score: 0.9853959792014717\n",
      "User 0138, CV accuracy score: 0.9975597394552588\n",
      "User 0158, CV accuracy score: 0.9975221969853396\n",
      "User 0160, CV accuracy score: 0.9975785106902183\n",
      "User 0165, CV accuracy score: 0.9976911380999756\n",
      "User 0172, CV accuracy score: 0.996846432526796\n",
      "User 0177, CV accuracy score: 0.9973907983406228\n",
      "User 0203, CV accuracy score: 0.9984044450284384\n",
      "User 0207, CV accuracy score: 0.9902765002909542\n",
      "User 0223, CV accuracy score: 0.9970529161113509\n",
      "User 0233, CV accuracy score: 0.9972406284609464\n",
      "User 0235, CV accuracy score: 0.9967525763519982\n",
      "User 0236, CV accuracy score: 0.9923225649015449\n",
      "User 0237, CV accuracy score: 0.9911399770990933\n",
      "User 0238, CV accuracy score: 0.9967525763519982\n",
      "User 0240, CV accuracy score: 0.9962269817731308\n",
      "User 0241, CV accuracy score: 0.9964146941227263\n",
      "User 0242, CV accuracy score: 0.9958327858389804\n",
      "User 0245, CV accuracy score: 0.9965836352373623\n",
      "User 0246, CV accuracy score: 0.9973907983406228\n",
      "User 0249, CV accuracy score: 0.995682615959304\n",
      "User 0252, CV accuracy score: 0.9967713475869577\n",
      "User 0254, CV accuracy score: 0.9935426951739155\n",
      "User 0256, CV accuracy score: 0.9969215174666342\n",
      "User 0258, CV accuracy score: 0.996639948942241\n",
      "User 0259, CV accuracy score: 0.9954573611397893\n",
      "User 0260, CV accuracy score: 0.9977474518048542\n",
      "User 0261, CV accuracy score: 0.9911775195690125\n",
      "User 0263, CV accuracy score: 0.9940870609877424\n",
      "User 0264, CV accuracy score: 0.996883974996715\n",
      "User 0269, CV accuracy score: 0.9893754810128959\n",
      "User 0270, CV accuracy score: 0.9918720552625158\n",
      "User 0273, CV accuracy score: 0.9944624856869333\n",
      "User 0287, CV accuracy score: 0.9916092579730821\n",
      "User 0294, CV accuracy score: 0.9961143543633736\n",
      "User 0298, CV accuracy score: 0.991984682672273\n",
      "User 0301, CV accuracy score: 0.9980290203292475\n",
      "User 0308, CV accuracy score: 0.9960392694235354\n",
      "User 0315, CV accuracy score: 0.9981416477390047\n",
      "User 0318, CV accuracy score: 0.9971467722861487\n",
      "User 0327, CV accuracy score: 0.9969590599365532\n",
      "User 0332, CV accuracy score: 0.9970341448763914\n",
      "User 0333, CV accuracy score: 0.996715033882079\n",
      "User 0339, CV accuracy score: 0.9978600792146115\n",
      "User 0340, CV accuracy score: 0.9969027462316746\n",
      "User 0342, CV accuracy score: 0.9934488389991177\n",
      "User 0344, CV accuracy score: 0.9969402887015937\n",
      "User 0351, CV accuracy score: 0.9936365513487132\n",
      "User 0356, CV accuracy score: 0.9984044450284384\n",
      "User 0361, CV accuracy score: 0.9968276612918364\n",
      "User 0363, CV accuracy score: 0.9970716873463105\n",
      "User 0411, CV accuracy score: 0.9926604471308167\n",
      "User 0417, CV accuracy score: 0.9971092298162296\n",
      "User 0425, CV accuracy score: 0.995307191260113\n",
      "User 0430, CV accuracy score: 0.997259399695906\n",
      "User 0435, CV accuracy score: 0.9973344846357441\n",
      "User 0436, CV accuracy score: 0.9959266420137781\n",
      "User 0440, CV accuracy score: 0.9973157134007846\n",
      "User 0444, CV accuracy score: 0.9986109286129935\n",
      "User 0475, CV accuracy score: 0.9896007358324104\n",
      "User 0476, CV accuracy score: 0.9977849942747733\n",
      "User 0486, CV accuracy score: 0.9961518968332926\n",
      "User 0515, CV accuracy score: 0.9948379103861243\n",
      "User 0533, CV accuracy score: 0.9939932048129446\n",
      "User 0561, CV accuracy score: 0.9857338614307435\n",
      "User 0563, CV accuracy score: 0.9972218572259869\n",
      "User 0564, CV accuracy score: 0.996471007827605\n",
      "User 0568, CV accuracy score: 0.9926604471308167\n",
      "User 0569, CV accuracy score: 0.9916468004430011\n",
      "User 0570, CV accuracy score: 0.9987798697276293\n",
      "User 0573, CV accuracy score: 0.9916280292080416\n",
      "User 0575, CV accuracy score: 0.9924539635462617\n",
      "User 0576, CV accuracy score: 0.9946126555666097\n",
      "User 0580, CV accuracy score: 0.9884744617348376\n",
      "User 0583, CV accuracy score: 0.9836877968201528\n",
      "User 0584, CV accuracy score: 0.9844761886884538\n",
      "User 0600, CV accuracy score: 0.9934488389991177\n",
      "User 0603, CV accuracy score: 0.9964334653576858\n",
      "User 0605, CV accuracy score: 0.9983293600886002\n",
      "User 0640, CV accuracy score: 0.997878850449571\n",
      "User 0647, CV accuracy score: 0.9987047847877912\n",
      "User 0653, CV accuracy score: 0.9979914778593284\n",
      "User 0664, CV accuracy score: 0.9960017269536163\n",
      "User 0665, CV accuracy score: 0.9977662230398138\n",
      "User 0677, CV accuracy score: 0.9974471120455015\n",
      "User 0692, CV accuracy score: 0.9973532558707038\n",
      "User 0697, CV accuracy score: 0.9967338051170387\n",
      "User 0705, CV accuracy score: 0.9973532558707038\n",
      "User 0722, CV accuracy score: 0.9958140146040207\n",
      "User 0740, CV accuracy score: 0.9972781709308656\n",
      "User 0741, CV accuracy score: 0.9974846545154206\n",
      "User 0756, CV accuracy score: 0.9970153736414319\n",
      "User 0780, CV accuracy score: 0.9973532558707038\n",
      "User 0784, CV accuracy score: 0.9975597394552588\n",
      "User 0785, CV accuracy score: 0.9975221969853396\n",
      "User 0797, CV accuracy score: 0.9969590599365532\n",
      "User 0812, CV accuracy score: 0.9963959228877668\n",
      "User 0844, CV accuracy score: 0.9977099093349352\n",
      "User 0859, CV accuracy score: 0.9989863533121844\n",
      "User 0868, CV accuracy score: 0.9970529161113509\n",
      "User 0875, CV accuracy score: 0.9971280010511892\n",
      "User 0932, CV accuracy score: 0.992397649841383\n",
      "User 0996, CV accuracy score: 0.9954198186698703\n",
      "User 1014, CV accuracy score: 0.9982167326788429\n",
      "User 1040, CV accuracy score: 0.9977286805698947\n",
      "User 1054, CV accuracy score: 0.9976911380999756\n",
      "User 1248, CV accuracy score: 0.9982355039138024\n",
      "User 1267, CV accuracy score: 0.9977099093349352\n",
      "User 1299, CV accuracy score: 0.9976535956300565\n",
      "User 1371, CV accuracy score: 0.9946126555666097\n",
      "User 1797, CV accuracy score: 0.9976160531601374\n",
      "User 1798, CV accuracy score: 0.997634824395097\n",
      "User 1993, CV accuracy score: 0.997465883280461\n",
      "User 2118, CV accuracy score: 0.9984607587333171\n",
      "User 2174, CV accuracy score: 0.9966587201772005\n",
      "User 2191, CV accuracy score: 0.9961143543633736\n",
      "User 2250, CV accuracy score: 0.9977662230398138\n",
      "User 2355, CV accuracy score: 0.9977474518048542\n",
      "User 2408, CV accuracy score: 0.9960392694235354\n",
      "User 2493, CV accuracy score: 0.9975034257503801\n",
      "User 2625, CV accuracy score: 0.9970529161113509\n",
      "User 2902, CV accuracy score: 0.998047791564207\n"
     ]
    }
   ],
   "source": [
    "list_cv_scores_estimator = []\n",
    "for user_id in np.unique(np.array(y_train_150_16_6)):\n",
    "    X_train = X_train_150_16_6\n",
    "    y_train = []\n",
    "    for i in  y_train_150_16_6:\n",
    "        if i == user_id:\n",
    "            y_train.append(1)\n",
    "        else:\n",
    "             y_train.append(0)\n",
    "    y_train = np.array(y_train)\n",
    "    list_accu_stratified_train = []\n",
    "    for train_indexes, test_indexes in skf.split(X_train, y_train):\n",
    "        X_train_fold, X_test_fold = X_train[train_indexes], X_train[test_indexes]\n",
    "        y_train_fold, y_test_fold = y_train[train_indexes], y_train[test_indexes]\n",
    "        estimator.fit(X_train_fold, y_train_fold)\n",
    "    list_accu_stratified_train.append(estimator.score(X_test_fold, y_test_fold))\n",
    "    mean_cv_score = sum(list_accu_stratified_train)/len(list_accu_stratified_train)\n",
    "    list_cv_scores_estimator.append(mean_cv_score)\n",
    "    print('User {}, CV accuracy score: {}'.format(str(user_id),  str(mean_cv_score)))"
   ]
  },
  {
   "cell_type": "markdown",
   "id": "d4ade72a",
   "metadata": {},
   "source": [
    "Есть дисбаланс классов, так что посчитаем для каждого пользователя разницу между долей классов, не являющихся классом данного польззователя и полученным на кросс-валидации прогнозом для того, чтобы определить качество прогноза для каждого объекта"
   ]
  },
  {
   "cell_type": "markdown",
   "id": "ab8f5b8f",
   "metadata": {},
   "source": [
    "Если значение положительно - значит прогноз для данного пользователя выше константного"
   ]
  },
  {
   "cell_type": "code",
   "execution_count": 176,
   "id": "e50dec23",
   "metadata": {},
   "outputs": [
    {
     "name": "stdout",
     "output_type": "stream",
     "text": [
      "User: 0006 difference: 0.012651617158147\n",
      "User: 0013 difference: 0.0015016450039230245\n",
      "User: 0015 difference: 0.0020084521395076216\n",
      "User: 0016 difference: 0.009692023027912278\n",
      "User: 0028 difference: 0.0037353249490732487\n",
      "User: 0031 difference: 0.0011011763312370748\n",
      "User: 0033 difference: 0.0022587119385801824\n",
      "User: 0039 difference: 0.004048128439171239\n",
      "User: 0046 difference: 0.0013327217419329962\n",
      "User: 0049 difference: 0.0024151550265986144\n",
      "User: 0050 difference: 0.0014640830370353797\n",
      "User: 0053 difference: 0.0024714464156698757\n",
      "User: 0065 difference: 0.0002940442352034056\n",
      "User: 0066 difference: 0.0005505586852625477\n",
      "User: 0082 difference: 0.0004254355979199653\n",
      "User: 0085 difference: 0.00046297618861323997\n",
      "User: 0089 difference: 0.0023087376362130874\n",
      "User: 0092 difference: 0.001038601867887845\n",
      "User: 0100 difference: 0.0001501041067705211\n",
      "User: 0102 difference: 0.0022023719245392037\n",
      "User: 0103 difference: 0.006294332955004478\n",
      "User: 0105 difference: 0.0013577361176204672\n",
      "User: 0106 difference: 0.008772263757024668\n",
      "User: 0118 difference: 0.001570401533159016\n",
      "User: 0119 difference: 0.0015016480576651725\n",
      "User: 0120 difference: 0.0018207303937827213\n",
      "User: 0126 difference: 0.0019646482064082926\n",
      "User: 0127 difference: 0.006363292205732285\n",
      "User: 0128 difference: 0.005806313262702756\n",
      "User: 0138 difference: 0.00043795946389346696\n",
      "User: 0158 difference: 0.0007508089950254426\n",
      "User: 0160 difference: 0.00103237470057993\n",
      "User: 0165 difference: 0.0006069001087228854\n",
      "User: 0172 difference: 0.0005881185380209875\n",
      "User: 0177 difference: 0.0008884613511158657\n",
      "User: 0203 difference: 0.002221215039888702\n",
      "User: 0207 difference: 0.003910503331856163\n",
      "User: 0223 difference: 0.0005818641219378362\n",
      "User: 0233 difference: 0.0010073424722465418\n",
      "User: 0235 difference: -4.06382596462862e-08\n",
      "User: 0236 difference: 0.0035413659352012683\n",
      "User: 0237 difference: 0.0031346461350773014\n",
      "User: 0238 difference: 0.0004817483631857078\n",
      "User: 0240 difference: 0.0004441997857824731\n",
      "User: 0241 difference: 0.0003065481344018961\n",
      "User: 0242 difference: 0.0011762638550107951\n",
      "User: 0245 difference: 0.0008133672500514333\n",
      "User: 0246 difference: 0.00026901834925752155\n",
      "User: 0249 difference: 0.0005818469740016541\n",
      "User: 0252 difference: 0.0004754915980701435\n",
      "User: 0254 difference: 0.0036352362041930375\n",
      "User: 0256 difference: 0.0013639874799615814\n",
      "User: 0258 difference: 0.0008884519549864356\n",
      "User: 0259 difference: 0.00027525115424298363\n",
      "User: 0260 difference: 0.0006632138136015708\n",
      "User: 0261 difference: 0.002077213601711536\n",
      "User: 0263 difference: 0.0024902120129518535\n",
      "User: 0264 difference: 0.0006819740081089876\n",
      "User: 0269 difference: 0.003628927055656206\n",
      "User: 0270 difference: 0.006757458307172004\n",
      "User: 0273 difference: 0.0007319997057418925\n",
      "User: 0287 difference: 0.003372418008371514\n",
      "User: 0294 difference: 0.00015011937548092824\n",
      "User: 0298 difference: 0.002208620702944808\n",
      "User: 0301 difference: 0.00255908834283769\n",
      "User: 0308 difference: 0.001057383438589743\n",
      "User: 0315 difference: 0.001032381747676947\n",
      "User: 0318 difference: 0.0018019803001142476\n",
      "User: 0327 difference: 0.00032532594665202197\n",
      "User: 0332 difference: 0.00021270088592706404\n",
      "User: 0333 difference: 0.001745661897170958\n",
      "User: 0339 difference: 0.0019271292268127072\n",
      "User: 0340 difference: 0.000394152242148893\n",
      "User: 0342 difference: 0.001545397023407391\n",
      "User: 0344 difference: 0.00016264371126073485\n",
      "User: 0351 difference: 0.0026028323756120963\n",
      "User: 0356 difference: 0.0011950670368102712\n",
      "User: 0361 difference: 0.0002001843019540095\n",
      "User: 0363 difference: 0.0017706943604074432\n",
      "User: 0411 difference: 0.0034350011631403277\n",
      "User: 0417 difference: 0.00048175282634721484\n",
      "User: 0425 difference: 0.0011449722776263327\n",
      "User: 0430 difference: 0.002014719710171975\n",
      "User: 0435 difference: 0.0001814196442849747\n",
      "User: 0436 difference: 0.0009134710287386216\n",
      "User: 0440 difference: 0.00022521840951317262\n",
      "User: 0444 difference: 0.0015955176219473177\n",
      "User: 0475 difference: 0.0016079188684319234\n",
      "User: 0476 difference: 0.001651820286373784\n",
      "User: 0486 difference: 0.0009134738475773396\n",
      "User: 0515 difference: 0.0008446304041445085\n",
      "User: 0533 difference: 0.0013514368350193706\n",
      "User: 0561 difference: 0.004761398487826085\n",
      "User: 0563 difference: 0.0009072302370429774\n",
      "User: 0564 difference: 0.0013389538422088343\n",
      "User: 0568 difference: 0.0008320891553316168\n",
      "User: 0569 difference: 0.006601030487863868\n",
      "User: 0570 difference: 0.0030784287405249966\n",
      "User: 0573 difference: 0.0006631372351468823\n",
      "User: 0575 difference: 0.003854217580462449\n",
      "User: 0576 difference: 0.00022518458344733538\n",
      "User: 0580 difference: 0.008002558793421821\n",
      "User: 0583 difference: 0.017650792922041858\n",
      "User: 0584 difference: 0.006037810753138584\n",
      "User: 0600 difference: 0.0028593670273493466\n",
      "User: 0603 difference: 0.001376495372514941\n",
      "User: 0605 difference: 0.0032661331034105068\n",
      "User: 0640 difference: 0.0008321544584309892\n",
      "User: 0647 difference: 0.0026842367997296224\n",
      "User: 0653 difference: 0.0007445578675876474\n",
      "User: 0664 difference: 0.00142654596989078\n",
      "User: 0665 difference: 0.0010949470497999547\n",
      "User: 0677 difference: 0.0015517040578152397\n",
      "User: 0692 difference: 0.00048175588008925185\n",
      "User: 0697 difference: 0.0014891251313046139\n",
      "User: 0705 difference: 0.001170025882154091\n",
      "User: 0722 difference: 0.0021898976231483624\n",
      "User: 0740 difference: 0.0014140479432731556\n",
      "User: 0741 difference: 0.0007007525250688484\n",
      "User: 0756 difference: 0.0017081236555100965\n",
      "User: 0780 difference: 0.00158298788339295\n",
      "User: 0784 difference: 0.0026028814703882297\n",
      "User: 0785 difference: 0.00048175799421834586\n",
      "User: 0797 difference: 0.0017394079508942228\n",
      "User: 0812 difference: 0.006888911919245788\n",
      "User: 0844 difference: 0.0007382973440203111\n",
      "User: 0859 difference: 0.002077311321457276\n",
      "User: 0868 difference: 0.00028152812103676705\n",
      "User: 0875 difference: 0.006995290080791028\n",
      "User: 0932 difference: 0.004298463877085434\n",
      "User: 0996 difference: 0.004936715698421024\n",
      "User: 1014 difference: 0.002427693691475774\n",
      "User: 1040 difference: 0.002559084584385918\n",
      "User: 1054 difference: 0.001332712110900247\n",
      "User: 1248 difference: 0.0009009859217988803\n",
      "User: 1267 difference: 0.0007070123439265608\n",
      "User: 1299 difference: 0.0008196376395546157\n",
      "User: 1371 difference: 0.00588151260041625\n",
      "User: 1797 difference: 0.005875293184915087\n",
      "User: 1798 difference: 0.002202434408799858\n",
      "User: 1993 difference: 0.0015454472926997864\n",
      "User: 2118 difference: 0.0021211037442980807\n",
      "User: 2174 difference: 0.001307671191147275\n",
      "User: 2191 difference: 0.00128889337889726\n",
      "User: 2250 difference: 0.00032533604749107603\n",
      "User: 2355 difference: 0.010317764842565191\n",
      "User: 2408 difference: 0.00362275344628582\n",
      "User: 2493 difference: 0.0011887987614361828\n",
      "User: 2625 difference: 0.001582984124941178\n",
      "User: 2902 difference: 0.0029908215790360737\n"
     ]
    }
   ],
   "source": [
    "acc_diff_vs_constant = []\n",
    "for i, user_id in enumerate(np.unique(y_train_150_16_6)):\n",
    "    val = (len(y_train_150_16_6) - np.count_nonzero(y_train_150_16_6 == user_id))/len(y_train_150_16_6)\n",
    "    acc_diff_vs_constant.append(list_cv_scores_estimator[i] - val)\n",
    "    print(\"User: {} difference: {}\".format(user_id, list_cv_scores_estimator[i] - val))\n"
   ]
  },
  {
   "cell_type": "markdown",
   "id": "bed49c7b",
   "metadata": {},
   "source": [
    "Доля пользователей, для которых прогноз выше константного:"
   ]
  },
  {
   "cell_type": "code",
   "execution_count": 177,
   "id": "af565108",
   "metadata": {},
   "outputs": [],
   "source": [
    "num_better_than_default = (np.array(acc_diff_vs_constant) > 0).sum()\n"
   ]
  },
  {
   "cell_type": "code",
   "execution_count": 178,
   "id": "930dd717",
   "metadata": {},
   "outputs": [
    {
     "data": {
      "text/plain": [
       "0.9933333333333333"
      ]
     },
     "execution_count": 178,
     "metadata": {},
     "output_type": "execute_result"
    }
   ],
   "source": [
    "num_better_than_default/150"
   ]
  },
  {
   "cell_type": "markdown",
   "id": "2e4b3447",
   "metadata": {},
   "source": [
    "Построим кривые обучения для конкретного пользователя. Например, для 0128"
   ]
  },
  {
   "cell_type": "markdown",
   "id": "63dfe861",
   "metadata": {},
   "source": [
    "Преобразуем y_train_150users в ветор с единицами на позициях, где y = 0128 и нулями во всех остальных местах"
   ]
  },
  {
   "cell_type": "code",
   "execution_count": 13,
   "id": "4d7bc3a7",
   "metadata": {},
   "outputs": [
    {
     "data": {
      "text/plain": [
       "(159821,)"
      ]
     },
     "execution_count": 13,
     "metadata": {},
     "output_type": "execute_result"
    }
   ],
   "source": [
    "y_train_0128 = []\n",
    "for i in  y_train_150_16_6:\n",
    "    if i == \"0128\":\n",
    "        y_train_0128.append(1)\n",
    "    else:\n",
    "        y_train_0128.append(0)\n",
    "y_train_0128 = np.array(y_train_0128)\n",
    "y_train_0128.shape"
   ]
  },
  {
   "cell_type": "code",
   "execution_count": 14,
   "id": "d4e06593",
   "metadata": {},
   "outputs": [
    {
     "data": {
      "text/plain": [
       "(68496,)"
      ]
     },
     "execution_count": 14,
     "metadata": {},
     "output_type": "execute_result"
    }
   ],
   "source": [
    "y_test_0128 = []\n",
    "for i in  y_test_150_16_6:\n",
    "    if i == \"0128\":\n",
    "        y_test_0128.append(1)\n",
    "    else:\n",
    "        y_test_0128.append(0)\n",
    "y_test_0128 = np.array(y_test_0128)\n",
    "y_test_0128.shape"
   ]
  },
  {
   "cell_type": "code",
   "execution_count": 183,
   "id": "cd294ecf",
   "metadata": {},
   "outputs": [
    {
     "name": "stdout",
     "output_type": "stream",
     "text": [
      "[  6392   8451  10510  12568  14627  16686  18744  20803  22862  24921\n",
      "  26979  29038  31097  33155  35214  37273  39331  41390  43449  45508\n",
      "  47566  49625  51684  53742  55801  57860  59918  61977  64036  66095\n",
      "  68153  70212  72271  74329  76388  78447  80505  82564  84623  86682\n",
      "  88740  90799  92858  94916  96975  99034 101092 103151 105210 107269\n",
      " 109327 111386 113445 115503 117562 119621 121679 123738 125797 127856]\n"
     ]
    }
   ],
   "source": [
    "train_sizes = np.linspace(0.05, 1, 60)\n",
    "N_train, val_train, val_test = learning_curve(\n",
    "        LinearSVC(C = 0.10434482758620689), X = X_train_150_16_6, y = y_train_0128,\n",
    "                           train_sizes=train_sizes, cv=5, scoring=\"accuracy\")\n",
    "\n",
    "print(N_train)    "
   ]
  },
  {
   "cell_type": "markdown",
   "id": "bd05394f",
   "metadata": {},
   "source": [
    "Выберем метрику качества для оценки точности модели, которая идентифицирует отдельного пользователя"
   ]
  },
  {
   "cell_type": "code",
   "execution_count": null,
   "id": "6592f744",
   "metadata": {},
   "outputs": [],
   "source": [
    "y_true = y_test_0128\n",
    "y_pred = estimator.fit(X_train_150_16_6, y_train_0128).predict(X_test_150_16_6)\n",
    "tn, fp, fn, tp = confusion_matrix(y_true, y_pred).ravel()\n",
    "tn, fp, fn, tp"
   ]
  },
  {
   "cell_type": "code",
   "execution_count": 17,
   "id": "1561f507",
   "metadata": {},
   "outputs": [],
   "source": [
    "clf = CalibratedClassifierCV(SVC(kernel = 'linear', C = 0.10434482758620689)) \n",
    "clf.fit(X_train_150_16_6, y_train_0128)\n",
    "y_pred_proba = clf.predict_proba(X_test_150_16_6)"
   ]
  },
  {
   "cell_type": "code",
   "execution_count": 62,
   "id": "02044012",
   "metadata": {},
   "outputs": [
    {
     "data": {
      "text/plain": [
       "0.9828779577251066"
      ]
     },
     "execution_count": 62,
     "metadata": {},
     "output_type": "execute_result"
    }
   ],
   "source": [
    "roc_auc_score(y_test_0128, y_pred_proba[:, 1])"
   ]
  },
  {
   "cell_type": "markdown",
   "id": "39249204",
   "metadata": {},
   "source": [
    "В связи с сильным дисбалансом классов roc_auc показывает сильно завышенную оценку. Подберём другую метрику"
   ]
  },
  {
   "cell_type": "markdown",
   "id": "f5985225",
   "metadata": {},
   "source": [
    "Попробуем площадь под кривой precision-recall"
   ]
  },
  {
   "cell_type": "code",
   "execution_count": 23,
   "id": "a58e0f9e",
   "metadata": {},
   "outputs": [
    {
     "name": "stdout",
     "output_type": "stream",
     "text": [
      "0.634839226502087\n"
     ]
    }
   ],
   "source": [
    "precision, recall, thresholds = precision_recall_curve(y_test_0128, y_pred_proba[:, 1])\n",
    "auc_precision_recall = auc(recall, precision)\n",
    "print(auc_precision_recall)"
   ]
  },
  {
   "cell_type": "markdown",
   "id": "ff040098",
   "metadata": {},
   "source": [
    "Реализуем метрику pr_auc для дальнейшего использования"
   ]
  },
  {
   "cell_type": "code",
   "execution_count": 61,
   "id": "79e8bc89",
   "metadata": {},
   "outputs": [],
   "source": [
    "def pr_scorer(y_true, y_pred_proba):\n",
    "    precision, recall, thresholds = precision_recall_curve(y_true, y_pred_proba)\n",
    "    auc_precision_recall = auc(recall, precision)\n",
    "    return auc_precision_recall\n",
    "PR_auc = make_scorer(pr_scorer, greater_is_better=True)"
   ]
  },
  {
   "cell_type": "markdown",
   "id": "423dffa1",
   "metadata": {},
   "source": [
    "Проверим, как меняется качество модели в зависимости от размера обучаемых данных"
   ]
  },
  {
   "cell_type": "markdown",
   "id": "cd271805",
   "metadata": {},
   "source": [
    "SVC с kernel = \"linear\" обучается медленнее чем LinearSVC, поэтому используем логистическую регресию"
   ]
  },
  {
   "cell_type": "code",
   "execution_count": 69,
   "id": "f0c456c0",
   "metadata": {},
   "outputs": [],
   "source": [
    "train_sizes = np.linspace(0.05, 1, 60)\n",
    "train_sizes, val_train, val_test = learning_curve(\n",
    "        lr2, X_train_150_16_6, y_train_0128, train_sizes = train_sizes,\n",
    "        cv = 3, scoring = PR_auc)"
   ]
  },
  {
   "cell_type": "code",
   "execution_count": 72,
   "id": "9f3f3cab",
   "metadata": {},
   "outputs": [],
   "source": [
    "def plot_learning_curve(val_train, val_test, train_sizes, \n",
    "                        xlabel='Training Set Size', ylabel='PR_auc'):\n",
    "    def plot_with_err(x, data, **kwargs):\n",
    "        mu, std = data.mean(1), data.std(1)\n",
    "        lines = plt.plot(x, mu, '-', **kwargs)\n",
    "        plt.fill_between(x, mu - std, mu + std, edgecolor='none',\n",
    "                         facecolor=lines[0].get_color(), alpha=0.2)\n",
    "    plot_with_err(train_sizes, val_train, label='train')\n",
    "    plot_with_err(train_sizes, val_test, label='valid')\n",
    "    plt.xlabel(xlabel); plt.ylabel(ylabel)\n",
    "    plt.legend(loc='lower right');"
   ]
  },
  {
   "cell_type": "code",
   "execution_count": 73,
   "id": "50005aaf",
   "metadata": {},
   "outputs": [
    {
     "data": {
      "image/png": "[encoded data removed]",
      "text/plain": [
       "<Figure size 432x288 with 1 Axes>"
      ]
     },
     "metadata": {
      "needs_background": "light"
     },
     "output_type": "display_data"
    }
   ],
   "source": [
    "  \n",
    "plot_learning_curve(val_train, val_test, train_sizes)"
   ]
  },
  {
   "cell_type": "markdown",
   "id": "1c4590e1",
   "metadata": {},
   "source": [
    "Судя по графику, можно предположить, что при увеличении количества наблюдений для пользователя 0128 PR_auc увеличится"
   ]
  },
  {
   "cell_type": "markdown",
   "id": "84b3c6ae",
   "metadata": {},
   "source": [
    "Создадим и добавим новые признаки; проверим, как это отразится на качестве классификации"
   ]
  },
  {
   "cell_type": "code",
   "execution_count": 12,
   "id": "a9a06a1e",
   "metadata": {},
   "outputs": [],
   "source": [
    "features_new_10 = feature_engineering(r\"E:\\Work\\Project_capstone\\10users\", \n",
    "                                    session_length=16, window_size=6)"
   ]
  },
  {
   "cell_type": "markdown",
   "id": "00c4d23b",
   "metadata": {},
   "source": [
    "Преобразуем исходные новые признаки с помощью onehotencoder и нормализации"
   ]
  },
  {
   "cell_type": "code",
   "execution_count": 33,
   "id": "c20f7237",
   "metadata": {},
   "outputs": [],
   "source": [
    "scaler =  MinMaxScaler()"
   ]
  },
  {
   "cell_type": "code",
   "execution_count": 41,
   "id": "eb5f461b",
   "metadata": {},
   "outputs": [],
   "source": [
    "norm_features_10 = scaler.transform(features_new_10.iloc[:, :2])"
   ]
  },
  {
   "cell_type": "code",
   "execution_count": 14,
   "id": "190a3677",
   "metadata": {},
   "outputs": [],
   "source": [
    "onehot_encoder = OneHotEncoder(sparse = True)"
   ]
  },
  {
   "cell_type": "code",
   "execution_count": 49,
   "id": "28f05300",
   "metadata": {},
   "outputs": [],
   "source": [
    "OHE_features_10 = onehot_encoder.transform(features_new_10.iloc[:, 2:])"
   ]
  },
  {
   "cell_type": "code",
   "execution_count": 81,
   "id": "7ee97cec",
   "metadata": {},
   "outputs": [
    {
     "data": {
      "text/plain": [
       "(23433, 40)"
      ]
     },
     "execution_count": 81,
     "metadata": {},
     "output_type": "execute_result"
    }
   ],
   "source": [
    "OHE_features_10.shape"
   ]
  },
  {
   "cell_type": "markdown",
   "id": "acd97793",
   "metadata": {},
   "source": [
    "Соединяем разреженную матрицу, на которой мы обчались ранее с новой матрицей"
   ]
  },
  {
   "cell_type": "code",
   "execution_count": 61,
   "id": "49f39a00",
   "metadata": {},
   "outputs": [],
   "source": [
    "X_new_10_16_6_test = hstack((X_sparse_10, OHE_features_10))"
   ]
  },
  {
   "cell_type": "code",
   "execution_count": 82,
   "id": "f1d9e7ec",
   "metadata": {},
   "outputs": [
    {
     "data": {
      "text/plain": [
       "(23433, 4953)"
      ]
     },
     "execution_count": 82,
     "metadata": {},
     "output_type": "execute_result"
    }
   ],
   "source": [
    "X_new_10_16_6_test.shape"
   ]
  },
  {
   "cell_type": "code",
   "execution_count": 63,
   "id": "171b495a",
   "metadata": {},
   "outputs": [],
   "source": [
    "X_new_10_16_6 = hstack((X_sparse_10, OHE_features_10, norm_OHE_features_10))"
   ]
  },
  {
   "cell_type": "code",
   "execution_count": 83,
   "id": "041df8dc",
   "metadata": {},
   "outputs": [
    {
     "data": {
      "text/plain": [
       "(23433, 4955)"
      ]
     },
     "execution_count": 83,
     "metadata": {},
     "output_type": "execute_result"
    }
   ],
   "source": [
    "X_new_10_16_6.shape"
   ]
  },
  {
   "cell_type": "markdown",
   "id": "d4bedb4d",
   "metadata": {},
   "source": [
    "Проверим, улучшилось ли значение accuracy после добавления новых признаков. Сначала - на LinearSVC"
   ]
  },
  {
   "cell_type": "code",
   "execution_count": 17,
   "id": "1e0f04db",
   "metadata": {},
   "outputs": [],
   "source": [
    "X_new_train_10_16_6, X_new_test_10_16_6, y_new_train_10_16_6, y_new_test_10_16_6 = \\n\n",
    "train_test_split(X_new_10_16_6, y_sparse_10,  test_size=0.3, random_state=17)"
   ]
  },
  {
   "cell_type": "code",
   "execution_count": 54,
   "id": "09078a63",
   "metadata": {},
   "outputs": [
    {
     "data": {
      "text/plain": [
       "0.7879089615931721"
      ]
     },
     "execution_count": 54,
     "metadata": {},
     "output_type": "execute_result"
    }
   ],
   "source": [
    "accuracy_score(y_new_test_10_16_6, LinearSVC(C=0.05, random_state = 17, multi_class = \"ovr\").fit(X_new_train_10_16_6, y_new_train_10_16_6).predict(X_new_test_10_16_6))"
   ]
  },
  {
   "cell_type": "markdown",
   "id": "8105b054",
   "metadata": {},
   "source": [
    "Стало - 0,788. Было - 0,78. Попробуем изменить коэффициент регуляризации"
   ]
  },
  {
   "cell_type": "code",
   "execution_count": 56,
   "id": "07aa110c",
   "metadata": {},
   "outputs": [
    {
     "name": "stdout",
     "output_type": "stream",
     "text": [
      "Wall time: 27min 24s\n"
     ]
    },
    {
     "data": {
      "text/plain": [
       "GridSearchCV(estimator=LinearSVC(random_state=17),\n",
       "             param_grid={'C': array([0.001     , 0.05357895, 0.10615789, 0.15873684, 0.21131579,\n",
       "       0.26389474, 0.31647368, 0.36905263, 0.42163158, 0.47421053,\n",
       "       0.52678947, 0.57936842, 0.63194737, 0.68452632, 0.73710526,\n",
       "       0.78968421, 0.84226316, 0.89484211, 0.94742105, 1.        ])},\n",
       "             return_train_score=True)"
      ]
     },
     "execution_count": 56,
     "metadata": {},
     "output_type": "execute_result"
    }
   ],
   "source": [
    "%%time\n",
    "svm_params3 = {'C': np.linspace(1e-3, 1, 20)}\n",
    "\n",
    "svm_grid_searcher3 = GridSearchCV(estimator = LinearSVC(random_state = 17), param_grid = svm_params3, return_train_score = True)\n",
    "svm_grid_searcher3.fit(X_new_train_10_16_6, y_new_train_10_16_6)"
   ]
  },
  {
   "cell_type": "markdown",
   "id": "10c5da22",
   "metadata": {},
   "source": [
    "Лучшее значение параметра регуляризации и соответсвующее значение accuracy"
   ]
  },
  {
   "cell_type": "code",
   "execution_count": 20,
   "id": "3e2db59a",
   "metadata": {},
   "outputs": [],
   "source": [
    "GridSearchCV?"
   ]
  },
  {
   "cell_type": "code",
   "execution_count": null,
   "id": "9da70c94",
   "metadata": {},
   "outputs": [],
   "source": [
    "Б"
   ]
  },
  {
   "cell_type": "code",
   "execution_count": 59,
   "id": "1f8cc6ed",
   "metadata": {},
   "outputs": [
    {
     "data": {
      "text/plain": [
       "0.7774170761442452"
      ]
     },
     "execution_count": 59,
     "metadata": {},
     "output_type": "execute_result"
    }
   ],
   "source": [
    "svm_grid_searcher3.best_score_"
   ]
  },
  {
   "cell_type": "markdown",
   "id": "f5f7db15",
   "metadata": {},
   "source": [
    "Лeчшее значение accuracy, полученное на кросс-валидации с помощью svm_grid_searcher2 на 0,007 меньше такового на svm_grid_searcher3. Добавление дополнительных признаков не даёт сльного прироста производительности модели. "
   ]
  },
  {
   "cell_type": "markdown",
   "id": "c4e573f1",
   "metadata": {},
   "source": [
    "При кодировании avg_time_on_Site и session_timestamp с помощью OHE моель теряет в качестве. "
   ]
  },
  {
   "cell_type": "markdown",
   "id": "258f8c24",
   "metadata": {},
   "source": [
    "Проверим, как работает модель на данных по 150 пользователям"
   ]
  },
  {
   "cell_type": "code",
   "execution_count": 67,
   "id": "4520c210",
   "metadata": {},
   "outputs": [],
   "source": [
    "features_new_150 = feature_engineering(r\"E:\\Work\\Project_capstone\\150users\", \n",
    "                                    session_length=16, window_size=6)"
   ]
  },
  {
   "cell_type": "code",
   "execution_count": 68,
   "id": "92ae8572",
   "metadata": {},
   "outputs": [
    {
     "data": {
      "text/html": [
       "<div>\n",
       "<style scoped>\n",
       "    .dataframe tbody tr th:only-of-type {\n",
       "        vertical-align: middle;\n",
       "    }\n",
       "\n",
       "    .dataframe tbody tr th {\n",
       "        vertical-align: top;\n",
       "    }\n",
       "\n",
       "    .dataframe thead th {\n",
       "        text-align: right;\n",
       "    }\n",
       "</style>\n",
       "<table border=\"1\" class=\"dataframe\">\n",
       "  <thead>\n",
       "    <tr style=\"text-align: right;\">\n",
       "      <th></th>\n",
       "      <th>avg_time_on_site</th>\n",
       "      <th>session_timestamp</th>\n",
       "      <th>unique_sites</th>\n",
       "      <th>start_hour</th>\n",
       "      <th>day_of_week</th>\n",
       "    </tr>\n",
       "  </thead>\n",
       "  <tbody>\n",
       "    <tr>\n",
       "      <th>0</th>\n",
       "      <td>10.0</td>\n",
       "      <td>167.0</td>\n",
       "      <td>7.0</td>\n",
       "      <td>8.0</td>\n",
       "      <td>4.0</td>\n",
       "    </tr>\n",
       "    <tr>\n",
       "      <th>1</th>\n",
       "      <td>105.0</td>\n",
       "      <td>1680.0</td>\n",
       "      <td>10.0</td>\n",
       "      <td>8.0</td>\n",
       "      <td>4.0</td>\n",
       "    </tr>\n",
       "    <tr>\n",
       "      <th>2</th>\n",
       "      <td>226.0</td>\n",
       "      <td>3626.0</td>\n",
       "      <td>8.0</td>\n",
       "      <td>8.0</td>\n",
       "      <td>4.0</td>\n",
       "    </tr>\n",
       "    <tr>\n",
       "      <th>3</th>\n",
       "      <td>127.0</td>\n",
       "      <td>2035.0</td>\n",
       "      <td>7.0</td>\n",
       "      <td>8.0</td>\n",
       "      <td>4.0</td>\n",
       "    </tr>\n",
       "    <tr>\n",
       "      <th>4</th>\n",
       "      <td>251.0</td>\n",
       "      <td>4019.0</td>\n",
       "      <td>7.0</td>\n",
       "      <td>8.0</td>\n",
       "      <td>4.0</td>\n",
       "    </tr>\n",
       "    <tr>\n",
       "      <th>...</th>\n",
       "      <td>...</td>\n",
       "      <td>...</td>\n",
       "      <td>...</td>\n",
       "      <td>...</td>\n",
       "      <td>...</td>\n",
       "    </tr>\n",
       "    <tr>\n",
       "      <th>1124</th>\n",
       "      <td>10.0</td>\n",
       "      <td>162.0</td>\n",
       "      <td>14.0</td>\n",
       "      <td>17.0</td>\n",
       "      <td>0.0</td>\n",
       "    </tr>\n",
       "    <tr>\n",
       "      <th>1125</th>\n",
       "      <td>0.0</td>\n",
       "      <td>7.0</td>\n",
       "      <td>13.0</td>\n",
       "      <td>17.0</td>\n",
       "      <td>0.0</td>\n",
       "    </tr>\n",
       "    <tr>\n",
       "      <th>1126</th>\n",
       "      <td>215602.0</td>\n",
       "      <td>3018439.0</td>\n",
       "      <td>14.0</td>\n",
       "      <td>17.0</td>\n",
       "      <td>0.0</td>\n",
       "    </tr>\n",
       "    <tr>\n",
       "      <th>1127</th>\n",
       "      <td>377304.0</td>\n",
       "      <td>3018437.0</td>\n",
       "      <td>9.0</td>\n",
       "      <td>17.0</td>\n",
       "      <td>0.0</td>\n",
       "    </tr>\n",
       "    <tr>\n",
       "      <th>1128</th>\n",
       "      <td>1509217.0</td>\n",
       "      <td>3018435.0</td>\n",
       "      <td>4.0</td>\n",
       "      <td>17.0</td>\n",
       "      <td>0.0</td>\n",
       "    </tr>\n",
       "  </tbody>\n",
       "</table>\n",
       "<p>228317 rows × 5 columns</p>\n",
       "</div>"
      ],
      "text/plain": [
       "      avg_time_on_site  session_timestamp  unique_sites  start_hour  \\\n",
       "0                 10.0              167.0           7.0         8.0   \n",
       "1                105.0             1680.0          10.0         8.0   \n",
       "2                226.0             3626.0           8.0         8.0   \n",
       "3                127.0             2035.0           7.0         8.0   \n",
       "4                251.0             4019.0           7.0         8.0   \n",
       "...                ...                ...           ...         ...   \n",
       "1124              10.0              162.0          14.0        17.0   \n",
       "1125               0.0                7.0          13.0        17.0   \n",
       "1126          215602.0          3018439.0          14.0        17.0   \n",
       "1127          377304.0          3018437.0           9.0        17.0   \n",
       "1128         1509217.0          3018435.0           4.0        17.0   \n",
       "\n",
       "      day_of_week  \n",
       "0             4.0  \n",
       "1             4.0  \n",
       "2             4.0  \n",
       "3             4.0  \n",
       "4             4.0  \n",
       "...           ...  \n",
       "1124          0.0  \n",
       "1125          0.0  \n",
       "1126          0.0  \n",
       "1127          0.0  \n",
       "1128          0.0  \n",
       "\n",
       "[228317 rows x 5 columns]"
      ]
     },
     "execution_count": 68,
     "metadata": {},
     "output_type": "execute_result"
    }
   ],
   "source": [
    "features_new_150 "
   ]
  },
  {
   "cell_type": "code",
   "execution_count": 69,
   "id": "c9caa984",
   "metadata": {},
   "outputs": [],
   "source": [
    "X_sparse_150, y_sparse_150 = prepare_sparse_train_set_window_new(r\"E:\\Work\\Project_capstone\\150users\", r\"E:\\Work\\Project_capstone\\site_freq_150users.pkl\", \n",
    "                                    session_length=16, window_size=6)"
   ]
  },
  {
   "cell_type": "code",
   "execution_count": 70,
   "id": "e899415a",
   "metadata": {},
   "outputs": [],
   "source": [
    "norm_features_150 = scaler.transform(features_new_150.iloc[:, :2])"
   ]
  },
  {
   "cell_type": "code",
   "execution_count": 71,
   "id": "bc92e8a3",
   "metadata": {},
   "outputs": [],
   "source": [
    "OHE_features_150 = onehot_encoder.transform(features_new_150.iloc[:, 2:])"
   ]
  },
  {
   "cell_type": "code",
   "execution_count": 74,
   "id": "42ca68ac",
   "metadata": {},
   "outputs": [],
   "source": [
    "X_new_150_16_6 = hstack((X_sparse_150, OHE_features_150, norm_features_150))"
   ]
  },
  {
   "cell_type": "code",
   "execution_count": 75,
   "id": "77446a66",
   "metadata": {},
   "outputs": [],
   "source": [
    "X_new_train_150_16_6, X_new_test_150_16_6, y_new_train_150_16_6, y_new_test_150_16_6 = train_test_split(X_new_150_16_6, y_sparse_150,  test_size=0.3, random_state=17)"
   ]
  },
  {
   "cell_type": "code",
   "execution_count": 76,
   "id": "aaafd17e",
   "metadata": {},
   "outputs": [
    {
     "data": {
      "text/plain": [
       "0.6832223779490774"
      ]
     },
     "execution_count": 76,
     "metadata": {},
     "output_type": "execute_result"
    }
   ],
   "source": [
    "accuracy_score(y_new_test_150_16_6, LinearSVC(C=0.05, random_state = 17, multi_class = \"ovr\").fit(X_new_train_150_16_6, y_new_train_150_16_6).predict(X_new_test_150_16_6))"
   ]
  },
  {
   "cell_type": "code",
   "execution_count": 77,
   "id": "33b8f8dc",
   "metadata": {},
   "outputs": [
    {
     "name": "stdout",
     "output_type": "stream",
     "text": [
      "Wall time: 9h 11min 5s\n"
     ]
    },
    {
     "data": {
      "text/plain": [
       "GridSearchCV(estimator=LinearSVC(random_state=17),\n",
       "             param_grid={'C': array([0.001     , 0.05357895, 0.10615789, 0.15873684, 0.21131579,\n",
       "       0.26389474, 0.31647368, 0.36905263, 0.42163158, 0.47421053,\n",
       "       0.52678947, 0.57936842, 0.63194737, 0.68452632, 0.73710526,\n",
       "       0.78968421, 0.84226316, 0.89484211, 0.94742105, 1.        ])},\n",
       "             return_train_score=True)"
      ]
     },
     "execution_count": 77,
     "metadata": {},
     "output_type": "execute_result"
    }
   ],
   "source": [
    "%%time\n",
    "svm_params4 = {'C': np.linspace(1e-3, 1, 20)}\n",
    "\n",
    "svm_grid_searcher3 = GridSearchCV(estimator = LinearSVC(random_state = 17), param_grid = svm_params4, return_train_score = True)\n",
    "svm_grid_searcher3.fit(X_new_train_150_16_6, y_new_train_150_16_6)"
   ]
  },
  {
   "cell_type": "markdown",
   "id": "4aae8f43",
   "metadata": {},
   "source": [
    "тестирование модели, обученной при помощи новых признаков на новой выорке по 150 пользователям показало большую точность в сравнении с моделью, обученной исключительно на X_sparse и моделю с новыми ппризнаками, обученной на данных по 10 пользователям "
   ]
  },
  {
   "cell_type": "code",
   "execution_count": 78,
   "id": "315b5d0b",
   "metadata": {},
   "outputs": [
    {
     "data": {
      "text/plain": [
       "0.6874378314270848"
      ]
     },
     "execution_count": 78,
     "metadata": {},
     "output_type": "execute_result"
    }
   ],
   "source": [
    "svm_grid_searcher3.best_score_"
   ]
  },
  {
   "cell_type": "markdown",
   "id": "34c6f77b",
   "metadata": {},
   "source": [
    "Лучшее значение коэффициента регуляризации на кросс-валидации по данным по 150 пользователям с добавлением новых признаков составляет 0.3164736842105263"
   ]
  },
  {
   "cell_type": "markdown",
   "id": "b40ca117",
   "metadata": {},
   "source": [
    "Выводы:\n",
    "- Получена модель, способная с высокой точчностью идентифицировать пользователя среди прочих\n",
    "- Оптимальная длина сессии, которую можно использовать для обучения составляет 16, а ширина окна - 6\n",
    "- Лучше всего в данной задаче себя показала логистическая регрессия и SVM\n",
    "- Добавление признаков помимо перечисления сайтов в определённом порядкев в рамках каждой из сессий даёт незначительный прирост в качестве\n",
    "- Добавление большего числа данных не должно значительно улучшить качество предсказательной модели"
   ]
  }
 ],
 "metadata": {
  "kernelspec": {
   "display_name": "Python 3 (ipykernel)",
   "language": "python",
   "name": "python3"
  },
  "language_info": {
   "codemirror_mode": {
    "name": "ipython",
    "version": 3
   },
   "file_extension": ".py",
   "mimetype": "text/x-python",
   "name": "python",
   "nbconvert_exporter": "python",
   "pygments_lexer": "ipython3",
   "version": "3.9.7"
  }
 },
 "nbformat": 4,
 "nbformat_minor": 5
}
